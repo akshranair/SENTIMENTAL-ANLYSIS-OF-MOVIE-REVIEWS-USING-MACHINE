{
 "cells": [
  {
   "cell_type": "code",
   "execution_count": 1,
   "id": "51ed57cf",
   "metadata": {},
   "outputs": [],
   "source": [
    "import pandas as pd\n",
    "import seaborn as sns\n",
    "import re\n",
    "import nltk\n",
    "from nltk.corpus import stopwords\n",
    "from nltk.tokenize import RegexpTokenizer\n",
    "from nltk.tokenize import sent_tokenize, word_tokenize\n",
    "from nltk.stem.snowball import SnowballStemmer\n",
    "import numpy as np\n",
    "import matplotlib.pyplot as plt\n",
    "import numpy as np"
   ]
  },
  {
   "cell_type": "code",
   "execution_count": 2,
   "id": "88218c8e",
   "metadata": {},
   "outputs": [],
   "source": [
    "data = pd.read_csv('IMDB Dataset.csv')"
   ]
  },
  {
   "cell_type": "code",
   "execution_count": 3,
   "id": "639db23e",
   "metadata": {},
   "outputs": [
    {
     "data": {
      "text/html": [
       "<div>\n",
       "<style scoped>\n",
       "    .dataframe tbody tr th:only-of-type {\n",
       "        vertical-align: middle;\n",
       "    }\n",
       "\n",
       "    .dataframe tbody tr th {\n",
       "        vertical-align: top;\n",
       "    }\n",
       "\n",
       "    .dataframe thead th {\n",
       "        text-align: right;\n",
       "    }\n",
       "</style>\n",
       "<table border=\"1\" class=\"dataframe\">\n",
       "  <thead>\n",
       "    <tr style=\"text-align: right;\">\n",
       "      <th></th>\n",
       "      <th>review</th>\n",
       "      <th>sentiment</th>\n",
       "    </tr>\n",
       "  </thead>\n",
       "  <tbody>\n",
       "    <tr>\n",
       "      <th>0</th>\n",
       "      <td>One of the other reviewers has mentioned that ...</td>\n",
       "      <td>positive</td>\n",
       "    </tr>\n",
       "    <tr>\n",
       "      <th>1</th>\n",
       "      <td>A wonderful little production. &lt;br /&gt;&lt;br /&gt;The...</td>\n",
       "      <td>positive</td>\n",
       "    </tr>\n",
       "    <tr>\n",
       "      <th>2</th>\n",
       "      <td>I thought this was a wonderful way to spend ti...</td>\n",
       "      <td>positive</td>\n",
       "    </tr>\n",
       "    <tr>\n",
       "      <th>3</th>\n",
       "      <td>Basically there's a family where a little boy ...</td>\n",
       "      <td>negative</td>\n",
       "    </tr>\n",
       "    <tr>\n",
       "      <th>4</th>\n",
       "      <td>Petter Mattei's \"Love in the Time of Money\" is...</td>\n",
       "      <td>positive</td>\n",
       "    </tr>\n",
       "  </tbody>\n",
       "</table>\n",
       "</div>"
      ],
      "text/plain": [
       "                                              review sentiment\n",
       "0  One of the other reviewers has mentioned that ...  positive\n",
       "1  A wonderful little production. <br /><br />The...  positive\n",
       "2  I thought this was a wonderful way to spend ti...  positive\n",
       "3  Basically there's a family where a little boy ...  negative\n",
       "4  Petter Mattei's \"Love in the Time of Money\" is...  positive"
      ]
     },
     "execution_count": 3,
     "metadata": {},
     "output_type": "execute_result"
    }
   ],
   "source": [
    "data.head()"
   ]
  },
  {
   "cell_type": "code",
   "execution_count": 4,
   "id": "99e04eff",
   "metadata": {},
   "outputs": [
    {
     "data": {
      "text/plain": [
       "(50000, 2)"
      ]
     },
     "execution_count": 4,
     "metadata": {},
     "output_type": "execute_result"
    }
   ],
   "source": [
    "data.shape"
   ]
  },
  {
   "cell_type": "code",
   "execution_count": 5,
   "id": "f4d9a597",
   "metadata": {},
   "outputs": [
    {
     "data": {
      "text/html": [
       "<div>\n",
       "<style scoped>\n",
       "    .dataframe tbody tr th:only-of-type {\n",
       "        vertical-align: middle;\n",
       "    }\n",
       "\n",
       "    .dataframe tbody tr th {\n",
       "        vertical-align: top;\n",
       "    }\n",
       "\n",
       "    .dataframe thead th {\n",
       "        text-align: right;\n",
       "    }\n",
       "</style>\n",
       "<table border=\"1\" class=\"dataframe\">\n",
       "  <thead>\n",
       "    <tr style=\"text-align: right;\">\n",
       "      <th></th>\n",
       "      <th>review</th>\n",
       "      <th>sentiment</th>\n",
       "    </tr>\n",
       "  </thead>\n",
       "  <tbody>\n",
       "    <tr>\n",
       "      <th>count</th>\n",
       "      <td>50000</td>\n",
       "      <td>50000</td>\n",
       "    </tr>\n",
       "    <tr>\n",
       "      <th>unique</th>\n",
       "      <td>49582</td>\n",
       "      <td>2</td>\n",
       "    </tr>\n",
       "    <tr>\n",
       "      <th>top</th>\n",
       "      <td>Loved today's show!!! It was a variety and not...</td>\n",
       "      <td>negative</td>\n",
       "    </tr>\n",
       "    <tr>\n",
       "      <th>freq</th>\n",
       "      <td>5</td>\n",
       "      <td>25000</td>\n",
       "    </tr>\n",
       "  </tbody>\n",
       "</table>\n",
       "</div>"
      ],
      "text/plain": [
       "                                                   review sentiment\n",
       "count                                               50000     50000\n",
       "unique                                              49582         2\n",
       "top     Loved today's show!!! It was a variety and not...  negative\n",
       "freq                                                    5     25000"
      ]
     },
     "execution_count": 5,
     "metadata": {},
     "output_type": "execute_result"
    }
   ],
   "source": [
    "data.describe()"
   ]
  },
  {
   "cell_type": "code",
   "execution_count": 6,
   "id": "1a05a44b",
   "metadata": {},
   "outputs": [
    {
     "data": {
      "text/plain": [
       "review       0\n",
       "sentiment    0\n",
       "dtype: int64"
      ]
     },
     "execution_count": 6,
     "metadata": {},
     "output_type": "execute_result"
    }
   ],
   "source": [
    "data.isnull().sum()"
   ]
  },
  {
   "cell_type": "markdown",
   "id": "a84c0a70",
   "metadata": {},
   "source": [
    "#### Result before cleaning"
   ]
  },
  {
   "cell_type": "code",
   "execution_count": 7,
   "id": "f2b70ed0",
   "metadata": {},
   "outputs": [
    {
     "data": {
      "text/plain": [
       "'A wonderful little production. <br /><br />The filming technique is very unassuming- very old-time-BBC fashion and gives a comforting, and sometimes discomforting, sense of realism to the entire piece. <br /><br />The actors are extremely well chosen- Michael Sheen not only \"has got all the polari\" but he has all the voices down pat too! You can truly see the seamless editing guided by the references to Williams\\' diary entries, not only is it well worth the watching but it is a terrificly written and performed piece. A masterful production about one of the great master\\'s of comedy and his life. <br /><br />The realism really comes home with the little things: the fantasy of the guard which, rather than use the traditional \\'dream\\' techniques remains solid then disappears. It plays on our knowledge and our senses, particularly with the scenes concerning Orton and Halliwell and the sets (particularly of their flat with Halliwell\\'s murals decorating every surface) are terribly well done.'"
      ]
     },
     "execution_count": 7,
     "metadata": {},
     "output_type": "execute_result"
    }
   ],
   "source": [
    "data['review'][1]"
   ]
  },
  {
   "cell_type": "markdown",
   "id": "157a2264",
   "metadata": {},
   "source": [
    "# Text CLeaning\n",
    "\n",
    "### we need to remove special characters\n",
    "### We need to filter out the stop words\n",
    "### we need to split the text into tokens"
   ]
  },
  {
   "cell_type": "code",
   "execution_count": 8,
   "id": "31e2f84d",
   "metadata": {},
   "outputs": [],
   "source": [
    "#using re.compile pattenstring is converted to patten objects\n",
    "no_space = re.compile(\"[.;:!\\'?,\\\"()\\[\\]]\")\n",
    "space = re.compile(\"(<br\\s*/><br\\s*/>)|(\\-)|(\\/)\")\n",
    "\n",
    "##array of stopwords\n",
    "stop_words = (stopwords.words('english'))\n",
    "\n",
    "\n",
    "#to tokenize using regular expression method\n",
    "tokenizer=RegexpTokenizer(r'\\w+')\n",
    "\n",
    "stemmer = SnowballStemmer(language='english')\n",
    "\n",
    "#words are reduced to its root form using stemming method\n",
    "\n",
    "\n",
    "def data_cleaning(review):\n",
    "    clean_review = review.lower() #converted each letter to lower case\n",
    "    clean_review = no_space.sub(\"\",review) # all special character beloning to no_space objects replaced by \"\"\n",
    "    clean_review = space.sub(\"\",review) # all special character beloning to space objects replaced by \" \"\n",
    "    tokens = tokenizer.tokenize(clean_review)\n",
    "    clean_tokens =[]\n",
    "    \n",
    "    #stemming is done to reduce word to its root form\n",
    "    for token in tokens:\n",
    "        if token not in stop_words:\n",
    "            clean_tokens.append(token)\n",
    "    \n",
    "    stem_tokens=[]\n",
    "    \n",
    "    for token in clean_tokens:\n",
    "        stem_tokens.append(stemmer.stem(token))\n",
    "        \n",
    "    clean_review=' '.join(stem_tokens)\n",
    "\n",
    "        \n",
    "    return clean_review"
   ]
  },
  {
   "cell_type": "markdown",
   "id": "275ad901",
   "metadata": {},
   "source": [
    "#### Result after cleaning"
   ]
  },
  {
   "cell_type": "code",
   "execution_count": 9,
   "id": "fdac9841",
   "metadata": {},
   "outputs": [
    {
     "data": {
      "text/plain": [
       "'a wonder littl product the film techniqu unassum oldtimebbc fashion give comfort sometim discomfort sens realism entir piec the actor extrem well chosen michael sheen got polari voic pat you truli see seamless edit guid refer william diari entri well worth watch terrif written perform piec a master product one great master comedi life the realism realli come home littl thing fantasi guard rather use tradit dream techniqu remain solid disappear it play knowledg sens particular scene concern orton halliwel set particular flat halliwel mural decor everi surfac terribl well done'"
      ]
     },
     "execution_count": 9,
     "metadata": {},
     "output_type": "execute_result"
    }
   ],
   "source": [
    "data_cleaning(data['review'][1])"
   ]
  },
  {
   "cell_type": "code",
   "execution_count": 10,
   "id": "d668d67d",
   "metadata": {},
   "outputs": [
    {
     "data": {
      "text/plain": [
       "0        one review mention watch 1 oz episod hook they...\n",
       "1        a wonder littl product the film techniqu unass...\n",
       "2        i thought wonder way spend time hot summer wee...\n",
       "3        basic famili littl boy jake think zombi closet...\n",
       "4        petter mattei love time money visual stun film...\n",
       "                               ...                        \n",
       "49995    i thought movi right good job it creativ origi...\n",
       "49996    bad plot bad dialogu bad act idiot direct anno...\n",
       "49997    i cathol taught parochi elementari school nun ...\n",
       "49998    i go disagre previous comment side maltin one ...\n",
       "49999    no one expect star trek movi high art fan expe...\n",
       "Name: review, Length: 50000, dtype: object"
      ]
     },
     "execution_count": 10,
     "metadata": {},
     "output_type": "execute_result"
    }
   ],
   "source": [
    "data['review'].apply(data_cleaning)"
   ]
  },
  {
   "cell_type": "markdown",
   "id": "ede980f1",
   "metadata": {},
   "source": [
    "### Splitting train and test set"
   ]
  },
  {
   "cell_type": "code",
   "execution_count": 11,
   "id": "3c144d2d",
   "metadata": {},
   "outputs": [],
   "source": [
    "train_reviews=data.review[:40000]\n",
    "train_sentiments=data.sentiment[:40000]"
   ]
  },
  {
   "cell_type": "code",
   "execution_count": 12,
   "id": "dfccfd72",
   "metadata": {},
   "outputs": [],
   "source": [
    "test_reviews=data.review[40000:]\n",
    "test_sentiments=data.sentiment[40000:]"
   ]
  },
  {
   "cell_type": "markdown",
   "id": "5f165901",
   "metadata": {},
   "source": [
    "## Binary vectorization\n",
    "\n",
    "###### Binary Term Frequency captures presence (1) or absence (0) of term in document"
   ]
  },
  {
   "cell_type": "code",
   "execution_count": 13,
   "id": "7bc5036e",
   "metadata": {},
   "outputs": [
    {
     "data": {
      "text/plain": [
       "CountVectorizer(binary=True)"
      ]
     },
     "execution_count": 13,
     "metadata": {},
     "output_type": "execute_result"
    }
   ],
   "source": [
    "from sklearn.feature_extraction.text import CountVectorizer\n",
    "cv = CountVectorizer(binary=True)\n",
    "cv.fit(train_reviews)\n"
   ]
  },
  {
   "cell_type": "code",
   "execution_count": 14,
   "id": "da825922",
   "metadata": {},
   "outputs": [],
   "source": [
    "train_reviews = cv.transform(train_reviews)\n",
    "test_reviews = cv.transform(test_reviews)"
   ]
  },
  {
   "cell_type": "markdown",
   "id": "a1d62252",
   "metadata": {},
   "source": [
    "## Logistic Regression Model"
   ]
  },
  {
   "cell_type": "code",
   "execution_count": 15,
   "id": "e84e4d8d",
   "metadata": {},
   "outputs": [
    {
     "data": {
      "text/plain": [
       "RandomForestClassifier()"
      ]
     },
     "execution_count": 15,
     "metadata": {},
     "output_type": "execute_result"
    }
   ],
   "source": [
    "from sklearn.ensemble import RandomForestClassifier\n",
    "\n",
    "rf = RandomForestClassifier()\n",
    "rf.fit(train_reviews,train_sentiments)"
   ]
  },
  {
   "cell_type": "code",
   "execution_count": null,
   "id": "8c5dd6db",
   "metadata": {},
   "outputs": [],
   "source": []
  },
  {
   "cell_type": "code",
   "execution_count": 16,
   "id": "7d92349a",
   "metadata": {},
   "outputs": [],
   "source": [
    "Y_predict = rf.predict(test_reviews)\n",
    "Y_proba = rf.predict_proba(test_reviews)"
   ]
  },
  {
   "cell_type": "code",
   "execution_count": 17,
   "id": "436ab792",
   "metadata": {},
   "outputs": [],
   "source": [
    "from sklearn.metrics import confusion_matrix"
   ]
  },
  {
   "cell_type": "code",
   "execution_count": 18,
   "id": "359eecf1",
   "metadata": {},
   "outputs": [],
   "source": [
    "cf_matrix=confusion_matrix(test_sentiments, Y_predict)"
   ]
  },
  {
   "cell_type": "markdown",
   "id": "81882ccd",
   "metadata": {},
   "source": [
    "### visualizing confusion matrix"
   ]
  },
  {
   "cell_type": "code",
   "execution_count": 19,
   "id": "f3acd898",
   "metadata": {},
   "outputs": [
    {
     "data": {
      "text/plain": [
       "<AxesSubplot:>"
      ]
     },
     "execution_count": 19,
     "metadata": {},
     "output_type": "execute_result"
    },
    {
     "data": {
      "image/png": "[encoded data removed]",
      "text/plain": [
       "<Figure size 432x288 with 2 Axes>"
      ]
     },
     "metadata": {
      "needs_background": "light"
     },
     "output_type": "display_data"
    }
   ],
   "source": [
    "sns.heatmap(cf_matrix/np.sum(cf_matrix), annot=True, fmt='.2%', cmap='plasma')"
   ]
  },
  {
   "cell_type": "markdown",
   "id": "46e02b73",
   "metadata": {},
   "source": [
    "#### precision- recall"
   ]
  },
  {
   "cell_type": "code",
   "execution_count": 20,
   "id": "c89e30b0",
   "metadata": {},
   "outputs": [
    {
     "data": {
      "text/plain": [
       "0.8565366740755708"
      ]
     },
     "execution_count": 20,
     "metadata": {},
     "output_type": "execute_result"
    }
   ],
   "source": [
    "from sklearn.metrics import precision_score, recall_score\n",
    "precision_score(test_sentiments, Y_predict,average=\"binary\", pos_label=\"positive\")"
   ]
  },
  {
   "cell_type": "code",
   "execution_count": 21,
   "id": "8f6b84f1",
   "metadata": {},
   "outputs": [
    {
     "data": {
      "text/plain": [
       "0.8466147393648892"
      ]
     },
     "execution_count": 21,
     "metadata": {},
     "output_type": "execute_result"
    }
   ],
   "source": [
    "recall_score(test_sentiments, Y_predict,average=\"binary\", pos_label=\"positive\")"
   ]
  },
  {
   "cell_type": "code",
   "execution_count": 22,
   "id": "2a1aa58a",
   "metadata": {},
   "outputs": [
    {
     "data": {
      "text/plain": [
       "0.8515468059461632"
      ]
     },
     "execution_count": 22,
     "metadata": {},
     "output_type": "execute_result"
    }
   ],
   "source": [
    "from sklearn.metrics import f1_score\n",
    "f1_score(test_sentiments, Y_predict,average=\"binary\", pos_label=\"positive\")"
   ]
  },
  {
   "cell_type": "code",
   "execution_count": null,
   "id": "5b260d81",
   "metadata": {},
   "outputs": [],
   "source": []
  },
  {
   "cell_type": "code",
   "execution_count": 23,
   "id": "d9c09929",
   "metadata": {},
   "outputs": [],
   "source": [
    "from sklearn.metrics import classification_report"
   ]
  },
  {
   "cell_type": "code",
   "execution_count": 24,
   "id": "e790e671",
   "metadata": {},
   "outputs": [],
   "source": [
    "cr = classification_report(test_sentiments,Y_predict,target_names=['Positive','Negative'])"
   ]
  },
  {
   "cell_type": "code",
   "execution_count": 25,
   "id": "c406538f",
   "metadata": {},
   "outputs": [
    {
     "name": "stdout",
     "output_type": "stream",
     "text": [
      "              precision    recall  f1-score   support\n",
      "\n",
      "    Positive       0.85      0.86      0.85      4993\n",
      "    Negative       0.86      0.85      0.85      5007\n",
      "\n",
      "    accuracy                           0.85     10000\n",
      "   macro avg       0.85      0.85      0.85     10000\n",
      "weighted avg       0.85      0.85      0.85     10000\n",
      "\n"
     ]
    }
   ],
   "source": [
    "print(cr)"
   ]
  },
  {
   "cell_type": "code",
   "execution_count": 26,
   "id": "810992bd",
   "metadata": {},
   "outputs": [
    {
     "data": {
      "text/plain": [
       "<1x92887 sparse matrix of type '<class 'numpy.int64'>'\n",
       "\twith 186 stored elements in Compressed Sparse Row format>"
      ]
     },
     "execution_count": 26,
     "metadata": {},
     "output_type": "execute_result"
    }
   ],
   "source": [
    "train_reviews[0]"
   ]
  },
  {
   "cell_type": "code",
   "execution_count": null,
   "id": "0dd4f3ec",
   "metadata": {},
   "outputs": [],
   "source": []
  },
  {
   "cell_type": "code",
   "execution_count": null,
   "id": "b891b7bf",
   "metadata": {},
   "outputs": [],
   "source": []
  },
  {
   "cell_type": "code",
   "execution_count": null,
   "id": "6716ebc6",
   "metadata": {},
   "outputs": [],
   "source": []
  },
  {
   "cell_type": "code",
   "execution_count": 27,
   "id": "06a830b5",
   "metadata": {},
   "outputs": [
    {
     "data": {
      "text/plain": [
       "<bound method CountVectorizer.get_feature_names of CountVectorizer(binary=True)>"
      ]
     },
     "execution_count": 27,
     "metadata": {},
     "output_type": "execute_result"
    }
   ],
   "source": [
    "cv.get_feature_names"
   ]
  },
  {
   "cell_type": "code",
   "execution_count": 28,
   "id": "6a32ff29",
   "metadata": {},
   "outputs": [
    {
     "ename": "NameError",
     "evalue": "name 'log_reg' is not defined",
     "output_type": "error",
     "traceback": [
      "\u001b[1;31m---------------------------------------------------------------------------\u001b[0m",
      "\u001b[1;31mNameError\u001b[0m                                 Traceback (most recent call last)",
      "\u001b[1;32m<ipython-input-28-319b3365b7f7>\u001b[0m in \u001b[0;36m<module>\u001b[1;34m\u001b[0m\n\u001b[0;32m      1\u001b[0m feature_to_coef = {\n\u001b[1;32m----> 2\u001b[1;33m     \u001b[0mword\u001b[0m \u001b[1;33m:\u001b[0m \u001b[0mcoef\u001b[0m \u001b[1;32mfor\u001b[0m \u001b[0mword\u001b[0m\u001b[1;33m,\u001b[0m \u001b[0mcoef\u001b[0m \u001b[1;32min\u001b[0m \u001b[0mzip\u001b[0m\u001b[1;33m(\u001b[0m\u001b[0mcv\u001b[0m\u001b[1;33m.\u001b[0m\u001b[0mget_feature_names\u001b[0m\u001b[1;33m(\u001b[0m\u001b[1;33m)\u001b[0m\u001b[1;33m,\u001b[0m \u001b[0mlog_reg\u001b[0m\u001b[1;33m.\u001b[0m\u001b[0mcoef_\u001b[0m\u001b[1;33m[\u001b[0m\u001b[1;36m0\u001b[0m\u001b[1;33m]\u001b[0m\u001b[1;33m)\u001b[0m\u001b[1;33m\u001b[0m\u001b[1;33m\u001b[0m\u001b[0m\n\u001b[0m\u001b[0;32m      3\u001b[0m }\n",
      "\u001b[1;31mNameError\u001b[0m: name 'log_reg' is not defined"
     ]
    }
   ],
   "source": [
    "feature_to_coef = {\n",
    "    word : coef for word, coef in zip(cv.get_feature_names(), log_reg.coef_[0])\n",
    "}"
   ]
  },
  {
   "cell_type": "code",
   "execution_count": null,
   "id": "691868ce",
   "metadata": {},
   "outputs": [],
   "source": [
    "feature_to_coef"
   ]
  },
  {
   "cell_type": "code",
   "execution_count": null,
   "id": "22810679",
   "metadata": {},
   "outputs": [],
   "source": [
    "log_reg.coef_[0]"
   ]
  },
  {
   "cell_type": "code",
   "execution_count": null,
   "id": "b167a88c",
   "metadata": {},
   "outputs": [],
   "source": [
    "for best_positive in sorted(\n",
    "        feature_to_coef.items(),\n",
    "        key=lambda x: x[1],\n",
    "        reverse=True)[:5]:\n",
    "    print(best_positive)"
   ]
  },
  {
   "cell_type": "code",
   "execution_count": null,
   "id": "bc33cf08",
   "metadata": {},
   "outputs": [],
   "source": []
  },
  {
   "cell_type": "code",
   "execution_count": null,
   "id": "e4046fb6",
   "metadata": {},
   "outputs": [],
   "source": []
  },
  {
   "cell_type": "code",
   "execution_count": null,
   "id": "1610ec61",
   "metadata": {},
   "outputs": [],
   "source": []
  },
  {
   "cell_type": "code",
   "execution_count": null,
   "id": "a545a24a",
   "metadata": {},
   "outputs": [],
   "source": []
  },
  {
   "cell_type": "code",
   "execution_count": 29,
   "id": "361ccdb8",
   "metadata": {},
   "outputs": [],
   "source": [
    "#Randomized search CV\n",
    "\n",
    "#number of trees in random forest \n",
    "n_estimators = [int(x) for x in np.linspace(start = 100, stop = 1200, num = 12)]\n",
    "\n",
    "#number of features to consider at every split\n",
    "max_features = ['auto', 'sqrt']\n",
    "\n",
    "#Maximum number of levels in tree\n",
    "max_depth = [int(x) for x in np.linspace(5, 30, num = 6)]\n",
    "\n",
    "min_samples_split = [2, 5, 10, 15, 100]\n",
    "\n",
    "min_samples_leaf = [1,2,5,10]\n"
   ]
  },
  {
   "cell_type": "code",
   "execution_count": 30,
   "id": "4077bd28",
   "metadata": {},
   "outputs": [],
   "source": [
    "from sklearn.model_selection import RandomizedSearchCV"
   ]
  },
  {
   "cell_type": "code",
   "execution_count": 31,
   "id": "038e9ae3",
   "metadata": {},
   "outputs": [],
   "source": [
    "random_grid = {'n_estimators': n_estimators,\n",
    "              'max_features': max_features,\n",
    "              'max_depth': max_depth,\n",
    "              'min_samples_split': min_samples_split,\n",
    "              'min_samples_leaf': min_samples_leaf}"
   ]
  },
  {
   "cell_type": "code",
   "execution_count": 32,
   "id": "018aaa91",
   "metadata": {},
   "outputs": [],
   "source": [
    "rf_random = RandomizedSearchCV(estimator= rf, param_distributions=random_grid, scoring='neg_mean_squared_error', n_iter=10, cv = 5, verbose = 2, random_state=42, n_jobs=1) "
   ]
  },
  {
   "cell_type": "code",
   "execution_count": 33,
   "id": "1b63a0c5",
   "metadata": {},
   "outputs": [
    {
     "name": "stdout",
     "output_type": "stream",
     "text": [
      "Fitting 5 folds for each of 10 candidates, totalling 50 fits\n"
     ]
    },
    {
     "name": "stderr",
     "output_type": "stream",
     "text": [
      "c:\\users\\ammu\\anaconda3\\envs\\penv1\\lib\\site-packages\\sklearn\\model_selection\\_validation.py:700: UserWarning: Scoring failed. The score on this train-test partition for these parameters will be set to nan. Details: \n",
      "Traceback (most recent call last):\n",
      "  File \"c:\\users\\ammu\\anaconda3\\envs\\penv1\\lib\\site-packages\\sklearn\\model_selection\\_validation.py\", line 687, in _score\n",
      "    scores = scorer(estimator, X_test, y_test)\n",
      "  File \"c:\\users\\ammu\\anaconda3\\envs\\penv1\\lib\\site-packages\\sklearn\\metrics\\_scorer.py\", line 200, in __call__\n",
      "    sample_weight=sample_weight)\n",
      "  File \"c:\\users\\ammu\\anaconda3\\envs\\penv1\\lib\\site-packages\\sklearn\\metrics\\_scorer.py\", line 243, in _score\n",
      "    **self._kwargs)\n",
      "  File \"c:\\users\\ammu\\anaconda3\\envs\\penv1\\lib\\site-packages\\sklearn\\utils\\validation.py\", line 63, in inner_f\n",
      "    return f(*args, **kwargs)\n",
      "  File \"c:\\users\\ammu\\anaconda3\\envs\\penv1\\lib\\site-packages\\sklearn\\metrics\\_regression.py\", line 336, in mean_squared_error\n",
      "    y_true, y_pred, multioutput)\n",
      "  File \"c:\\users\\ammu\\anaconda3\\envs\\penv1\\lib\\site-packages\\sklearn\\metrics\\_regression.py\", line 89, in _check_reg_targets\n",
      "    y_true = check_array(y_true, ensure_2d=False, dtype=dtype)\n",
      "  File \"c:\\users\\ammu\\anaconda3\\envs\\penv1\\lib\\site-packages\\sklearn\\utils\\validation.py\", line 63, in inner_f\n",
      "    return f(*args, **kwargs)\n",
      "  File \"c:\\users\\ammu\\anaconda3\\envs\\penv1\\lib\\site-packages\\sklearn\\utils\\validation.py\", line 673, in check_array\n",
      "    array = np.asarray(array, order=order, dtype=dtype)\n",
      "  File \"c:\\users\\ammu\\anaconda3\\envs\\penv1\\lib\\site-packages\\numpy\\core\\_asarray.py\", line 102, in asarray\n",
      "    return array(a, dtype, copy=False, order=order)\n",
      "  File \"c:\\users\\ammu\\anaconda3\\envs\\penv1\\lib\\site-packages\\pandas\\core\\series.py\", line 768, in __array__\n",
      "    return np.asarray(self.array, dtype)\n",
      "  File \"c:\\users\\ammu\\anaconda3\\envs\\penv1\\lib\\site-packages\\numpy\\core\\_asarray.py\", line 102, in asarray\n",
      "    return array(a, dtype, copy=False, order=order)\n",
      "  File \"c:\\users\\ammu\\anaconda3\\envs\\penv1\\lib\\site-packages\\pandas\\core\\arrays\\numpy_.py\", line 203, in __array__\n",
      "    return np.asarray(self._ndarray, dtype=dtype)\n",
      "  File \"c:\\users\\ammu\\anaconda3\\envs\\penv1\\lib\\site-packages\\numpy\\core\\_asarray.py\", line 102, in asarray\n",
      "    return array(a, dtype, copy=False, order=order)\n",
      "ValueError: could not convert string to float: 'positive'\n",
      "\n",
      "  UserWarning,\n"
     ]
    },
    {
     "name": "stdout",
     "output_type": "stream",
     "text": [
      "[CV] END max_depth=10, max_features=sqrt, min_samples_leaf=5, min_samples_split=5, n_estimators=900; total time= 1.3min\n"
     ]
    },
    {
     "name": "stderr",
     "output_type": "stream",
     "text": [
      "c:\\users\\ammu\\anaconda3\\envs\\penv1\\lib\\site-packages\\sklearn\\model_selection\\_validation.py:700: UserWarning: Scoring failed. The score on this train-test partition for these parameters will be set to nan. Details: \n",
      "Traceback (most recent call last):\n",
      "  File \"c:\\users\\ammu\\anaconda3\\envs\\penv1\\lib\\site-packages\\sklearn\\model_selection\\_validation.py\", line 687, in _score\n",
      "    scores = scorer(estimator, X_test, y_test)\n",
      "  File \"c:\\users\\ammu\\anaconda3\\envs\\penv1\\lib\\site-packages\\sklearn\\metrics\\_scorer.py\", line 200, in __call__\n",
      "    sample_weight=sample_weight)\n",
      "  File \"c:\\users\\ammu\\anaconda3\\envs\\penv1\\lib\\site-packages\\sklearn\\metrics\\_scorer.py\", line 243, in _score\n",
      "    **self._kwargs)\n",
      "  File \"c:\\users\\ammu\\anaconda3\\envs\\penv1\\lib\\site-packages\\sklearn\\utils\\validation.py\", line 63, in inner_f\n",
      "    return f(*args, **kwargs)\n",
      "  File \"c:\\users\\ammu\\anaconda3\\envs\\penv1\\lib\\site-packages\\sklearn\\metrics\\_regression.py\", line 336, in mean_squared_error\n",
      "    y_true, y_pred, multioutput)\n",
      "  File \"c:\\users\\ammu\\anaconda3\\envs\\penv1\\lib\\site-packages\\sklearn\\metrics\\_regression.py\", line 89, in _check_reg_targets\n",
      "    y_true = check_array(y_true, ensure_2d=False, dtype=dtype)\n",
      "  File \"c:\\users\\ammu\\anaconda3\\envs\\penv1\\lib\\site-packages\\sklearn\\utils\\validation.py\", line 63, in inner_f\n",
      "    return f(*args, **kwargs)\n",
      "  File \"c:\\users\\ammu\\anaconda3\\envs\\penv1\\lib\\site-packages\\sklearn\\utils\\validation.py\", line 673, in check_array\n",
      "    array = np.asarray(array, order=order, dtype=dtype)\n",
      "  File \"c:\\users\\ammu\\anaconda3\\envs\\penv1\\lib\\site-packages\\numpy\\core\\_asarray.py\", line 102, in asarray\n",
      "    return array(a, dtype, copy=False, order=order)\n",
      "  File \"c:\\users\\ammu\\anaconda3\\envs\\penv1\\lib\\site-packages\\pandas\\core\\series.py\", line 768, in __array__\n",
      "    return np.asarray(self.array, dtype)\n",
      "  File \"c:\\users\\ammu\\anaconda3\\envs\\penv1\\lib\\site-packages\\numpy\\core\\_asarray.py\", line 102, in asarray\n",
      "    return array(a, dtype, copy=False, order=order)\n",
      "  File \"c:\\users\\ammu\\anaconda3\\envs\\penv1\\lib\\site-packages\\pandas\\core\\arrays\\numpy_.py\", line 203, in __array__\n",
      "    return np.asarray(self._ndarray, dtype=dtype)\n",
      "  File \"c:\\users\\ammu\\anaconda3\\envs\\penv1\\lib\\site-packages\\numpy\\core\\_asarray.py\", line 102, in asarray\n",
      "    return array(a, dtype, copy=False, order=order)\n",
      "ValueError: could not convert string to float: 'positive'\n",
      "\n",
      "  UserWarning,\n"
     ]
    },
    {
     "name": "stdout",
     "output_type": "stream",
     "text": [
      "[CV] END max_depth=10, max_features=sqrt, min_samples_leaf=5, min_samples_split=5, n_estimators=900; total time= 1.3min\n"
     ]
    },
    {
     "name": "stderr",
     "output_type": "stream",
     "text": [
      "c:\\users\\ammu\\anaconda3\\envs\\penv1\\lib\\site-packages\\sklearn\\model_selection\\_validation.py:700: UserWarning: Scoring failed. The score on this train-test partition for these parameters will be set to nan. Details: \n",
      "Traceback (most recent call last):\n",
      "  File \"c:\\users\\ammu\\anaconda3\\envs\\penv1\\lib\\site-packages\\sklearn\\model_selection\\_validation.py\", line 687, in _score\n",
      "    scores = scorer(estimator, X_test, y_test)\n",
      "  File \"c:\\users\\ammu\\anaconda3\\envs\\penv1\\lib\\site-packages\\sklearn\\metrics\\_scorer.py\", line 200, in __call__\n",
      "    sample_weight=sample_weight)\n",
      "  File \"c:\\users\\ammu\\anaconda3\\envs\\penv1\\lib\\site-packages\\sklearn\\metrics\\_scorer.py\", line 243, in _score\n",
      "    **self._kwargs)\n",
      "  File \"c:\\users\\ammu\\anaconda3\\envs\\penv1\\lib\\site-packages\\sklearn\\utils\\validation.py\", line 63, in inner_f\n",
      "    return f(*args, **kwargs)\n",
      "  File \"c:\\users\\ammu\\anaconda3\\envs\\penv1\\lib\\site-packages\\sklearn\\metrics\\_regression.py\", line 336, in mean_squared_error\n",
      "    y_true, y_pred, multioutput)\n",
      "  File \"c:\\users\\ammu\\anaconda3\\envs\\penv1\\lib\\site-packages\\sklearn\\metrics\\_regression.py\", line 89, in _check_reg_targets\n",
      "    y_true = check_array(y_true, ensure_2d=False, dtype=dtype)\n",
      "  File \"c:\\users\\ammu\\anaconda3\\envs\\penv1\\lib\\site-packages\\sklearn\\utils\\validation.py\", line 63, in inner_f\n",
      "    return f(*args, **kwargs)\n",
      "  File \"c:\\users\\ammu\\anaconda3\\envs\\penv1\\lib\\site-packages\\sklearn\\utils\\validation.py\", line 673, in check_array\n",
      "    array = np.asarray(array, order=order, dtype=dtype)\n",
      "  File \"c:\\users\\ammu\\anaconda3\\envs\\penv1\\lib\\site-packages\\numpy\\core\\_asarray.py\", line 102, in asarray\n",
      "    return array(a, dtype, copy=False, order=order)\n",
      "  File \"c:\\users\\ammu\\anaconda3\\envs\\penv1\\lib\\site-packages\\pandas\\core\\series.py\", line 768, in __array__\n",
      "    return np.asarray(self.array, dtype)\n",
      "  File \"c:\\users\\ammu\\anaconda3\\envs\\penv1\\lib\\site-packages\\numpy\\core\\_asarray.py\", line 102, in asarray\n",
      "    return array(a, dtype, copy=False, order=order)\n",
      "  File \"c:\\users\\ammu\\anaconda3\\envs\\penv1\\lib\\site-packages\\pandas\\core\\arrays\\numpy_.py\", line 203, in __array__\n",
      "    return np.asarray(self._ndarray, dtype=dtype)\n",
      "  File \"c:\\users\\ammu\\anaconda3\\envs\\penv1\\lib\\site-packages\\numpy\\core\\_asarray.py\", line 102, in asarray\n",
      "    return array(a, dtype, copy=False, order=order)\n",
      "ValueError: could not convert string to float: 'negative'\n",
      "\n",
      "  UserWarning,\n"
     ]
    },
    {
     "name": "stdout",
     "output_type": "stream",
     "text": [
      "[CV] END max_depth=10, max_features=sqrt, min_samples_leaf=5, min_samples_split=5, n_estimators=900; total time= 1.2min\n"
     ]
    },
    {
     "name": "stderr",
     "output_type": "stream",
     "text": [
      "c:\\users\\ammu\\anaconda3\\envs\\penv1\\lib\\site-packages\\sklearn\\model_selection\\_validation.py:700: UserWarning: Scoring failed. The score on this train-test partition for these parameters will be set to nan. Details: \n",
      "Traceback (most recent call last):\n",
      "  File \"c:\\users\\ammu\\anaconda3\\envs\\penv1\\lib\\site-packages\\sklearn\\model_selection\\_validation.py\", line 687, in _score\n",
      "    scores = scorer(estimator, X_test, y_test)\n",
      "  File \"c:\\users\\ammu\\anaconda3\\envs\\penv1\\lib\\site-packages\\sklearn\\metrics\\_scorer.py\", line 200, in __call__\n",
      "    sample_weight=sample_weight)\n",
      "  File \"c:\\users\\ammu\\anaconda3\\envs\\penv1\\lib\\site-packages\\sklearn\\metrics\\_scorer.py\", line 243, in _score\n",
      "    **self._kwargs)\n",
      "  File \"c:\\users\\ammu\\anaconda3\\envs\\penv1\\lib\\site-packages\\sklearn\\utils\\validation.py\", line 63, in inner_f\n",
      "    return f(*args, **kwargs)\n",
      "  File \"c:\\users\\ammu\\anaconda3\\envs\\penv1\\lib\\site-packages\\sklearn\\metrics\\_regression.py\", line 336, in mean_squared_error\n",
      "    y_true, y_pred, multioutput)\n",
      "  File \"c:\\users\\ammu\\anaconda3\\envs\\penv1\\lib\\site-packages\\sklearn\\metrics\\_regression.py\", line 89, in _check_reg_targets\n",
      "    y_true = check_array(y_true, ensure_2d=False, dtype=dtype)\n",
      "  File \"c:\\users\\ammu\\anaconda3\\envs\\penv1\\lib\\site-packages\\sklearn\\utils\\validation.py\", line 63, in inner_f\n",
      "    return f(*args, **kwargs)\n",
      "  File \"c:\\users\\ammu\\anaconda3\\envs\\penv1\\lib\\site-packages\\sklearn\\utils\\validation.py\", line 673, in check_array\n",
      "    array = np.asarray(array, order=order, dtype=dtype)\n",
      "  File \"c:\\users\\ammu\\anaconda3\\envs\\penv1\\lib\\site-packages\\numpy\\core\\_asarray.py\", line 102, in asarray\n",
      "    return array(a, dtype, copy=False, order=order)\n",
      "  File \"c:\\users\\ammu\\anaconda3\\envs\\penv1\\lib\\site-packages\\pandas\\core\\series.py\", line 768, in __array__\n",
      "    return np.asarray(self.array, dtype)\n",
      "  File \"c:\\users\\ammu\\anaconda3\\envs\\penv1\\lib\\site-packages\\numpy\\core\\_asarray.py\", line 102, in asarray\n",
      "    return array(a, dtype, copy=False, order=order)\n",
      "  File \"c:\\users\\ammu\\anaconda3\\envs\\penv1\\lib\\site-packages\\pandas\\core\\arrays\\numpy_.py\", line 203, in __array__\n",
      "    return np.asarray(self._ndarray, dtype=dtype)\n",
      "  File \"c:\\users\\ammu\\anaconda3\\envs\\penv1\\lib\\site-packages\\numpy\\core\\_asarray.py\", line 102, in asarray\n",
      "    return array(a, dtype, copy=False, order=order)\n",
      "ValueError: could not convert string to float: 'negative'\n",
      "\n",
      "  UserWarning,\n"
     ]
    },
    {
     "name": "stdout",
     "output_type": "stream",
     "text": [
      "[CV] END max_depth=10, max_features=sqrt, min_samples_leaf=5, min_samples_split=5, n_estimators=900; total time= 1.2min\n"
     ]
    },
    {
     "name": "stderr",
     "output_type": "stream",
     "text": [
      "c:\\users\\ammu\\anaconda3\\envs\\penv1\\lib\\site-packages\\sklearn\\model_selection\\_validation.py:700: UserWarning: Scoring failed. The score on this train-test partition for these parameters will be set to nan. Details: \n",
      "Traceback (most recent call last):\n",
      "  File \"c:\\users\\ammu\\anaconda3\\envs\\penv1\\lib\\site-packages\\sklearn\\model_selection\\_validation.py\", line 687, in _score\n",
      "    scores = scorer(estimator, X_test, y_test)\n",
      "  File \"c:\\users\\ammu\\anaconda3\\envs\\penv1\\lib\\site-packages\\sklearn\\metrics\\_scorer.py\", line 200, in __call__\n",
      "    sample_weight=sample_weight)\n",
      "  File \"c:\\users\\ammu\\anaconda3\\envs\\penv1\\lib\\site-packages\\sklearn\\metrics\\_scorer.py\", line 243, in _score\n",
      "    **self._kwargs)\n",
      "  File \"c:\\users\\ammu\\anaconda3\\envs\\penv1\\lib\\site-packages\\sklearn\\utils\\validation.py\", line 63, in inner_f\n",
      "    return f(*args, **kwargs)\n",
      "  File \"c:\\users\\ammu\\anaconda3\\envs\\penv1\\lib\\site-packages\\sklearn\\metrics\\_regression.py\", line 336, in mean_squared_error\n",
      "    y_true, y_pred, multioutput)\n",
      "  File \"c:\\users\\ammu\\anaconda3\\envs\\penv1\\lib\\site-packages\\sklearn\\metrics\\_regression.py\", line 89, in _check_reg_targets\n",
      "    y_true = check_array(y_true, ensure_2d=False, dtype=dtype)\n",
      "  File \"c:\\users\\ammu\\anaconda3\\envs\\penv1\\lib\\site-packages\\sklearn\\utils\\validation.py\", line 63, in inner_f\n",
      "    return f(*args, **kwargs)\n",
      "  File \"c:\\users\\ammu\\anaconda3\\envs\\penv1\\lib\\site-packages\\sklearn\\utils\\validation.py\", line 673, in check_array\n",
      "    array = np.asarray(array, order=order, dtype=dtype)\n",
      "  File \"c:\\users\\ammu\\anaconda3\\envs\\penv1\\lib\\site-packages\\numpy\\core\\_asarray.py\", line 102, in asarray\n",
      "    return array(a, dtype, copy=False, order=order)\n",
      "  File \"c:\\users\\ammu\\anaconda3\\envs\\penv1\\lib\\site-packages\\pandas\\core\\series.py\", line 768, in __array__\n",
      "    return np.asarray(self.array, dtype)\n",
      "  File \"c:\\users\\ammu\\anaconda3\\envs\\penv1\\lib\\site-packages\\numpy\\core\\_asarray.py\", line 102, in asarray\n",
      "    return array(a, dtype, copy=False, order=order)\n",
      "  File \"c:\\users\\ammu\\anaconda3\\envs\\penv1\\lib\\site-packages\\pandas\\core\\arrays\\numpy_.py\", line 203, in __array__\n",
      "    return np.asarray(self._ndarray, dtype=dtype)\n",
      "  File \"c:\\users\\ammu\\anaconda3\\envs\\penv1\\lib\\site-packages\\numpy\\core\\_asarray.py\", line 102, in asarray\n",
      "    return array(a, dtype, copy=False, order=order)\n",
      "ValueError: could not convert string to float: 'positive'\n",
      "\n",
      "  UserWarning,\n"
     ]
    },
    {
     "name": "stdout",
     "output_type": "stream",
     "text": [
      "[CV] END max_depth=10, max_features=sqrt, min_samples_leaf=5, min_samples_split=5, n_estimators=900; total time= 1.2min\n"
     ]
    },
    {
     "name": "stderr",
     "output_type": "stream",
     "text": [
      "c:\\users\\ammu\\anaconda3\\envs\\penv1\\lib\\site-packages\\sklearn\\model_selection\\_validation.py:700: UserWarning: Scoring failed. The score on this train-test partition for these parameters will be set to nan. Details: \n",
      "Traceback (most recent call last):\n",
      "  File \"c:\\users\\ammu\\anaconda3\\envs\\penv1\\lib\\site-packages\\sklearn\\model_selection\\_validation.py\", line 687, in _score\n",
      "    scores = scorer(estimator, X_test, y_test)\n",
      "  File \"c:\\users\\ammu\\anaconda3\\envs\\penv1\\lib\\site-packages\\sklearn\\metrics\\_scorer.py\", line 200, in __call__\n",
      "    sample_weight=sample_weight)\n",
      "  File \"c:\\users\\ammu\\anaconda3\\envs\\penv1\\lib\\site-packages\\sklearn\\metrics\\_scorer.py\", line 243, in _score\n",
      "    **self._kwargs)\n",
      "  File \"c:\\users\\ammu\\anaconda3\\envs\\penv1\\lib\\site-packages\\sklearn\\utils\\validation.py\", line 63, in inner_f\n",
      "    return f(*args, **kwargs)\n",
      "  File \"c:\\users\\ammu\\anaconda3\\envs\\penv1\\lib\\site-packages\\sklearn\\metrics\\_regression.py\", line 336, in mean_squared_error\n",
      "    y_true, y_pred, multioutput)\n",
      "  File \"c:\\users\\ammu\\anaconda3\\envs\\penv1\\lib\\site-packages\\sklearn\\metrics\\_regression.py\", line 89, in _check_reg_targets\n",
      "    y_true = check_array(y_true, ensure_2d=False, dtype=dtype)\n",
      "  File \"c:\\users\\ammu\\anaconda3\\envs\\penv1\\lib\\site-packages\\sklearn\\utils\\validation.py\", line 63, in inner_f\n",
      "    return f(*args, **kwargs)\n",
      "  File \"c:\\users\\ammu\\anaconda3\\envs\\penv1\\lib\\site-packages\\sklearn\\utils\\validation.py\", line 673, in check_array\n",
      "    array = np.asarray(array, order=order, dtype=dtype)\n",
      "  File \"c:\\users\\ammu\\anaconda3\\envs\\penv1\\lib\\site-packages\\numpy\\core\\_asarray.py\", line 102, in asarray\n",
      "    return array(a, dtype, copy=False, order=order)\n",
      "  File \"c:\\users\\ammu\\anaconda3\\envs\\penv1\\lib\\site-packages\\pandas\\core\\series.py\", line 768, in __array__\n",
      "    return np.asarray(self.array, dtype)\n",
      "  File \"c:\\users\\ammu\\anaconda3\\envs\\penv1\\lib\\site-packages\\numpy\\core\\_asarray.py\", line 102, in asarray\n",
      "    return array(a, dtype, copy=False, order=order)\n",
      "  File \"c:\\users\\ammu\\anaconda3\\envs\\penv1\\lib\\site-packages\\pandas\\core\\arrays\\numpy_.py\", line 203, in __array__\n",
      "    return np.asarray(self._ndarray, dtype=dtype)\n",
      "  File \"c:\\users\\ammu\\anaconda3\\envs\\penv1\\lib\\site-packages\\numpy\\core\\_asarray.py\", line 102, in asarray\n",
      "    return array(a, dtype, copy=False, order=order)\n",
      "ValueError: could not convert string to float: 'positive'\n",
      "\n",
      "  UserWarning,\n"
     ]
    },
    {
     "name": "stdout",
     "output_type": "stream",
     "text": [
      "[CV] END max_depth=15, max_features=sqrt, min_samples_leaf=2, min_samples_split=10, n_estimators=1100; total time= 2.5min\n"
     ]
    },
    {
     "name": "stderr",
     "output_type": "stream",
     "text": [
      "c:\\users\\ammu\\anaconda3\\envs\\penv1\\lib\\site-packages\\sklearn\\model_selection\\_validation.py:700: UserWarning: Scoring failed. The score on this train-test partition for these parameters will be set to nan. Details: \n",
      "Traceback (most recent call last):\n",
      "  File \"c:\\users\\ammu\\anaconda3\\envs\\penv1\\lib\\site-packages\\sklearn\\model_selection\\_validation.py\", line 687, in _score\n",
      "    scores = scorer(estimator, X_test, y_test)\n",
      "  File \"c:\\users\\ammu\\anaconda3\\envs\\penv1\\lib\\site-packages\\sklearn\\metrics\\_scorer.py\", line 200, in __call__\n",
      "    sample_weight=sample_weight)\n",
      "  File \"c:\\users\\ammu\\anaconda3\\envs\\penv1\\lib\\site-packages\\sklearn\\metrics\\_scorer.py\", line 243, in _score\n",
      "    **self._kwargs)\n",
      "  File \"c:\\users\\ammu\\anaconda3\\envs\\penv1\\lib\\site-packages\\sklearn\\utils\\validation.py\", line 63, in inner_f\n",
      "    return f(*args, **kwargs)\n",
      "  File \"c:\\users\\ammu\\anaconda3\\envs\\penv1\\lib\\site-packages\\sklearn\\metrics\\_regression.py\", line 336, in mean_squared_error\n",
      "    y_true, y_pred, multioutput)\n",
      "  File \"c:\\users\\ammu\\anaconda3\\envs\\penv1\\lib\\site-packages\\sklearn\\metrics\\_regression.py\", line 89, in _check_reg_targets\n",
      "    y_true = check_array(y_true, ensure_2d=False, dtype=dtype)\n",
      "  File \"c:\\users\\ammu\\anaconda3\\envs\\penv1\\lib\\site-packages\\sklearn\\utils\\validation.py\", line 63, in inner_f\n",
      "    return f(*args, **kwargs)\n",
      "  File \"c:\\users\\ammu\\anaconda3\\envs\\penv1\\lib\\site-packages\\sklearn\\utils\\validation.py\", line 673, in check_array\n",
      "    array = np.asarray(array, order=order, dtype=dtype)\n",
      "  File \"c:\\users\\ammu\\anaconda3\\envs\\penv1\\lib\\site-packages\\numpy\\core\\_asarray.py\", line 102, in asarray\n",
      "    return array(a, dtype, copy=False, order=order)\n",
      "  File \"c:\\users\\ammu\\anaconda3\\envs\\penv1\\lib\\site-packages\\pandas\\core\\series.py\", line 768, in __array__\n",
      "    return np.asarray(self.array, dtype)\n",
      "  File \"c:\\users\\ammu\\anaconda3\\envs\\penv1\\lib\\site-packages\\numpy\\core\\_asarray.py\", line 102, in asarray\n",
      "    return array(a, dtype, copy=False, order=order)\n",
      "  File \"c:\\users\\ammu\\anaconda3\\envs\\penv1\\lib\\site-packages\\pandas\\core\\arrays\\numpy_.py\", line 203, in __array__\n",
      "    return np.asarray(self._ndarray, dtype=dtype)\n",
      "  File \"c:\\users\\ammu\\anaconda3\\envs\\penv1\\lib\\site-packages\\numpy\\core\\_asarray.py\", line 102, in asarray\n",
      "    return array(a, dtype, copy=False, order=order)\n",
      "ValueError: could not convert string to float: 'positive'\n",
      "\n",
      "  UserWarning,\n"
     ]
    },
    {
     "name": "stdout",
     "output_type": "stream",
     "text": [
      "[CV] END max_depth=15, max_features=sqrt, min_samples_leaf=2, min_samples_split=10, n_estimators=1100; total time= 2.6min\n"
     ]
    },
    {
     "name": "stderr",
     "output_type": "stream",
     "text": [
      "c:\\users\\ammu\\anaconda3\\envs\\penv1\\lib\\site-packages\\sklearn\\model_selection\\_validation.py:700: UserWarning: Scoring failed. The score on this train-test partition for these parameters will be set to nan. Details: \n",
      "Traceback (most recent call last):\n",
      "  File \"c:\\users\\ammu\\anaconda3\\envs\\penv1\\lib\\site-packages\\sklearn\\model_selection\\_validation.py\", line 687, in _score\n",
      "    scores = scorer(estimator, X_test, y_test)\n",
      "  File \"c:\\users\\ammu\\anaconda3\\envs\\penv1\\lib\\site-packages\\sklearn\\metrics\\_scorer.py\", line 200, in __call__\n",
      "    sample_weight=sample_weight)\n",
      "  File \"c:\\users\\ammu\\anaconda3\\envs\\penv1\\lib\\site-packages\\sklearn\\metrics\\_scorer.py\", line 243, in _score\n",
      "    **self._kwargs)\n",
      "  File \"c:\\users\\ammu\\anaconda3\\envs\\penv1\\lib\\site-packages\\sklearn\\utils\\validation.py\", line 63, in inner_f\n",
      "    return f(*args, **kwargs)\n",
      "  File \"c:\\users\\ammu\\anaconda3\\envs\\penv1\\lib\\site-packages\\sklearn\\metrics\\_regression.py\", line 336, in mean_squared_error\n",
      "    y_true, y_pred, multioutput)\n",
      "  File \"c:\\users\\ammu\\anaconda3\\envs\\penv1\\lib\\site-packages\\sklearn\\metrics\\_regression.py\", line 89, in _check_reg_targets\n",
      "    y_true = check_array(y_true, ensure_2d=False, dtype=dtype)\n",
      "  File \"c:\\users\\ammu\\anaconda3\\envs\\penv1\\lib\\site-packages\\sklearn\\utils\\validation.py\", line 63, in inner_f\n",
      "    return f(*args, **kwargs)\n",
      "  File \"c:\\users\\ammu\\anaconda3\\envs\\penv1\\lib\\site-packages\\sklearn\\utils\\validation.py\", line 673, in check_array\n",
      "    array = np.asarray(array, order=order, dtype=dtype)\n",
      "  File \"c:\\users\\ammu\\anaconda3\\envs\\penv1\\lib\\site-packages\\numpy\\core\\_asarray.py\", line 102, in asarray\n",
      "    return array(a, dtype, copy=False, order=order)\n",
      "  File \"c:\\users\\ammu\\anaconda3\\envs\\penv1\\lib\\site-packages\\pandas\\core\\series.py\", line 768, in __array__\n",
      "    return np.asarray(self.array, dtype)\n",
      "  File \"c:\\users\\ammu\\anaconda3\\envs\\penv1\\lib\\site-packages\\numpy\\core\\_asarray.py\", line 102, in asarray\n",
      "    return array(a, dtype, copy=False, order=order)\n",
      "  File \"c:\\users\\ammu\\anaconda3\\envs\\penv1\\lib\\site-packages\\pandas\\core\\arrays\\numpy_.py\", line 203, in __array__\n",
      "    return np.asarray(self._ndarray, dtype=dtype)\n",
      "  File \"c:\\users\\ammu\\anaconda3\\envs\\penv1\\lib\\site-packages\\numpy\\core\\_asarray.py\", line 102, in asarray\n",
      "    return array(a, dtype, copy=False, order=order)\n",
      "ValueError: could not convert string to float: 'negative'\n",
      "\n",
      "  UserWarning,\n"
     ]
    },
    {
     "name": "stdout",
     "output_type": "stream",
     "text": [
      "[CV] END max_depth=15, max_features=sqrt, min_samples_leaf=2, min_samples_split=10, n_estimators=1100; total time= 2.5min\n"
     ]
    },
    {
     "name": "stderr",
     "output_type": "stream",
     "text": [
      "c:\\users\\ammu\\anaconda3\\envs\\penv1\\lib\\site-packages\\sklearn\\model_selection\\_validation.py:700: UserWarning: Scoring failed. The score on this train-test partition for these parameters will be set to nan. Details: \n",
      "Traceback (most recent call last):\n",
      "  File \"c:\\users\\ammu\\anaconda3\\envs\\penv1\\lib\\site-packages\\sklearn\\model_selection\\_validation.py\", line 687, in _score\n",
      "    scores = scorer(estimator, X_test, y_test)\n",
      "  File \"c:\\users\\ammu\\anaconda3\\envs\\penv1\\lib\\site-packages\\sklearn\\metrics\\_scorer.py\", line 200, in __call__\n",
      "    sample_weight=sample_weight)\n",
      "  File \"c:\\users\\ammu\\anaconda3\\envs\\penv1\\lib\\site-packages\\sklearn\\metrics\\_scorer.py\", line 243, in _score\n",
      "    **self._kwargs)\n",
      "  File \"c:\\users\\ammu\\anaconda3\\envs\\penv1\\lib\\site-packages\\sklearn\\utils\\validation.py\", line 63, in inner_f\n",
      "    return f(*args, **kwargs)\n",
      "  File \"c:\\users\\ammu\\anaconda3\\envs\\penv1\\lib\\site-packages\\sklearn\\metrics\\_regression.py\", line 336, in mean_squared_error\n",
      "    y_true, y_pred, multioutput)\n",
      "  File \"c:\\users\\ammu\\anaconda3\\envs\\penv1\\lib\\site-packages\\sklearn\\metrics\\_regression.py\", line 89, in _check_reg_targets\n",
      "    y_true = check_array(y_true, ensure_2d=False, dtype=dtype)\n",
      "  File \"c:\\users\\ammu\\anaconda3\\envs\\penv1\\lib\\site-packages\\sklearn\\utils\\validation.py\", line 63, in inner_f\n",
      "    return f(*args, **kwargs)\n",
      "  File \"c:\\users\\ammu\\anaconda3\\envs\\penv1\\lib\\site-packages\\sklearn\\utils\\validation.py\", line 673, in check_array\n",
      "    array = np.asarray(array, order=order, dtype=dtype)\n",
      "  File \"c:\\users\\ammu\\anaconda3\\envs\\penv1\\lib\\site-packages\\numpy\\core\\_asarray.py\", line 102, in asarray\n",
      "    return array(a, dtype, copy=False, order=order)\n",
      "  File \"c:\\users\\ammu\\anaconda3\\envs\\penv1\\lib\\site-packages\\pandas\\core\\series.py\", line 768, in __array__\n",
      "    return np.asarray(self.array, dtype)\n",
      "  File \"c:\\users\\ammu\\anaconda3\\envs\\penv1\\lib\\site-packages\\numpy\\core\\_asarray.py\", line 102, in asarray\n",
      "    return array(a, dtype, copy=False, order=order)\n",
      "  File \"c:\\users\\ammu\\anaconda3\\envs\\penv1\\lib\\site-packages\\pandas\\core\\arrays\\numpy_.py\", line 203, in __array__\n",
      "    return np.asarray(self._ndarray, dtype=dtype)\n",
      "  File \"c:\\users\\ammu\\anaconda3\\envs\\penv1\\lib\\site-packages\\numpy\\core\\_asarray.py\", line 102, in asarray\n",
      "    return array(a, dtype, copy=False, order=order)\n",
      "ValueError: could not convert string to float: 'negative'\n",
      "\n",
      "  UserWarning,\n"
     ]
    },
    {
     "name": "stdout",
     "output_type": "stream",
     "text": [
      "[CV] END max_depth=15, max_features=sqrt, min_samples_leaf=2, min_samples_split=10, n_estimators=1100; total time= 2.4min\n"
     ]
    },
    {
     "name": "stderr",
     "output_type": "stream",
     "text": [
      "c:\\users\\ammu\\anaconda3\\envs\\penv1\\lib\\site-packages\\sklearn\\model_selection\\_validation.py:700: UserWarning: Scoring failed. The score on this train-test partition for these parameters will be set to nan. Details: \n",
      "Traceback (most recent call last):\n",
      "  File \"c:\\users\\ammu\\anaconda3\\envs\\penv1\\lib\\site-packages\\sklearn\\model_selection\\_validation.py\", line 687, in _score\n",
      "    scores = scorer(estimator, X_test, y_test)\n",
      "  File \"c:\\users\\ammu\\anaconda3\\envs\\penv1\\lib\\site-packages\\sklearn\\metrics\\_scorer.py\", line 200, in __call__\n",
      "    sample_weight=sample_weight)\n",
      "  File \"c:\\users\\ammu\\anaconda3\\envs\\penv1\\lib\\site-packages\\sklearn\\metrics\\_scorer.py\", line 243, in _score\n",
      "    **self._kwargs)\n",
      "  File \"c:\\users\\ammu\\anaconda3\\envs\\penv1\\lib\\site-packages\\sklearn\\utils\\validation.py\", line 63, in inner_f\n",
      "    return f(*args, **kwargs)\n",
      "  File \"c:\\users\\ammu\\anaconda3\\envs\\penv1\\lib\\site-packages\\sklearn\\metrics\\_regression.py\", line 336, in mean_squared_error\n",
      "    y_true, y_pred, multioutput)\n",
      "  File \"c:\\users\\ammu\\anaconda3\\envs\\penv1\\lib\\site-packages\\sklearn\\metrics\\_regression.py\", line 89, in _check_reg_targets\n",
      "    y_true = check_array(y_true, ensure_2d=False, dtype=dtype)\n",
      "  File \"c:\\users\\ammu\\anaconda3\\envs\\penv1\\lib\\site-packages\\sklearn\\utils\\validation.py\", line 63, in inner_f\n",
      "    return f(*args, **kwargs)\n",
      "  File \"c:\\users\\ammu\\anaconda3\\envs\\penv1\\lib\\site-packages\\sklearn\\utils\\validation.py\", line 673, in check_array\n",
      "    array = np.asarray(array, order=order, dtype=dtype)\n",
      "  File \"c:\\users\\ammu\\anaconda3\\envs\\penv1\\lib\\site-packages\\numpy\\core\\_asarray.py\", line 102, in asarray\n",
      "    return array(a, dtype, copy=False, order=order)\n",
      "  File \"c:\\users\\ammu\\anaconda3\\envs\\penv1\\lib\\site-packages\\pandas\\core\\series.py\", line 768, in __array__\n",
      "    return np.asarray(self.array, dtype)\n",
      "  File \"c:\\users\\ammu\\anaconda3\\envs\\penv1\\lib\\site-packages\\numpy\\core\\_asarray.py\", line 102, in asarray\n",
      "    return array(a, dtype, copy=False, order=order)\n",
      "  File \"c:\\users\\ammu\\anaconda3\\envs\\penv1\\lib\\site-packages\\pandas\\core\\arrays\\numpy_.py\", line 203, in __array__\n",
      "    return np.asarray(self._ndarray, dtype=dtype)\n",
      "  File \"c:\\users\\ammu\\anaconda3\\envs\\penv1\\lib\\site-packages\\numpy\\core\\_asarray.py\", line 102, in asarray\n",
      "    return array(a, dtype, copy=False, order=order)\n",
      "ValueError: could not convert string to float: 'positive'\n",
      "\n",
      "  UserWarning,\n"
     ]
    },
    {
     "name": "stdout",
     "output_type": "stream",
     "text": [
      "[CV] END max_depth=15, max_features=sqrt, min_samples_leaf=2, min_samples_split=10, n_estimators=1100; total time= 2.5min\n"
     ]
    },
    {
     "name": "stderr",
     "output_type": "stream",
     "text": [
      "c:\\users\\ammu\\anaconda3\\envs\\penv1\\lib\\site-packages\\sklearn\\model_selection\\_validation.py:700: UserWarning: Scoring failed. The score on this train-test partition for these parameters will be set to nan. Details: \n",
      "Traceback (most recent call last):\n",
      "  File \"c:\\users\\ammu\\anaconda3\\envs\\penv1\\lib\\site-packages\\sklearn\\model_selection\\_validation.py\", line 687, in _score\n",
      "    scores = scorer(estimator, X_test, y_test)\n",
      "  File \"c:\\users\\ammu\\anaconda3\\envs\\penv1\\lib\\site-packages\\sklearn\\metrics\\_scorer.py\", line 200, in __call__\n",
      "    sample_weight=sample_weight)\n",
      "  File \"c:\\users\\ammu\\anaconda3\\envs\\penv1\\lib\\site-packages\\sklearn\\metrics\\_scorer.py\", line 243, in _score\n",
      "    **self._kwargs)\n",
      "  File \"c:\\users\\ammu\\anaconda3\\envs\\penv1\\lib\\site-packages\\sklearn\\utils\\validation.py\", line 63, in inner_f\n",
      "    return f(*args, **kwargs)\n",
      "  File \"c:\\users\\ammu\\anaconda3\\envs\\penv1\\lib\\site-packages\\sklearn\\metrics\\_regression.py\", line 336, in mean_squared_error\n",
      "    y_true, y_pred, multioutput)\n",
      "  File \"c:\\users\\ammu\\anaconda3\\envs\\penv1\\lib\\site-packages\\sklearn\\metrics\\_regression.py\", line 89, in _check_reg_targets\n",
      "    y_true = check_array(y_true, ensure_2d=False, dtype=dtype)\n",
      "  File \"c:\\users\\ammu\\anaconda3\\envs\\penv1\\lib\\site-packages\\sklearn\\utils\\validation.py\", line 63, in inner_f\n",
      "    return f(*args, **kwargs)\n",
      "  File \"c:\\users\\ammu\\anaconda3\\envs\\penv1\\lib\\site-packages\\sklearn\\utils\\validation.py\", line 673, in check_array\n",
      "    array = np.asarray(array, order=order, dtype=dtype)\n",
      "  File \"c:\\users\\ammu\\anaconda3\\envs\\penv1\\lib\\site-packages\\numpy\\core\\_asarray.py\", line 102, in asarray\n",
      "    return array(a, dtype, copy=False, order=order)\n",
      "  File \"c:\\users\\ammu\\anaconda3\\envs\\penv1\\lib\\site-packages\\pandas\\core\\series.py\", line 768, in __array__\n",
      "    return np.asarray(self.array, dtype)\n",
      "  File \"c:\\users\\ammu\\anaconda3\\envs\\penv1\\lib\\site-packages\\numpy\\core\\_asarray.py\", line 102, in asarray\n",
      "    return array(a, dtype, copy=False, order=order)\n",
      "  File \"c:\\users\\ammu\\anaconda3\\envs\\penv1\\lib\\site-packages\\pandas\\core\\arrays\\numpy_.py\", line 203, in __array__\n",
      "    return np.asarray(self._ndarray, dtype=dtype)\n",
      "  File \"c:\\users\\ammu\\anaconda3\\envs\\penv1\\lib\\site-packages\\numpy\\core\\_asarray.py\", line 102, in asarray\n",
      "    return array(a, dtype, copy=False, order=order)\n",
      "ValueError: could not convert string to float: 'positive'\n",
      "\n",
      "  UserWarning,\n"
     ]
    },
    {
     "name": "stdout",
     "output_type": "stream",
     "text": [
      "[CV] END max_depth=15, max_features=auto, min_samples_leaf=5, min_samples_split=100, n_estimators=300; total time=  35.5s\n"
     ]
    },
    {
     "name": "stderr",
     "output_type": "stream",
     "text": [
      "c:\\users\\ammu\\anaconda3\\envs\\penv1\\lib\\site-packages\\sklearn\\model_selection\\_validation.py:700: UserWarning: Scoring failed. The score on this train-test partition for these parameters will be set to nan. Details: \n",
      "Traceback (most recent call last):\n",
      "  File \"c:\\users\\ammu\\anaconda3\\envs\\penv1\\lib\\site-packages\\sklearn\\model_selection\\_validation.py\", line 687, in _score\n",
      "    scores = scorer(estimator, X_test, y_test)\n",
      "  File \"c:\\users\\ammu\\anaconda3\\envs\\penv1\\lib\\site-packages\\sklearn\\metrics\\_scorer.py\", line 200, in __call__\n",
      "    sample_weight=sample_weight)\n",
      "  File \"c:\\users\\ammu\\anaconda3\\envs\\penv1\\lib\\site-packages\\sklearn\\metrics\\_scorer.py\", line 243, in _score\n",
      "    **self._kwargs)\n",
      "  File \"c:\\users\\ammu\\anaconda3\\envs\\penv1\\lib\\site-packages\\sklearn\\utils\\validation.py\", line 63, in inner_f\n",
      "    return f(*args, **kwargs)\n",
      "  File \"c:\\users\\ammu\\anaconda3\\envs\\penv1\\lib\\site-packages\\sklearn\\metrics\\_regression.py\", line 336, in mean_squared_error\n",
      "    y_true, y_pred, multioutput)\n",
      "  File \"c:\\users\\ammu\\anaconda3\\envs\\penv1\\lib\\site-packages\\sklearn\\metrics\\_regression.py\", line 89, in _check_reg_targets\n",
      "    y_true = check_array(y_true, ensure_2d=False, dtype=dtype)\n",
      "  File \"c:\\users\\ammu\\anaconda3\\envs\\penv1\\lib\\site-packages\\sklearn\\utils\\validation.py\", line 63, in inner_f\n",
      "    return f(*args, **kwargs)\n",
      "  File \"c:\\users\\ammu\\anaconda3\\envs\\penv1\\lib\\site-packages\\sklearn\\utils\\validation.py\", line 673, in check_array\n",
      "    array = np.asarray(array, order=order, dtype=dtype)\n",
      "  File \"c:\\users\\ammu\\anaconda3\\envs\\penv1\\lib\\site-packages\\numpy\\core\\_asarray.py\", line 102, in asarray\n",
      "    return array(a, dtype, copy=False, order=order)\n",
      "  File \"c:\\users\\ammu\\anaconda3\\envs\\penv1\\lib\\site-packages\\pandas\\core\\series.py\", line 768, in __array__\n",
      "    return np.asarray(self.array, dtype)\n",
      "  File \"c:\\users\\ammu\\anaconda3\\envs\\penv1\\lib\\site-packages\\numpy\\core\\_asarray.py\", line 102, in asarray\n",
      "    return array(a, dtype, copy=False, order=order)\n",
      "  File \"c:\\users\\ammu\\anaconda3\\envs\\penv1\\lib\\site-packages\\pandas\\core\\arrays\\numpy_.py\", line 203, in __array__\n",
      "    return np.asarray(self._ndarray, dtype=dtype)\n",
      "  File \"c:\\users\\ammu\\anaconda3\\envs\\penv1\\lib\\site-packages\\numpy\\core\\_asarray.py\", line 102, in asarray\n",
      "    return array(a, dtype, copy=False, order=order)\n",
      "ValueError: could not convert string to float: 'positive'\n",
      "\n",
      "  UserWarning,\n"
     ]
    },
    {
     "name": "stdout",
     "output_type": "stream",
     "text": [
      "[CV] END max_depth=15, max_features=auto, min_samples_leaf=5, min_samples_split=100, n_estimators=300; total time=  35.3s\n"
     ]
    },
    {
     "name": "stderr",
     "output_type": "stream",
     "text": [
      "c:\\users\\ammu\\anaconda3\\envs\\penv1\\lib\\site-packages\\sklearn\\model_selection\\_validation.py:700: UserWarning: Scoring failed. The score on this train-test partition for these parameters will be set to nan. Details: \n",
      "Traceback (most recent call last):\n",
      "  File \"c:\\users\\ammu\\anaconda3\\envs\\penv1\\lib\\site-packages\\sklearn\\model_selection\\_validation.py\", line 687, in _score\n",
      "    scores = scorer(estimator, X_test, y_test)\n",
      "  File \"c:\\users\\ammu\\anaconda3\\envs\\penv1\\lib\\site-packages\\sklearn\\metrics\\_scorer.py\", line 200, in __call__\n",
      "    sample_weight=sample_weight)\n",
      "  File \"c:\\users\\ammu\\anaconda3\\envs\\penv1\\lib\\site-packages\\sklearn\\metrics\\_scorer.py\", line 243, in _score\n",
      "    **self._kwargs)\n",
      "  File \"c:\\users\\ammu\\anaconda3\\envs\\penv1\\lib\\site-packages\\sklearn\\utils\\validation.py\", line 63, in inner_f\n",
      "    return f(*args, **kwargs)\n",
      "  File \"c:\\users\\ammu\\anaconda3\\envs\\penv1\\lib\\site-packages\\sklearn\\metrics\\_regression.py\", line 336, in mean_squared_error\n",
      "    y_true, y_pred, multioutput)\n",
      "  File \"c:\\users\\ammu\\anaconda3\\envs\\penv1\\lib\\site-packages\\sklearn\\metrics\\_regression.py\", line 89, in _check_reg_targets\n",
      "    y_true = check_array(y_true, ensure_2d=False, dtype=dtype)\n",
      "  File \"c:\\users\\ammu\\anaconda3\\envs\\penv1\\lib\\site-packages\\sklearn\\utils\\validation.py\", line 63, in inner_f\n",
      "    return f(*args, **kwargs)\n",
      "  File \"c:\\users\\ammu\\anaconda3\\envs\\penv1\\lib\\site-packages\\sklearn\\utils\\validation.py\", line 673, in check_array\n",
      "    array = np.asarray(array, order=order, dtype=dtype)\n",
      "  File \"c:\\users\\ammu\\anaconda3\\envs\\penv1\\lib\\site-packages\\numpy\\core\\_asarray.py\", line 102, in asarray\n",
      "    return array(a, dtype, copy=False, order=order)\n",
      "  File \"c:\\users\\ammu\\anaconda3\\envs\\penv1\\lib\\site-packages\\pandas\\core\\series.py\", line 768, in __array__\n",
      "    return np.asarray(self.array, dtype)\n",
      "  File \"c:\\users\\ammu\\anaconda3\\envs\\penv1\\lib\\site-packages\\numpy\\core\\_asarray.py\", line 102, in asarray\n",
      "    return array(a, dtype, copy=False, order=order)\n",
      "  File \"c:\\users\\ammu\\anaconda3\\envs\\penv1\\lib\\site-packages\\pandas\\core\\arrays\\numpy_.py\", line 203, in __array__\n",
      "    return np.asarray(self._ndarray, dtype=dtype)\n",
      "  File \"c:\\users\\ammu\\anaconda3\\envs\\penv1\\lib\\site-packages\\numpy\\core\\_asarray.py\", line 102, in asarray\n",
      "    return array(a, dtype, copy=False, order=order)\n",
      "ValueError: could not convert string to float: 'negative'\n",
      "\n",
      "  UserWarning,\n"
     ]
    },
    {
     "name": "stdout",
     "output_type": "stream",
     "text": [
      "[CV] END max_depth=15, max_features=auto, min_samples_leaf=5, min_samples_split=100, n_estimators=300; total time=  36.9s\n"
     ]
    },
    {
     "name": "stderr",
     "output_type": "stream",
     "text": [
      "c:\\users\\ammu\\anaconda3\\envs\\penv1\\lib\\site-packages\\sklearn\\model_selection\\_validation.py:700: UserWarning: Scoring failed. The score on this train-test partition for these parameters will be set to nan. Details: \n",
      "Traceback (most recent call last):\n",
      "  File \"c:\\users\\ammu\\anaconda3\\envs\\penv1\\lib\\site-packages\\sklearn\\model_selection\\_validation.py\", line 687, in _score\n",
      "    scores = scorer(estimator, X_test, y_test)\n",
      "  File \"c:\\users\\ammu\\anaconda3\\envs\\penv1\\lib\\site-packages\\sklearn\\metrics\\_scorer.py\", line 200, in __call__\n",
      "    sample_weight=sample_weight)\n",
      "  File \"c:\\users\\ammu\\anaconda3\\envs\\penv1\\lib\\site-packages\\sklearn\\metrics\\_scorer.py\", line 243, in _score\n",
      "    **self._kwargs)\n",
      "  File \"c:\\users\\ammu\\anaconda3\\envs\\penv1\\lib\\site-packages\\sklearn\\utils\\validation.py\", line 63, in inner_f\n",
      "    return f(*args, **kwargs)\n",
      "  File \"c:\\users\\ammu\\anaconda3\\envs\\penv1\\lib\\site-packages\\sklearn\\metrics\\_regression.py\", line 336, in mean_squared_error\n",
      "    y_true, y_pred, multioutput)\n",
      "  File \"c:\\users\\ammu\\anaconda3\\envs\\penv1\\lib\\site-packages\\sklearn\\metrics\\_regression.py\", line 89, in _check_reg_targets\n",
      "    y_true = check_array(y_true, ensure_2d=False, dtype=dtype)\n",
      "  File \"c:\\users\\ammu\\anaconda3\\envs\\penv1\\lib\\site-packages\\sklearn\\utils\\validation.py\", line 63, in inner_f\n",
      "    return f(*args, **kwargs)\n",
      "  File \"c:\\users\\ammu\\anaconda3\\envs\\penv1\\lib\\site-packages\\sklearn\\utils\\validation.py\", line 673, in check_array\n",
      "    array = np.asarray(array, order=order, dtype=dtype)\n",
      "  File \"c:\\users\\ammu\\anaconda3\\envs\\penv1\\lib\\site-packages\\numpy\\core\\_asarray.py\", line 102, in asarray\n",
      "    return array(a, dtype, copy=False, order=order)\n",
      "  File \"c:\\users\\ammu\\anaconda3\\envs\\penv1\\lib\\site-packages\\pandas\\core\\series.py\", line 768, in __array__\n",
      "    return np.asarray(self.array, dtype)\n",
      "  File \"c:\\users\\ammu\\anaconda3\\envs\\penv1\\lib\\site-packages\\numpy\\core\\_asarray.py\", line 102, in asarray\n",
      "    return array(a, dtype, copy=False, order=order)\n",
      "  File \"c:\\users\\ammu\\anaconda3\\envs\\penv1\\lib\\site-packages\\pandas\\core\\arrays\\numpy_.py\", line 203, in __array__\n",
      "    return np.asarray(self._ndarray, dtype=dtype)\n",
      "  File \"c:\\users\\ammu\\anaconda3\\envs\\penv1\\lib\\site-packages\\numpy\\core\\_asarray.py\", line 102, in asarray\n",
      "    return array(a, dtype, copy=False, order=order)\n",
      "ValueError: could not convert string to float: 'negative'\n",
      "\n",
      "  UserWarning,\n"
     ]
    },
    {
     "name": "stdout",
     "output_type": "stream",
     "text": [
      "[CV] END max_depth=15, max_features=auto, min_samples_leaf=5, min_samples_split=100, n_estimators=300; total time=  38.6s\n"
     ]
    },
    {
     "name": "stderr",
     "output_type": "stream",
     "text": [
      "c:\\users\\ammu\\anaconda3\\envs\\penv1\\lib\\site-packages\\sklearn\\model_selection\\_validation.py:700: UserWarning: Scoring failed. The score on this train-test partition for these parameters will be set to nan. Details: \n",
      "Traceback (most recent call last):\n",
      "  File \"c:\\users\\ammu\\anaconda3\\envs\\penv1\\lib\\site-packages\\sklearn\\model_selection\\_validation.py\", line 687, in _score\n",
      "    scores = scorer(estimator, X_test, y_test)\n",
      "  File \"c:\\users\\ammu\\anaconda3\\envs\\penv1\\lib\\site-packages\\sklearn\\metrics\\_scorer.py\", line 200, in __call__\n",
      "    sample_weight=sample_weight)\n",
      "  File \"c:\\users\\ammu\\anaconda3\\envs\\penv1\\lib\\site-packages\\sklearn\\metrics\\_scorer.py\", line 243, in _score\n",
      "    **self._kwargs)\n",
      "  File \"c:\\users\\ammu\\anaconda3\\envs\\penv1\\lib\\site-packages\\sklearn\\utils\\validation.py\", line 63, in inner_f\n",
      "    return f(*args, **kwargs)\n",
      "  File \"c:\\users\\ammu\\anaconda3\\envs\\penv1\\lib\\site-packages\\sklearn\\metrics\\_regression.py\", line 336, in mean_squared_error\n",
      "    y_true, y_pred, multioutput)\n",
      "  File \"c:\\users\\ammu\\anaconda3\\envs\\penv1\\lib\\site-packages\\sklearn\\metrics\\_regression.py\", line 89, in _check_reg_targets\n",
      "    y_true = check_array(y_true, ensure_2d=False, dtype=dtype)\n",
      "  File \"c:\\users\\ammu\\anaconda3\\envs\\penv1\\lib\\site-packages\\sklearn\\utils\\validation.py\", line 63, in inner_f\n",
      "    return f(*args, **kwargs)\n",
      "  File \"c:\\users\\ammu\\anaconda3\\envs\\penv1\\lib\\site-packages\\sklearn\\utils\\validation.py\", line 673, in check_array\n",
      "    array = np.asarray(array, order=order, dtype=dtype)\n",
      "  File \"c:\\users\\ammu\\anaconda3\\envs\\penv1\\lib\\site-packages\\numpy\\core\\_asarray.py\", line 102, in asarray\n",
      "    return array(a, dtype, copy=False, order=order)\n",
      "  File \"c:\\users\\ammu\\anaconda3\\envs\\penv1\\lib\\site-packages\\pandas\\core\\series.py\", line 768, in __array__\n",
      "    return np.asarray(self.array, dtype)\n",
      "  File \"c:\\users\\ammu\\anaconda3\\envs\\penv1\\lib\\site-packages\\numpy\\core\\_asarray.py\", line 102, in asarray\n",
      "    return array(a, dtype, copy=False, order=order)\n",
      "  File \"c:\\users\\ammu\\anaconda3\\envs\\penv1\\lib\\site-packages\\pandas\\core\\arrays\\numpy_.py\", line 203, in __array__\n",
      "    return np.asarray(self._ndarray, dtype=dtype)\n",
      "  File \"c:\\users\\ammu\\anaconda3\\envs\\penv1\\lib\\site-packages\\numpy\\core\\_asarray.py\", line 102, in asarray\n",
      "    return array(a, dtype, copy=False, order=order)\n",
      "ValueError: could not convert string to float: 'positive'\n",
      "\n",
      "  UserWarning,\n"
     ]
    },
    {
     "name": "stdout",
     "output_type": "stream",
     "text": [
      "[CV] END max_depth=15, max_features=auto, min_samples_leaf=5, min_samples_split=100, n_estimators=300; total time=  37.4s\n"
     ]
    },
    {
     "name": "stderr",
     "output_type": "stream",
     "text": [
      "c:\\users\\ammu\\anaconda3\\envs\\penv1\\lib\\site-packages\\sklearn\\model_selection\\_validation.py:700: UserWarning: Scoring failed. The score on this train-test partition for these parameters will be set to nan. Details: \n",
      "Traceback (most recent call last):\n",
      "  File \"c:\\users\\ammu\\anaconda3\\envs\\penv1\\lib\\site-packages\\sklearn\\model_selection\\_validation.py\", line 687, in _score\n",
      "    scores = scorer(estimator, X_test, y_test)\n",
      "  File \"c:\\users\\ammu\\anaconda3\\envs\\penv1\\lib\\site-packages\\sklearn\\metrics\\_scorer.py\", line 200, in __call__\n",
      "    sample_weight=sample_weight)\n",
      "  File \"c:\\users\\ammu\\anaconda3\\envs\\penv1\\lib\\site-packages\\sklearn\\metrics\\_scorer.py\", line 243, in _score\n",
      "    **self._kwargs)\n",
      "  File \"c:\\users\\ammu\\anaconda3\\envs\\penv1\\lib\\site-packages\\sklearn\\utils\\validation.py\", line 63, in inner_f\n",
      "    return f(*args, **kwargs)\n",
      "  File \"c:\\users\\ammu\\anaconda3\\envs\\penv1\\lib\\site-packages\\sklearn\\metrics\\_regression.py\", line 336, in mean_squared_error\n",
      "    y_true, y_pred, multioutput)\n",
      "  File \"c:\\users\\ammu\\anaconda3\\envs\\penv1\\lib\\site-packages\\sklearn\\metrics\\_regression.py\", line 89, in _check_reg_targets\n",
      "    y_true = check_array(y_true, ensure_2d=False, dtype=dtype)\n",
      "  File \"c:\\users\\ammu\\anaconda3\\envs\\penv1\\lib\\site-packages\\sklearn\\utils\\validation.py\", line 63, in inner_f\n",
      "    return f(*args, **kwargs)\n",
      "  File \"c:\\users\\ammu\\anaconda3\\envs\\penv1\\lib\\site-packages\\sklearn\\utils\\validation.py\", line 673, in check_array\n",
      "    array = np.asarray(array, order=order, dtype=dtype)\n",
      "  File \"c:\\users\\ammu\\anaconda3\\envs\\penv1\\lib\\site-packages\\numpy\\core\\_asarray.py\", line 102, in asarray\n",
      "    return array(a, dtype, copy=False, order=order)\n",
      "  File \"c:\\users\\ammu\\anaconda3\\envs\\penv1\\lib\\site-packages\\pandas\\core\\series.py\", line 768, in __array__\n",
      "    return np.asarray(self.array, dtype)\n",
      "  File \"c:\\users\\ammu\\anaconda3\\envs\\penv1\\lib\\site-packages\\numpy\\core\\_asarray.py\", line 102, in asarray\n",
      "    return array(a, dtype, copy=False, order=order)\n",
      "  File \"c:\\users\\ammu\\anaconda3\\envs\\penv1\\lib\\site-packages\\pandas\\core\\arrays\\numpy_.py\", line 203, in __array__\n",
      "    return np.asarray(self._ndarray, dtype=dtype)\n",
      "  File \"c:\\users\\ammu\\anaconda3\\envs\\penv1\\lib\\site-packages\\numpy\\core\\_asarray.py\", line 102, in asarray\n",
      "    return array(a, dtype, copy=False, order=order)\n",
      "ValueError: could not convert string to float: 'positive'\n",
      "\n",
      "  UserWarning,\n"
     ]
    },
    {
     "name": "stdout",
     "output_type": "stream",
     "text": [
      "[CV] END max_depth=15, max_features=auto, min_samples_leaf=5, min_samples_split=5, n_estimators=400; total time=  51.6s\n"
     ]
    },
    {
     "name": "stderr",
     "output_type": "stream",
     "text": [
      "c:\\users\\ammu\\anaconda3\\envs\\penv1\\lib\\site-packages\\sklearn\\model_selection\\_validation.py:700: UserWarning: Scoring failed. The score on this train-test partition for these parameters will be set to nan. Details: \n",
      "Traceback (most recent call last):\n",
      "  File \"c:\\users\\ammu\\anaconda3\\envs\\penv1\\lib\\site-packages\\sklearn\\model_selection\\_validation.py\", line 687, in _score\n",
      "    scores = scorer(estimator, X_test, y_test)\n",
      "  File \"c:\\users\\ammu\\anaconda3\\envs\\penv1\\lib\\site-packages\\sklearn\\metrics\\_scorer.py\", line 200, in __call__\n",
      "    sample_weight=sample_weight)\n",
      "  File \"c:\\users\\ammu\\anaconda3\\envs\\penv1\\lib\\site-packages\\sklearn\\metrics\\_scorer.py\", line 243, in _score\n",
      "    **self._kwargs)\n",
      "  File \"c:\\users\\ammu\\anaconda3\\envs\\penv1\\lib\\site-packages\\sklearn\\utils\\validation.py\", line 63, in inner_f\n",
      "    return f(*args, **kwargs)\n",
      "  File \"c:\\users\\ammu\\anaconda3\\envs\\penv1\\lib\\site-packages\\sklearn\\metrics\\_regression.py\", line 336, in mean_squared_error\n",
      "    y_true, y_pred, multioutput)\n",
      "  File \"c:\\users\\ammu\\anaconda3\\envs\\penv1\\lib\\site-packages\\sklearn\\metrics\\_regression.py\", line 89, in _check_reg_targets\n",
      "    y_true = check_array(y_true, ensure_2d=False, dtype=dtype)\n",
      "  File \"c:\\users\\ammu\\anaconda3\\envs\\penv1\\lib\\site-packages\\sklearn\\utils\\validation.py\", line 63, in inner_f\n",
      "    return f(*args, **kwargs)\n",
      "  File \"c:\\users\\ammu\\anaconda3\\envs\\penv1\\lib\\site-packages\\sklearn\\utils\\validation.py\", line 673, in check_array\n",
      "    array = np.asarray(array, order=order, dtype=dtype)\n",
      "  File \"c:\\users\\ammu\\anaconda3\\envs\\penv1\\lib\\site-packages\\numpy\\core\\_asarray.py\", line 102, in asarray\n",
      "    return array(a, dtype, copy=False, order=order)\n",
      "  File \"c:\\users\\ammu\\anaconda3\\envs\\penv1\\lib\\site-packages\\pandas\\core\\series.py\", line 768, in __array__\n",
      "    return np.asarray(self.array, dtype)\n",
      "  File \"c:\\users\\ammu\\anaconda3\\envs\\penv1\\lib\\site-packages\\numpy\\core\\_asarray.py\", line 102, in asarray\n",
      "    return array(a, dtype, copy=False, order=order)\n",
      "  File \"c:\\users\\ammu\\anaconda3\\envs\\penv1\\lib\\site-packages\\pandas\\core\\arrays\\numpy_.py\", line 203, in __array__\n",
      "    return np.asarray(self._ndarray, dtype=dtype)\n",
      "  File \"c:\\users\\ammu\\anaconda3\\envs\\penv1\\lib\\site-packages\\numpy\\core\\_asarray.py\", line 102, in asarray\n",
      "    return array(a, dtype, copy=False, order=order)\n",
      "ValueError: could not convert string to float: 'positive'\n",
      "\n",
      "  UserWarning,\n"
     ]
    },
    {
     "name": "stdout",
     "output_type": "stream",
     "text": [
      "[CV] END max_depth=15, max_features=auto, min_samples_leaf=5, min_samples_split=5, n_estimators=400; total time=  52.2s\n"
     ]
    },
    {
     "name": "stderr",
     "output_type": "stream",
     "text": [
      "c:\\users\\ammu\\anaconda3\\envs\\penv1\\lib\\site-packages\\sklearn\\model_selection\\_validation.py:700: UserWarning: Scoring failed. The score on this train-test partition for these parameters will be set to nan. Details: \n",
      "Traceback (most recent call last):\n",
      "  File \"c:\\users\\ammu\\anaconda3\\envs\\penv1\\lib\\site-packages\\sklearn\\model_selection\\_validation.py\", line 687, in _score\n",
      "    scores = scorer(estimator, X_test, y_test)\n",
      "  File \"c:\\users\\ammu\\anaconda3\\envs\\penv1\\lib\\site-packages\\sklearn\\metrics\\_scorer.py\", line 200, in __call__\n",
      "    sample_weight=sample_weight)\n",
      "  File \"c:\\users\\ammu\\anaconda3\\envs\\penv1\\lib\\site-packages\\sklearn\\metrics\\_scorer.py\", line 243, in _score\n",
      "    **self._kwargs)\n",
      "  File \"c:\\users\\ammu\\anaconda3\\envs\\penv1\\lib\\site-packages\\sklearn\\utils\\validation.py\", line 63, in inner_f\n",
      "    return f(*args, **kwargs)\n",
      "  File \"c:\\users\\ammu\\anaconda3\\envs\\penv1\\lib\\site-packages\\sklearn\\metrics\\_regression.py\", line 336, in mean_squared_error\n",
      "    y_true, y_pred, multioutput)\n",
      "  File \"c:\\users\\ammu\\anaconda3\\envs\\penv1\\lib\\site-packages\\sklearn\\metrics\\_regression.py\", line 89, in _check_reg_targets\n",
      "    y_true = check_array(y_true, ensure_2d=False, dtype=dtype)\n",
      "  File \"c:\\users\\ammu\\anaconda3\\envs\\penv1\\lib\\site-packages\\sklearn\\utils\\validation.py\", line 63, in inner_f\n",
      "    return f(*args, **kwargs)\n",
      "  File \"c:\\users\\ammu\\anaconda3\\envs\\penv1\\lib\\site-packages\\sklearn\\utils\\validation.py\", line 673, in check_array\n",
      "    array = np.asarray(array, order=order, dtype=dtype)\n",
      "  File \"c:\\users\\ammu\\anaconda3\\envs\\penv1\\lib\\site-packages\\numpy\\core\\_asarray.py\", line 102, in asarray\n",
      "    return array(a, dtype, copy=False, order=order)\n",
      "  File \"c:\\users\\ammu\\anaconda3\\envs\\penv1\\lib\\site-packages\\pandas\\core\\series.py\", line 768, in __array__\n",
      "    return np.asarray(self.array, dtype)\n",
      "  File \"c:\\users\\ammu\\anaconda3\\envs\\penv1\\lib\\site-packages\\numpy\\core\\_asarray.py\", line 102, in asarray\n",
      "    return array(a, dtype, copy=False, order=order)\n",
      "  File \"c:\\users\\ammu\\anaconda3\\envs\\penv1\\lib\\site-packages\\pandas\\core\\arrays\\numpy_.py\", line 203, in __array__\n",
      "    return np.asarray(self._ndarray, dtype=dtype)\n",
      "  File \"c:\\users\\ammu\\anaconda3\\envs\\penv1\\lib\\site-packages\\numpy\\core\\_asarray.py\", line 102, in asarray\n",
      "    return array(a, dtype, copy=False, order=order)\n",
      "ValueError: could not convert string to float: 'negative'\n",
      "\n",
      "  UserWarning,\n"
     ]
    },
    {
     "name": "stdout",
     "output_type": "stream",
     "text": [
      "[CV] END max_depth=15, max_features=auto, min_samples_leaf=5, min_samples_split=5, n_estimators=400; total time=  53.9s\n"
     ]
    },
    {
     "name": "stderr",
     "output_type": "stream",
     "text": [
      "c:\\users\\ammu\\anaconda3\\envs\\penv1\\lib\\site-packages\\sklearn\\model_selection\\_validation.py:700: UserWarning: Scoring failed. The score on this train-test partition for these parameters will be set to nan. Details: \n",
      "Traceback (most recent call last):\n",
      "  File \"c:\\users\\ammu\\anaconda3\\envs\\penv1\\lib\\site-packages\\sklearn\\model_selection\\_validation.py\", line 687, in _score\n",
      "    scores = scorer(estimator, X_test, y_test)\n",
      "  File \"c:\\users\\ammu\\anaconda3\\envs\\penv1\\lib\\site-packages\\sklearn\\metrics\\_scorer.py\", line 200, in __call__\n",
      "    sample_weight=sample_weight)\n",
      "  File \"c:\\users\\ammu\\anaconda3\\envs\\penv1\\lib\\site-packages\\sklearn\\metrics\\_scorer.py\", line 243, in _score\n",
      "    **self._kwargs)\n",
      "  File \"c:\\users\\ammu\\anaconda3\\envs\\penv1\\lib\\site-packages\\sklearn\\utils\\validation.py\", line 63, in inner_f\n",
      "    return f(*args, **kwargs)\n",
      "  File \"c:\\users\\ammu\\anaconda3\\envs\\penv1\\lib\\site-packages\\sklearn\\metrics\\_regression.py\", line 336, in mean_squared_error\n",
      "    y_true, y_pred, multioutput)\n",
      "  File \"c:\\users\\ammu\\anaconda3\\envs\\penv1\\lib\\site-packages\\sklearn\\metrics\\_regression.py\", line 89, in _check_reg_targets\n",
      "    y_true = check_array(y_true, ensure_2d=False, dtype=dtype)\n",
      "  File \"c:\\users\\ammu\\anaconda3\\envs\\penv1\\lib\\site-packages\\sklearn\\utils\\validation.py\", line 63, in inner_f\n",
      "    return f(*args, **kwargs)\n",
      "  File \"c:\\users\\ammu\\anaconda3\\envs\\penv1\\lib\\site-packages\\sklearn\\utils\\validation.py\", line 673, in check_array\n",
      "    array = np.asarray(array, order=order, dtype=dtype)\n",
      "  File \"c:\\users\\ammu\\anaconda3\\envs\\penv1\\lib\\site-packages\\numpy\\core\\_asarray.py\", line 102, in asarray\n",
      "    return array(a, dtype, copy=False, order=order)\n",
      "  File \"c:\\users\\ammu\\anaconda3\\envs\\penv1\\lib\\site-packages\\pandas\\core\\series.py\", line 768, in __array__\n",
      "    return np.asarray(self.array, dtype)\n",
      "  File \"c:\\users\\ammu\\anaconda3\\envs\\penv1\\lib\\site-packages\\numpy\\core\\_asarray.py\", line 102, in asarray\n",
      "    return array(a, dtype, copy=False, order=order)\n",
      "  File \"c:\\users\\ammu\\anaconda3\\envs\\penv1\\lib\\site-packages\\pandas\\core\\arrays\\numpy_.py\", line 203, in __array__\n",
      "    return np.asarray(self._ndarray, dtype=dtype)\n",
      "  File \"c:\\users\\ammu\\anaconda3\\envs\\penv1\\lib\\site-packages\\numpy\\core\\_asarray.py\", line 102, in asarray\n",
      "    return array(a, dtype, copy=False, order=order)\n",
      "ValueError: could not convert string to float: 'negative'\n",
      "\n",
      "  UserWarning,\n"
     ]
    },
    {
     "name": "stdout",
     "output_type": "stream",
     "text": [
      "[CV] END max_depth=15, max_features=auto, min_samples_leaf=5, min_samples_split=5, n_estimators=400; total time=  51.6s\n"
     ]
    },
    {
     "name": "stderr",
     "output_type": "stream",
     "text": [
      "c:\\users\\ammu\\anaconda3\\envs\\penv1\\lib\\site-packages\\sklearn\\model_selection\\_validation.py:700: UserWarning: Scoring failed. The score on this train-test partition for these parameters will be set to nan. Details: \n",
      "Traceback (most recent call last):\n",
      "  File \"c:\\users\\ammu\\anaconda3\\envs\\penv1\\lib\\site-packages\\sklearn\\model_selection\\_validation.py\", line 687, in _score\n",
      "    scores = scorer(estimator, X_test, y_test)\n",
      "  File \"c:\\users\\ammu\\anaconda3\\envs\\penv1\\lib\\site-packages\\sklearn\\metrics\\_scorer.py\", line 200, in __call__\n",
      "    sample_weight=sample_weight)\n",
      "  File \"c:\\users\\ammu\\anaconda3\\envs\\penv1\\lib\\site-packages\\sklearn\\metrics\\_scorer.py\", line 243, in _score\n",
      "    **self._kwargs)\n",
      "  File \"c:\\users\\ammu\\anaconda3\\envs\\penv1\\lib\\site-packages\\sklearn\\utils\\validation.py\", line 63, in inner_f\n",
      "    return f(*args, **kwargs)\n",
      "  File \"c:\\users\\ammu\\anaconda3\\envs\\penv1\\lib\\site-packages\\sklearn\\metrics\\_regression.py\", line 336, in mean_squared_error\n",
      "    y_true, y_pred, multioutput)\n",
      "  File \"c:\\users\\ammu\\anaconda3\\envs\\penv1\\lib\\site-packages\\sklearn\\metrics\\_regression.py\", line 89, in _check_reg_targets\n",
      "    y_true = check_array(y_true, ensure_2d=False, dtype=dtype)\n",
      "  File \"c:\\users\\ammu\\anaconda3\\envs\\penv1\\lib\\site-packages\\sklearn\\utils\\validation.py\", line 63, in inner_f\n",
      "    return f(*args, **kwargs)\n",
      "  File \"c:\\users\\ammu\\anaconda3\\envs\\penv1\\lib\\site-packages\\sklearn\\utils\\validation.py\", line 673, in check_array\n",
      "    array = np.asarray(array, order=order, dtype=dtype)\n",
      "  File \"c:\\users\\ammu\\anaconda3\\envs\\penv1\\lib\\site-packages\\numpy\\core\\_asarray.py\", line 102, in asarray\n",
      "    return array(a, dtype, copy=False, order=order)\n",
      "  File \"c:\\users\\ammu\\anaconda3\\envs\\penv1\\lib\\site-packages\\pandas\\core\\series.py\", line 768, in __array__\n",
      "    return np.asarray(self.array, dtype)\n",
      "  File \"c:\\users\\ammu\\anaconda3\\envs\\penv1\\lib\\site-packages\\numpy\\core\\_asarray.py\", line 102, in asarray\n",
      "    return array(a, dtype, copy=False, order=order)\n",
      "  File \"c:\\users\\ammu\\anaconda3\\envs\\penv1\\lib\\site-packages\\pandas\\core\\arrays\\numpy_.py\", line 203, in __array__\n",
      "    return np.asarray(self._ndarray, dtype=dtype)\n",
      "  File \"c:\\users\\ammu\\anaconda3\\envs\\penv1\\lib\\site-packages\\numpy\\core\\_asarray.py\", line 102, in asarray\n",
      "    return array(a, dtype, copy=False, order=order)\n",
      "ValueError: could not convert string to float: 'positive'\n",
      "\n",
      "  UserWarning,\n"
     ]
    },
    {
     "name": "stdout",
     "output_type": "stream",
     "text": [
      "[CV] END max_depth=15, max_features=auto, min_samples_leaf=5, min_samples_split=5, n_estimators=400; total time=  51.7s\n"
     ]
    },
    {
     "name": "stderr",
     "output_type": "stream",
     "text": [
      "c:\\users\\ammu\\anaconda3\\envs\\penv1\\lib\\site-packages\\sklearn\\model_selection\\_validation.py:700: UserWarning: Scoring failed. The score on this train-test partition for these parameters will be set to nan. Details: \n",
      "Traceback (most recent call last):\n",
      "  File \"c:\\users\\ammu\\anaconda3\\envs\\penv1\\lib\\site-packages\\sklearn\\model_selection\\_validation.py\", line 687, in _score\n",
      "    scores = scorer(estimator, X_test, y_test)\n",
      "  File \"c:\\users\\ammu\\anaconda3\\envs\\penv1\\lib\\site-packages\\sklearn\\metrics\\_scorer.py\", line 200, in __call__\n",
      "    sample_weight=sample_weight)\n",
      "  File \"c:\\users\\ammu\\anaconda3\\envs\\penv1\\lib\\site-packages\\sklearn\\metrics\\_scorer.py\", line 243, in _score\n",
      "    **self._kwargs)\n",
      "  File \"c:\\users\\ammu\\anaconda3\\envs\\penv1\\lib\\site-packages\\sklearn\\utils\\validation.py\", line 63, in inner_f\n",
      "    return f(*args, **kwargs)\n",
      "  File \"c:\\users\\ammu\\anaconda3\\envs\\penv1\\lib\\site-packages\\sklearn\\metrics\\_regression.py\", line 336, in mean_squared_error\n",
      "    y_true, y_pred, multioutput)\n",
      "  File \"c:\\users\\ammu\\anaconda3\\envs\\penv1\\lib\\site-packages\\sklearn\\metrics\\_regression.py\", line 89, in _check_reg_targets\n",
      "    y_true = check_array(y_true, ensure_2d=False, dtype=dtype)\n",
      "  File \"c:\\users\\ammu\\anaconda3\\envs\\penv1\\lib\\site-packages\\sklearn\\utils\\validation.py\", line 63, in inner_f\n",
      "    return f(*args, **kwargs)\n",
      "  File \"c:\\users\\ammu\\anaconda3\\envs\\penv1\\lib\\site-packages\\sklearn\\utils\\validation.py\", line 673, in check_array\n",
      "    array = np.asarray(array, order=order, dtype=dtype)\n",
      "  File \"c:\\users\\ammu\\anaconda3\\envs\\penv1\\lib\\site-packages\\numpy\\core\\_asarray.py\", line 102, in asarray\n",
      "    return array(a, dtype, copy=False, order=order)\n",
      "  File \"c:\\users\\ammu\\anaconda3\\envs\\penv1\\lib\\site-packages\\pandas\\core\\series.py\", line 768, in __array__\n",
      "    return np.asarray(self.array, dtype)\n",
      "  File \"c:\\users\\ammu\\anaconda3\\envs\\penv1\\lib\\site-packages\\numpy\\core\\_asarray.py\", line 102, in asarray\n",
      "    return array(a, dtype, copy=False, order=order)\n",
      "  File \"c:\\users\\ammu\\anaconda3\\envs\\penv1\\lib\\site-packages\\pandas\\core\\arrays\\numpy_.py\", line 203, in __array__\n",
      "    return np.asarray(self._ndarray, dtype=dtype)\n",
      "  File \"c:\\users\\ammu\\anaconda3\\envs\\penv1\\lib\\site-packages\\numpy\\core\\_asarray.py\", line 102, in asarray\n",
      "    return array(a, dtype, copy=False, order=order)\n",
      "ValueError: could not convert string to float: 'positive'\n",
      "\n",
      "  UserWarning,\n"
     ]
    },
    {
     "name": "stdout",
     "output_type": "stream",
     "text": [
      "[CV] END max_depth=20, max_features=auto, min_samples_leaf=10, min_samples_split=5, n_estimators=700; total time= 1.8min\n"
     ]
    },
    {
     "name": "stderr",
     "output_type": "stream",
     "text": [
      "c:\\users\\ammu\\anaconda3\\envs\\penv1\\lib\\site-packages\\sklearn\\model_selection\\_validation.py:700: UserWarning: Scoring failed. The score on this train-test partition for these parameters will be set to nan. Details: \n",
      "Traceback (most recent call last):\n",
      "  File \"c:\\users\\ammu\\anaconda3\\envs\\penv1\\lib\\site-packages\\sklearn\\model_selection\\_validation.py\", line 687, in _score\n",
      "    scores = scorer(estimator, X_test, y_test)\n",
      "  File \"c:\\users\\ammu\\anaconda3\\envs\\penv1\\lib\\site-packages\\sklearn\\metrics\\_scorer.py\", line 200, in __call__\n",
      "    sample_weight=sample_weight)\n",
      "  File \"c:\\users\\ammu\\anaconda3\\envs\\penv1\\lib\\site-packages\\sklearn\\metrics\\_scorer.py\", line 243, in _score\n",
      "    **self._kwargs)\n",
      "  File \"c:\\users\\ammu\\anaconda3\\envs\\penv1\\lib\\site-packages\\sklearn\\utils\\validation.py\", line 63, in inner_f\n",
      "    return f(*args, **kwargs)\n",
      "  File \"c:\\users\\ammu\\anaconda3\\envs\\penv1\\lib\\site-packages\\sklearn\\metrics\\_regression.py\", line 336, in mean_squared_error\n",
      "    y_true, y_pred, multioutput)\n",
      "  File \"c:\\users\\ammu\\anaconda3\\envs\\penv1\\lib\\site-packages\\sklearn\\metrics\\_regression.py\", line 89, in _check_reg_targets\n",
      "    y_true = check_array(y_true, ensure_2d=False, dtype=dtype)\n",
      "  File \"c:\\users\\ammu\\anaconda3\\envs\\penv1\\lib\\site-packages\\sklearn\\utils\\validation.py\", line 63, in inner_f\n",
      "    return f(*args, **kwargs)\n",
      "  File \"c:\\users\\ammu\\anaconda3\\envs\\penv1\\lib\\site-packages\\sklearn\\utils\\validation.py\", line 673, in check_array\n",
      "    array = np.asarray(array, order=order, dtype=dtype)\n",
      "  File \"c:\\users\\ammu\\anaconda3\\envs\\penv1\\lib\\site-packages\\numpy\\core\\_asarray.py\", line 102, in asarray\n",
      "    return array(a, dtype, copy=False, order=order)\n",
      "  File \"c:\\users\\ammu\\anaconda3\\envs\\penv1\\lib\\site-packages\\pandas\\core\\series.py\", line 768, in __array__\n",
      "    return np.asarray(self.array, dtype)\n",
      "  File \"c:\\users\\ammu\\anaconda3\\envs\\penv1\\lib\\site-packages\\numpy\\core\\_asarray.py\", line 102, in asarray\n",
      "    return array(a, dtype, copy=False, order=order)\n",
      "  File \"c:\\users\\ammu\\anaconda3\\envs\\penv1\\lib\\site-packages\\pandas\\core\\arrays\\numpy_.py\", line 203, in __array__\n",
      "    return np.asarray(self._ndarray, dtype=dtype)\n",
      "  File \"c:\\users\\ammu\\anaconda3\\envs\\penv1\\lib\\site-packages\\numpy\\core\\_asarray.py\", line 102, in asarray\n",
      "    return array(a, dtype, copy=False, order=order)\n",
      "ValueError: could not convert string to float: 'positive'\n",
      "\n",
      "  UserWarning,\n"
     ]
    },
    {
     "name": "stdout",
     "output_type": "stream",
     "text": [
      "[CV] END max_depth=20, max_features=auto, min_samples_leaf=10, min_samples_split=5, n_estimators=700; total time= 1.8min\n"
     ]
    },
    {
     "name": "stderr",
     "output_type": "stream",
     "text": [
      "c:\\users\\ammu\\anaconda3\\envs\\penv1\\lib\\site-packages\\sklearn\\model_selection\\_validation.py:700: UserWarning: Scoring failed. The score on this train-test partition for these parameters will be set to nan. Details: \n",
      "Traceback (most recent call last):\n",
      "  File \"c:\\users\\ammu\\anaconda3\\envs\\penv1\\lib\\site-packages\\sklearn\\model_selection\\_validation.py\", line 687, in _score\n",
      "    scores = scorer(estimator, X_test, y_test)\n",
      "  File \"c:\\users\\ammu\\anaconda3\\envs\\penv1\\lib\\site-packages\\sklearn\\metrics\\_scorer.py\", line 200, in __call__\n",
      "    sample_weight=sample_weight)\n",
      "  File \"c:\\users\\ammu\\anaconda3\\envs\\penv1\\lib\\site-packages\\sklearn\\metrics\\_scorer.py\", line 243, in _score\n",
      "    **self._kwargs)\n",
      "  File \"c:\\users\\ammu\\anaconda3\\envs\\penv1\\lib\\site-packages\\sklearn\\utils\\validation.py\", line 63, in inner_f\n",
      "    return f(*args, **kwargs)\n",
      "  File \"c:\\users\\ammu\\anaconda3\\envs\\penv1\\lib\\site-packages\\sklearn\\metrics\\_regression.py\", line 336, in mean_squared_error\n",
      "    y_true, y_pred, multioutput)\n",
      "  File \"c:\\users\\ammu\\anaconda3\\envs\\penv1\\lib\\site-packages\\sklearn\\metrics\\_regression.py\", line 89, in _check_reg_targets\n",
      "    y_true = check_array(y_true, ensure_2d=False, dtype=dtype)\n",
      "  File \"c:\\users\\ammu\\anaconda3\\envs\\penv1\\lib\\site-packages\\sklearn\\utils\\validation.py\", line 63, in inner_f\n",
      "    return f(*args, **kwargs)\n",
      "  File \"c:\\users\\ammu\\anaconda3\\envs\\penv1\\lib\\site-packages\\sklearn\\utils\\validation.py\", line 673, in check_array\n",
      "    array = np.asarray(array, order=order, dtype=dtype)\n",
      "  File \"c:\\users\\ammu\\anaconda3\\envs\\penv1\\lib\\site-packages\\numpy\\core\\_asarray.py\", line 102, in asarray\n",
      "    return array(a, dtype, copy=False, order=order)\n",
      "  File \"c:\\users\\ammu\\anaconda3\\envs\\penv1\\lib\\site-packages\\pandas\\core\\series.py\", line 768, in __array__\n",
      "    return np.asarray(self.array, dtype)\n",
      "  File \"c:\\users\\ammu\\anaconda3\\envs\\penv1\\lib\\site-packages\\numpy\\core\\_asarray.py\", line 102, in asarray\n",
      "    return array(a, dtype, copy=False, order=order)\n",
      "  File \"c:\\users\\ammu\\anaconda3\\envs\\penv1\\lib\\site-packages\\pandas\\core\\arrays\\numpy_.py\", line 203, in __array__\n",
      "    return np.asarray(self._ndarray, dtype=dtype)\n",
      "  File \"c:\\users\\ammu\\anaconda3\\envs\\penv1\\lib\\site-packages\\numpy\\core\\_asarray.py\", line 102, in asarray\n",
      "    return array(a, dtype, copy=False, order=order)\n",
      "ValueError: could not convert string to float: 'negative'\n",
      "\n",
      "  UserWarning,\n"
     ]
    },
    {
     "name": "stdout",
     "output_type": "stream",
     "text": [
      "[CV] END max_depth=20, max_features=auto, min_samples_leaf=10, min_samples_split=5, n_estimators=700; total time= 2.0min\n"
     ]
    },
    {
     "name": "stderr",
     "output_type": "stream",
     "text": [
      "c:\\users\\ammu\\anaconda3\\envs\\penv1\\lib\\site-packages\\sklearn\\model_selection\\_validation.py:700: UserWarning: Scoring failed. The score on this train-test partition for these parameters will be set to nan. Details: \n",
      "Traceback (most recent call last):\n",
      "  File \"c:\\users\\ammu\\anaconda3\\envs\\penv1\\lib\\site-packages\\sklearn\\model_selection\\_validation.py\", line 687, in _score\n",
      "    scores = scorer(estimator, X_test, y_test)\n",
      "  File \"c:\\users\\ammu\\anaconda3\\envs\\penv1\\lib\\site-packages\\sklearn\\metrics\\_scorer.py\", line 200, in __call__\n",
      "    sample_weight=sample_weight)\n",
      "  File \"c:\\users\\ammu\\anaconda3\\envs\\penv1\\lib\\site-packages\\sklearn\\metrics\\_scorer.py\", line 243, in _score\n",
      "    **self._kwargs)\n",
      "  File \"c:\\users\\ammu\\anaconda3\\envs\\penv1\\lib\\site-packages\\sklearn\\utils\\validation.py\", line 63, in inner_f\n",
      "    return f(*args, **kwargs)\n",
      "  File \"c:\\users\\ammu\\anaconda3\\envs\\penv1\\lib\\site-packages\\sklearn\\metrics\\_regression.py\", line 336, in mean_squared_error\n",
      "    y_true, y_pred, multioutput)\n",
      "  File \"c:\\users\\ammu\\anaconda3\\envs\\penv1\\lib\\site-packages\\sklearn\\metrics\\_regression.py\", line 89, in _check_reg_targets\n",
      "    y_true = check_array(y_true, ensure_2d=False, dtype=dtype)\n",
      "  File \"c:\\users\\ammu\\anaconda3\\envs\\penv1\\lib\\site-packages\\sklearn\\utils\\validation.py\", line 63, in inner_f\n",
      "    return f(*args, **kwargs)\n",
      "  File \"c:\\users\\ammu\\anaconda3\\envs\\penv1\\lib\\site-packages\\sklearn\\utils\\validation.py\", line 673, in check_array\n",
      "    array = np.asarray(array, order=order, dtype=dtype)\n",
      "  File \"c:\\users\\ammu\\anaconda3\\envs\\penv1\\lib\\site-packages\\numpy\\core\\_asarray.py\", line 102, in asarray\n",
      "    return array(a, dtype, copy=False, order=order)\n",
      "  File \"c:\\users\\ammu\\anaconda3\\envs\\penv1\\lib\\site-packages\\pandas\\core\\series.py\", line 768, in __array__\n",
      "    return np.asarray(self.array, dtype)\n",
      "  File \"c:\\users\\ammu\\anaconda3\\envs\\penv1\\lib\\site-packages\\numpy\\core\\_asarray.py\", line 102, in asarray\n",
      "    return array(a, dtype, copy=False, order=order)\n",
      "  File \"c:\\users\\ammu\\anaconda3\\envs\\penv1\\lib\\site-packages\\pandas\\core\\arrays\\numpy_.py\", line 203, in __array__\n",
      "    return np.asarray(self._ndarray, dtype=dtype)\n",
      "  File \"c:\\users\\ammu\\anaconda3\\envs\\penv1\\lib\\site-packages\\numpy\\core\\_asarray.py\", line 102, in asarray\n",
      "    return array(a, dtype, copy=False, order=order)\n",
      "ValueError: could not convert string to float: 'negative'\n",
      "\n",
      "  UserWarning,\n"
     ]
    },
    {
     "name": "stdout",
     "output_type": "stream",
     "text": [
      "[CV] END max_depth=20, max_features=auto, min_samples_leaf=10, min_samples_split=5, n_estimators=700; total time= 1.8min\n"
     ]
    },
    {
     "name": "stderr",
     "output_type": "stream",
     "text": [
      "c:\\users\\ammu\\anaconda3\\envs\\penv1\\lib\\site-packages\\sklearn\\model_selection\\_validation.py:700: UserWarning: Scoring failed. The score on this train-test partition for these parameters will be set to nan. Details: \n",
      "Traceback (most recent call last):\n",
      "  File \"c:\\users\\ammu\\anaconda3\\envs\\penv1\\lib\\site-packages\\sklearn\\model_selection\\_validation.py\", line 687, in _score\n",
      "    scores = scorer(estimator, X_test, y_test)\n",
      "  File \"c:\\users\\ammu\\anaconda3\\envs\\penv1\\lib\\site-packages\\sklearn\\metrics\\_scorer.py\", line 200, in __call__\n",
      "    sample_weight=sample_weight)\n",
      "  File \"c:\\users\\ammu\\anaconda3\\envs\\penv1\\lib\\site-packages\\sklearn\\metrics\\_scorer.py\", line 243, in _score\n",
      "    **self._kwargs)\n",
      "  File \"c:\\users\\ammu\\anaconda3\\envs\\penv1\\lib\\site-packages\\sklearn\\utils\\validation.py\", line 63, in inner_f\n",
      "    return f(*args, **kwargs)\n",
      "  File \"c:\\users\\ammu\\anaconda3\\envs\\penv1\\lib\\site-packages\\sklearn\\metrics\\_regression.py\", line 336, in mean_squared_error\n",
      "    y_true, y_pred, multioutput)\n",
      "  File \"c:\\users\\ammu\\anaconda3\\envs\\penv1\\lib\\site-packages\\sklearn\\metrics\\_regression.py\", line 89, in _check_reg_targets\n",
      "    y_true = check_array(y_true, ensure_2d=False, dtype=dtype)\n",
      "  File \"c:\\users\\ammu\\anaconda3\\envs\\penv1\\lib\\site-packages\\sklearn\\utils\\validation.py\", line 63, in inner_f\n",
      "    return f(*args, **kwargs)\n",
      "  File \"c:\\users\\ammu\\anaconda3\\envs\\penv1\\lib\\site-packages\\sklearn\\utils\\validation.py\", line 673, in check_array\n",
      "    array = np.asarray(array, order=order, dtype=dtype)\n",
      "  File \"c:\\users\\ammu\\anaconda3\\envs\\penv1\\lib\\site-packages\\numpy\\core\\_asarray.py\", line 102, in asarray\n",
      "    return array(a, dtype, copy=False, order=order)\n",
      "  File \"c:\\users\\ammu\\anaconda3\\envs\\penv1\\lib\\site-packages\\pandas\\core\\series.py\", line 768, in __array__\n",
      "    return np.asarray(self.array, dtype)\n",
      "  File \"c:\\users\\ammu\\anaconda3\\envs\\penv1\\lib\\site-packages\\numpy\\core\\_asarray.py\", line 102, in asarray\n",
      "    return array(a, dtype, copy=False, order=order)\n",
      "  File \"c:\\users\\ammu\\anaconda3\\envs\\penv1\\lib\\site-packages\\pandas\\core\\arrays\\numpy_.py\", line 203, in __array__\n",
      "    return np.asarray(self._ndarray, dtype=dtype)\n",
      "  File \"c:\\users\\ammu\\anaconda3\\envs\\penv1\\lib\\site-packages\\numpy\\core\\_asarray.py\", line 102, in asarray\n",
      "    return array(a, dtype, copy=False, order=order)\n",
      "ValueError: could not convert string to float: 'positive'\n",
      "\n",
      "  UserWarning,\n"
     ]
    },
    {
     "name": "stdout",
     "output_type": "stream",
     "text": [
      "[CV] END max_depth=20, max_features=auto, min_samples_leaf=10, min_samples_split=5, n_estimators=700; total time= 1.8min\n"
     ]
    },
    {
     "name": "stderr",
     "output_type": "stream",
     "text": [
      "c:\\users\\ammu\\anaconda3\\envs\\penv1\\lib\\site-packages\\sklearn\\model_selection\\_validation.py:700: UserWarning: Scoring failed. The score on this train-test partition for these parameters will be set to nan. Details: \n",
      "Traceback (most recent call last):\n",
      "  File \"c:\\users\\ammu\\anaconda3\\envs\\penv1\\lib\\site-packages\\sklearn\\model_selection\\_validation.py\", line 687, in _score\n",
      "    scores = scorer(estimator, X_test, y_test)\n",
      "  File \"c:\\users\\ammu\\anaconda3\\envs\\penv1\\lib\\site-packages\\sklearn\\metrics\\_scorer.py\", line 200, in __call__\n",
      "    sample_weight=sample_weight)\n",
      "  File \"c:\\users\\ammu\\anaconda3\\envs\\penv1\\lib\\site-packages\\sklearn\\metrics\\_scorer.py\", line 243, in _score\n",
      "    **self._kwargs)\n",
      "  File \"c:\\users\\ammu\\anaconda3\\envs\\penv1\\lib\\site-packages\\sklearn\\utils\\validation.py\", line 63, in inner_f\n",
      "    return f(*args, **kwargs)\n",
      "  File \"c:\\users\\ammu\\anaconda3\\envs\\penv1\\lib\\site-packages\\sklearn\\metrics\\_regression.py\", line 336, in mean_squared_error\n",
      "    y_true, y_pred, multioutput)\n",
      "  File \"c:\\users\\ammu\\anaconda3\\envs\\penv1\\lib\\site-packages\\sklearn\\metrics\\_regression.py\", line 89, in _check_reg_targets\n",
      "    y_true = check_array(y_true, ensure_2d=False, dtype=dtype)\n",
      "  File \"c:\\users\\ammu\\anaconda3\\envs\\penv1\\lib\\site-packages\\sklearn\\utils\\validation.py\", line 63, in inner_f\n",
      "    return f(*args, **kwargs)\n",
      "  File \"c:\\users\\ammu\\anaconda3\\envs\\penv1\\lib\\site-packages\\sklearn\\utils\\validation.py\", line 673, in check_array\n",
      "    array = np.asarray(array, order=order, dtype=dtype)\n",
      "  File \"c:\\users\\ammu\\anaconda3\\envs\\penv1\\lib\\site-packages\\numpy\\core\\_asarray.py\", line 102, in asarray\n",
      "    return array(a, dtype, copy=False, order=order)\n",
      "  File \"c:\\users\\ammu\\anaconda3\\envs\\penv1\\lib\\site-packages\\pandas\\core\\series.py\", line 768, in __array__\n",
      "    return np.asarray(self.array, dtype)\n",
      "  File \"c:\\users\\ammu\\anaconda3\\envs\\penv1\\lib\\site-packages\\numpy\\core\\_asarray.py\", line 102, in asarray\n",
      "    return array(a, dtype, copy=False, order=order)\n",
      "  File \"c:\\users\\ammu\\anaconda3\\envs\\penv1\\lib\\site-packages\\pandas\\core\\arrays\\numpy_.py\", line 203, in __array__\n",
      "    return np.asarray(self._ndarray, dtype=dtype)\n",
      "  File \"c:\\users\\ammu\\anaconda3\\envs\\penv1\\lib\\site-packages\\numpy\\core\\_asarray.py\", line 102, in asarray\n",
      "    return array(a, dtype, copy=False, order=order)\n",
      "ValueError: could not convert string to float: 'positive'\n",
      "\n",
      "  UserWarning,\n"
     ]
    },
    {
     "name": "stdout",
     "output_type": "stream",
     "text": [
      "[CV] END max_depth=25, max_features=sqrt, min_samples_leaf=1, min_samples_split=2, n_estimators=1000; total time= 5.1min\n"
     ]
    },
    {
     "name": "stderr",
     "output_type": "stream",
     "text": [
      "c:\\users\\ammu\\anaconda3\\envs\\penv1\\lib\\site-packages\\sklearn\\model_selection\\_validation.py:700: UserWarning: Scoring failed. The score on this train-test partition for these parameters will be set to nan. Details: \n",
      "Traceback (most recent call last):\n",
      "  File \"c:\\users\\ammu\\anaconda3\\envs\\penv1\\lib\\site-packages\\sklearn\\model_selection\\_validation.py\", line 687, in _score\n",
      "    scores = scorer(estimator, X_test, y_test)\n",
      "  File \"c:\\users\\ammu\\anaconda3\\envs\\penv1\\lib\\site-packages\\sklearn\\metrics\\_scorer.py\", line 200, in __call__\n",
      "    sample_weight=sample_weight)\n",
      "  File \"c:\\users\\ammu\\anaconda3\\envs\\penv1\\lib\\site-packages\\sklearn\\metrics\\_scorer.py\", line 243, in _score\n",
      "    **self._kwargs)\n",
      "  File \"c:\\users\\ammu\\anaconda3\\envs\\penv1\\lib\\site-packages\\sklearn\\utils\\validation.py\", line 63, in inner_f\n",
      "    return f(*args, **kwargs)\n",
      "  File \"c:\\users\\ammu\\anaconda3\\envs\\penv1\\lib\\site-packages\\sklearn\\metrics\\_regression.py\", line 336, in mean_squared_error\n",
      "    y_true, y_pred, multioutput)\n",
      "  File \"c:\\users\\ammu\\anaconda3\\envs\\penv1\\lib\\site-packages\\sklearn\\metrics\\_regression.py\", line 89, in _check_reg_targets\n",
      "    y_true = check_array(y_true, ensure_2d=False, dtype=dtype)\n",
      "  File \"c:\\users\\ammu\\anaconda3\\envs\\penv1\\lib\\site-packages\\sklearn\\utils\\validation.py\", line 63, in inner_f\n",
      "    return f(*args, **kwargs)\n",
      "  File \"c:\\users\\ammu\\anaconda3\\envs\\penv1\\lib\\site-packages\\sklearn\\utils\\validation.py\", line 673, in check_array\n",
      "    array = np.asarray(array, order=order, dtype=dtype)\n",
      "  File \"c:\\users\\ammu\\anaconda3\\envs\\penv1\\lib\\site-packages\\numpy\\core\\_asarray.py\", line 102, in asarray\n",
      "    return array(a, dtype, copy=False, order=order)\n",
      "  File \"c:\\users\\ammu\\anaconda3\\envs\\penv1\\lib\\site-packages\\pandas\\core\\series.py\", line 768, in __array__\n",
      "    return np.asarray(self.array, dtype)\n",
      "  File \"c:\\users\\ammu\\anaconda3\\envs\\penv1\\lib\\site-packages\\numpy\\core\\_asarray.py\", line 102, in asarray\n",
      "    return array(a, dtype, copy=False, order=order)\n",
      "  File \"c:\\users\\ammu\\anaconda3\\envs\\penv1\\lib\\site-packages\\pandas\\core\\arrays\\numpy_.py\", line 203, in __array__\n",
      "    return np.asarray(self._ndarray, dtype=dtype)\n",
      "  File \"c:\\users\\ammu\\anaconda3\\envs\\penv1\\lib\\site-packages\\numpy\\core\\_asarray.py\", line 102, in asarray\n",
      "    return array(a, dtype, copy=False, order=order)\n",
      "ValueError: could not convert string to float: 'positive'\n",
      "\n",
      "  UserWarning,\n"
     ]
    },
    {
     "name": "stdout",
     "output_type": "stream",
     "text": [
      "[CV] END max_depth=25, max_features=sqrt, min_samples_leaf=1, min_samples_split=2, n_estimators=1000; total time= 5.5min\n"
     ]
    },
    {
     "name": "stderr",
     "output_type": "stream",
     "text": [
      "c:\\users\\ammu\\anaconda3\\envs\\penv1\\lib\\site-packages\\sklearn\\model_selection\\_validation.py:700: UserWarning: Scoring failed. The score on this train-test partition for these parameters will be set to nan. Details: \n",
      "Traceback (most recent call last):\n",
      "  File \"c:\\users\\ammu\\anaconda3\\envs\\penv1\\lib\\site-packages\\sklearn\\model_selection\\_validation.py\", line 687, in _score\n",
      "    scores = scorer(estimator, X_test, y_test)\n",
      "  File \"c:\\users\\ammu\\anaconda3\\envs\\penv1\\lib\\site-packages\\sklearn\\metrics\\_scorer.py\", line 200, in __call__\n",
      "    sample_weight=sample_weight)\n",
      "  File \"c:\\users\\ammu\\anaconda3\\envs\\penv1\\lib\\site-packages\\sklearn\\metrics\\_scorer.py\", line 243, in _score\n",
      "    **self._kwargs)\n",
      "  File \"c:\\users\\ammu\\anaconda3\\envs\\penv1\\lib\\site-packages\\sklearn\\utils\\validation.py\", line 63, in inner_f\n",
      "    return f(*args, **kwargs)\n",
      "  File \"c:\\users\\ammu\\anaconda3\\envs\\penv1\\lib\\site-packages\\sklearn\\metrics\\_regression.py\", line 336, in mean_squared_error\n",
      "    y_true, y_pred, multioutput)\n",
      "  File \"c:\\users\\ammu\\anaconda3\\envs\\penv1\\lib\\site-packages\\sklearn\\metrics\\_regression.py\", line 89, in _check_reg_targets\n",
      "    y_true = check_array(y_true, ensure_2d=False, dtype=dtype)\n",
      "  File \"c:\\users\\ammu\\anaconda3\\envs\\penv1\\lib\\site-packages\\sklearn\\utils\\validation.py\", line 63, in inner_f\n",
      "    return f(*args, **kwargs)\n",
      "  File \"c:\\users\\ammu\\anaconda3\\envs\\penv1\\lib\\site-packages\\sklearn\\utils\\validation.py\", line 673, in check_array\n",
      "    array = np.asarray(array, order=order, dtype=dtype)\n",
      "  File \"c:\\users\\ammu\\anaconda3\\envs\\penv1\\lib\\site-packages\\numpy\\core\\_asarray.py\", line 102, in asarray\n",
      "    return array(a, dtype, copy=False, order=order)\n",
      "  File \"c:\\users\\ammu\\anaconda3\\envs\\penv1\\lib\\site-packages\\pandas\\core\\series.py\", line 768, in __array__\n",
      "    return np.asarray(self.array, dtype)\n",
      "  File \"c:\\users\\ammu\\anaconda3\\envs\\penv1\\lib\\site-packages\\numpy\\core\\_asarray.py\", line 102, in asarray\n",
      "    return array(a, dtype, copy=False, order=order)\n",
      "  File \"c:\\users\\ammu\\anaconda3\\envs\\penv1\\lib\\site-packages\\pandas\\core\\arrays\\numpy_.py\", line 203, in __array__\n",
      "    return np.asarray(self._ndarray, dtype=dtype)\n",
      "  File \"c:\\users\\ammu\\anaconda3\\envs\\penv1\\lib\\site-packages\\numpy\\core\\_asarray.py\", line 102, in asarray\n",
      "    return array(a, dtype, copy=False, order=order)\n",
      "ValueError: could not convert string to float: 'negative'\n",
      "\n",
      "  UserWarning,\n"
     ]
    },
    {
     "name": "stdout",
     "output_type": "stream",
     "text": [
      "[CV] END max_depth=25, max_features=sqrt, min_samples_leaf=1, min_samples_split=2, n_estimators=1000; total time= 6.7min\n"
     ]
    },
    {
     "name": "stderr",
     "output_type": "stream",
     "text": [
      "c:\\users\\ammu\\anaconda3\\envs\\penv1\\lib\\site-packages\\sklearn\\model_selection\\_validation.py:700: UserWarning: Scoring failed. The score on this train-test partition for these parameters will be set to nan. Details: \n",
      "Traceback (most recent call last):\n",
      "  File \"c:\\users\\ammu\\anaconda3\\envs\\penv1\\lib\\site-packages\\sklearn\\model_selection\\_validation.py\", line 687, in _score\n",
      "    scores = scorer(estimator, X_test, y_test)\n",
      "  File \"c:\\users\\ammu\\anaconda3\\envs\\penv1\\lib\\site-packages\\sklearn\\metrics\\_scorer.py\", line 200, in __call__\n",
      "    sample_weight=sample_weight)\n",
      "  File \"c:\\users\\ammu\\anaconda3\\envs\\penv1\\lib\\site-packages\\sklearn\\metrics\\_scorer.py\", line 243, in _score\n",
      "    **self._kwargs)\n",
      "  File \"c:\\users\\ammu\\anaconda3\\envs\\penv1\\lib\\site-packages\\sklearn\\utils\\validation.py\", line 63, in inner_f\n",
      "    return f(*args, **kwargs)\n",
      "  File \"c:\\users\\ammu\\anaconda3\\envs\\penv1\\lib\\site-packages\\sklearn\\metrics\\_regression.py\", line 336, in mean_squared_error\n",
      "    y_true, y_pred, multioutput)\n",
      "  File \"c:\\users\\ammu\\anaconda3\\envs\\penv1\\lib\\site-packages\\sklearn\\metrics\\_regression.py\", line 89, in _check_reg_targets\n",
      "    y_true = check_array(y_true, ensure_2d=False, dtype=dtype)\n",
      "  File \"c:\\users\\ammu\\anaconda3\\envs\\penv1\\lib\\site-packages\\sklearn\\utils\\validation.py\", line 63, in inner_f\n",
      "    return f(*args, **kwargs)\n",
      "  File \"c:\\users\\ammu\\anaconda3\\envs\\penv1\\lib\\site-packages\\sklearn\\utils\\validation.py\", line 673, in check_array\n",
      "    array = np.asarray(array, order=order, dtype=dtype)\n",
      "  File \"c:\\users\\ammu\\anaconda3\\envs\\penv1\\lib\\site-packages\\numpy\\core\\_asarray.py\", line 102, in asarray\n",
      "    return array(a, dtype, copy=False, order=order)\n",
      "  File \"c:\\users\\ammu\\anaconda3\\envs\\penv1\\lib\\site-packages\\pandas\\core\\series.py\", line 768, in __array__\n",
      "    return np.asarray(self.array, dtype)\n",
      "  File \"c:\\users\\ammu\\anaconda3\\envs\\penv1\\lib\\site-packages\\numpy\\core\\_asarray.py\", line 102, in asarray\n",
      "    return array(a, dtype, copy=False, order=order)\n",
      "  File \"c:\\users\\ammu\\anaconda3\\envs\\penv1\\lib\\site-packages\\pandas\\core\\arrays\\numpy_.py\", line 203, in __array__\n",
      "    return np.asarray(self._ndarray, dtype=dtype)\n",
      "  File \"c:\\users\\ammu\\anaconda3\\envs\\penv1\\lib\\site-packages\\numpy\\core\\_asarray.py\", line 102, in asarray\n",
      "    return array(a, dtype, copy=False, order=order)\n",
      "ValueError: could not convert string to float: 'negative'\n",
      "\n",
      "  UserWarning,\n"
     ]
    },
    {
     "name": "stdout",
     "output_type": "stream",
     "text": [
      "[CV] END max_depth=25, max_features=sqrt, min_samples_leaf=1, min_samples_split=2, n_estimators=1000; total time= 5.8min\n"
     ]
    },
    {
     "name": "stderr",
     "output_type": "stream",
     "text": [
      "c:\\users\\ammu\\anaconda3\\envs\\penv1\\lib\\site-packages\\sklearn\\model_selection\\_validation.py:700: UserWarning: Scoring failed. The score on this train-test partition for these parameters will be set to nan. Details: \n",
      "Traceback (most recent call last):\n",
      "  File \"c:\\users\\ammu\\anaconda3\\envs\\penv1\\lib\\site-packages\\sklearn\\model_selection\\_validation.py\", line 687, in _score\n",
      "    scores = scorer(estimator, X_test, y_test)\n",
      "  File \"c:\\users\\ammu\\anaconda3\\envs\\penv1\\lib\\site-packages\\sklearn\\metrics\\_scorer.py\", line 200, in __call__\n",
      "    sample_weight=sample_weight)\n",
      "  File \"c:\\users\\ammu\\anaconda3\\envs\\penv1\\lib\\site-packages\\sklearn\\metrics\\_scorer.py\", line 243, in _score\n",
      "    **self._kwargs)\n",
      "  File \"c:\\users\\ammu\\anaconda3\\envs\\penv1\\lib\\site-packages\\sklearn\\utils\\validation.py\", line 63, in inner_f\n",
      "    return f(*args, **kwargs)\n",
      "  File \"c:\\users\\ammu\\anaconda3\\envs\\penv1\\lib\\site-packages\\sklearn\\metrics\\_regression.py\", line 336, in mean_squared_error\n",
      "    y_true, y_pred, multioutput)\n",
      "  File \"c:\\users\\ammu\\anaconda3\\envs\\penv1\\lib\\site-packages\\sklearn\\metrics\\_regression.py\", line 89, in _check_reg_targets\n",
      "    y_true = check_array(y_true, ensure_2d=False, dtype=dtype)\n",
      "  File \"c:\\users\\ammu\\anaconda3\\envs\\penv1\\lib\\site-packages\\sklearn\\utils\\validation.py\", line 63, in inner_f\n",
      "    return f(*args, **kwargs)\n",
      "  File \"c:\\users\\ammu\\anaconda3\\envs\\penv1\\lib\\site-packages\\sklearn\\utils\\validation.py\", line 673, in check_array\n",
      "    array = np.asarray(array, order=order, dtype=dtype)\n",
      "  File \"c:\\users\\ammu\\anaconda3\\envs\\penv1\\lib\\site-packages\\numpy\\core\\_asarray.py\", line 102, in asarray\n",
      "    return array(a, dtype, copy=False, order=order)\n",
      "  File \"c:\\users\\ammu\\anaconda3\\envs\\penv1\\lib\\site-packages\\pandas\\core\\series.py\", line 768, in __array__\n",
      "    return np.asarray(self.array, dtype)\n",
      "  File \"c:\\users\\ammu\\anaconda3\\envs\\penv1\\lib\\site-packages\\numpy\\core\\_asarray.py\", line 102, in asarray\n",
      "    return array(a, dtype, copy=False, order=order)\n",
      "  File \"c:\\users\\ammu\\anaconda3\\envs\\penv1\\lib\\site-packages\\pandas\\core\\arrays\\numpy_.py\", line 203, in __array__\n",
      "    return np.asarray(self._ndarray, dtype=dtype)\n",
      "  File \"c:\\users\\ammu\\anaconda3\\envs\\penv1\\lib\\site-packages\\numpy\\core\\_asarray.py\", line 102, in asarray\n",
      "    return array(a, dtype, copy=False, order=order)\n",
      "ValueError: could not convert string to float: 'positive'\n",
      "\n",
      "  UserWarning,\n"
     ]
    },
    {
     "name": "stdout",
     "output_type": "stream",
     "text": [
      "[CV] END max_depth=25, max_features=sqrt, min_samples_leaf=1, min_samples_split=2, n_estimators=1000; total time= 5.2min\n"
     ]
    },
    {
     "name": "stderr",
     "output_type": "stream",
     "text": [
      "c:\\users\\ammu\\anaconda3\\envs\\penv1\\lib\\site-packages\\sklearn\\model_selection\\_validation.py:700: UserWarning: Scoring failed. The score on this train-test partition for these parameters will be set to nan. Details: \n",
      "Traceback (most recent call last):\n",
      "  File \"c:\\users\\ammu\\anaconda3\\envs\\penv1\\lib\\site-packages\\sklearn\\model_selection\\_validation.py\", line 687, in _score\n",
      "    scores = scorer(estimator, X_test, y_test)\n",
      "  File \"c:\\users\\ammu\\anaconda3\\envs\\penv1\\lib\\site-packages\\sklearn\\metrics\\_scorer.py\", line 200, in __call__\n",
      "    sample_weight=sample_weight)\n",
      "  File \"c:\\users\\ammu\\anaconda3\\envs\\penv1\\lib\\site-packages\\sklearn\\metrics\\_scorer.py\", line 243, in _score\n",
      "    **self._kwargs)\n",
      "  File \"c:\\users\\ammu\\anaconda3\\envs\\penv1\\lib\\site-packages\\sklearn\\utils\\validation.py\", line 63, in inner_f\n",
      "    return f(*args, **kwargs)\n",
      "  File \"c:\\users\\ammu\\anaconda3\\envs\\penv1\\lib\\site-packages\\sklearn\\metrics\\_regression.py\", line 336, in mean_squared_error\n",
      "    y_true, y_pred, multioutput)\n",
      "  File \"c:\\users\\ammu\\anaconda3\\envs\\penv1\\lib\\site-packages\\sklearn\\metrics\\_regression.py\", line 89, in _check_reg_targets\n",
      "    y_true = check_array(y_true, ensure_2d=False, dtype=dtype)\n",
      "  File \"c:\\users\\ammu\\anaconda3\\envs\\penv1\\lib\\site-packages\\sklearn\\utils\\validation.py\", line 63, in inner_f\n",
      "    return f(*args, **kwargs)\n",
      "  File \"c:\\users\\ammu\\anaconda3\\envs\\penv1\\lib\\site-packages\\sklearn\\utils\\validation.py\", line 673, in check_array\n",
      "    array = np.asarray(array, order=order, dtype=dtype)\n",
      "  File \"c:\\users\\ammu\\anaconda3\\envs\\penv1\\lib\\site-packages\\numpy\\core\\_asarray.py\", line 102, in asarray\n",
      "    return array(a, dtype, copy=False, order=order)\n",
      "  File \"c:\\users\\ammu\\anaconda3\\envs\\penv1\\lib\\site-packages\\pandas\\core\\series.py\", line 768, in __array__\n",
      "    return np.asarray(self.array, dtype)\n",
      "  File \"c:\\users\\ammu\\anaconda3\\envs\\penv1\\lib\\site-packages\\numpy\\core\\_asarray.py\", line 102, in asarray\n",
      "    return array(a, dtype, copy=False, order=order)\n",
      "  File \"c:\\users\\ammu\\anaconda3\\envs\\penv1\\lib\\site-packages\\pandas\\core\\arrays\\numpy_.py\", line 203, in __array__\n",
      "    return np.asarray(self._ndarray, dtype=dtype)\n",
      "  File \"c:\\users\\ammu\\anaconda3\\envs\\penv1\\lib\\site-packages\\numpy\\core\\_asarray.py\", line 102, in asarray\n",
      "    return array(a, dtype, copy=False, order=order)\n",
      "ValueError: could not convert string to float: 'positive'\n",
      "\n",
      "  UserWarning,\n"
     ]
    },
    {
     "name": "stdout",
     "output_type": "stream",
     "text": [
      "[CV] END max_depth=5, max_features=sqrt, min_samples_leaf=10, min_samples_split=15, n_estimators=1100; total time=  47.4s\n"
     ]
    },
    {
     "name": "stderr",
     "output_type": "stream",
     "text": [
      "c:\\users\\ammu\\anaconda3\\envs\\penv1\\lib\\site-packages\\sklearn\\model_selection\\_validation.py:700: UserWarning: Scoring failed. The score on this train-test partition for these parameters will be set to nan. Details: \n",
      "Traceback (most recent call last):\n",
      "  File \"c:\\users\\ammu\\anaconda3\\envs\\penv1\\lib\\site-packages\\sklearn\\model_selection\\_validation.py\", line 687, in _score\n",
      "    scores = scorer(estimator, X_test, y_test)\n",
      "  File \"c:\\users\\ammu\\anaconda3\\envs\\penv1\\lib\\site-packages\\sklearn\\metrics\\_scorer.py\", line 200, in __call__\n",
      "    sample_weight=sample_weight)\n",
      "  File \"c:\\users\\ammu\\anaconda3\\envs\\penv1\\lib\\site-packages\\sklearn\\metrics\\_scorer.py\", line 243, in _score\n",
      "    **self._kwargs)\n",
      "  File \"c:\\users\\ammu\\anaconda3\\envs\\penv1\\lib\\site-packages\\sklearn\\utils\\validation.py\", line 63, in inner_f\n",
      "    return f(*args, **kwargs)\n",
      "  File \"c:\\users\\ammu\\anaconda3\\envs\\penv1\\lib\\site-packages\\sklearn\\metrics\\_regression.py\", line 336, in mean_squared_error\n",
      "    y_true, y_pred, multioutput)\n",
      "  File \"c:\\users\\ammu\\anaconda3\\envs\\penv1\\lib\\site-packages\\sklearn\\metrics\\_regression.py\", line 89, in _check_reg_targets\n",
      "    y_true = check_array(y_true, ensure_2d=False, dtype=dtype)\n",
      "  File \"c:\\users\\ammu\\anaconda3\\envs\\penv1\\lib\\site-packages\\sklearn\\utils\\validation.py\", line 63, in inner_f\n",
      "    return f(*args, **kwargs)\n",
      "  File \"c:\\users\\ammu\\anaconda3\\envs\\penv1\\lib\\site-packages\\sklearn\\utils\\validation.py\", line 673, in check_array\n",
      "    array = np.asarray(array, order=order, dtype=dtype)\n",
      "  File \"c:\\users\\ammu\\anaconda3\\envs\\penv1\\lib\\site-packages\\numpy\\core\\_asarray.py\", line 102, in asarray\n",
      "    return array(a, dtype, copy=False, order=order)\n",
      "  File \"c:\\users\\ammu\\anaconda3\\envs\\penv1\\lib\\site-packages\\pandas\\core\\series.py\", line 768, in __array__\n",
      "    return np.asarray(self.array, dtype)\n",
      "  File \"c:\\users\\ammu\\anaconda3\\envs\\penv1\\lib\\site-packages\\numpy\\core\\_asarray.py\", line 102, in asarray\n",
      "    return array(a, dtype, copy=False, order=order)\n",
      "  File \"c:\\users\\ammu\\anaconda3\\envs\\penv1\\lib\\site-packages\\pandas\\core\\arrays\\numpy_.py\", line 203, in __array__\n",
      "    return np.asarray(self._ndarray, dtype=dtype)\n",
      "  File \"c:\\users\\ammu\\anaconda3\\envs\\penv1\\lib\\site-packages\\numpy\\core\\_asarray.py\", line 102, in asarray\n",
      "    return array(a, dtype, copy=False, order=order)\n",
      "ValueError: could not convert string to float: 'positive'\n",
      "\n",
      "  UserWarning,\n"
     ]
    },
    {
     "name": "stdout",
     "output_type": "stream",
     "text": [
      "[CV] END max_depth=5, max_features=sqrt, min_samples_leaf=10, min_samples_split=15, n_estimators=1100; total time=  46.2s\n"
     ]
    },
    {
     "name": "stderr",
     "output_type": "stream",
     "text": [
      "c:\\users\\ammu\\anaconda3\\envs\\penv1\\lib\\site-packages\\sklearn\\model_selection\\_validation.py:700: UserWarning: Scoring failed. The score on this train-test partition for these parameters will be set to nan. Details: \n",
      "Traceback (most recent call last):\n",
      "  File \"c:\\users\\ammu\\anaconda3\\envs\\penv1\\lib\\site-packages\\sklearn\\model_selection\\_validation.py\", line 687, in _score\n",
      "    scores = scorer(estimator, X_test, y_test)\n",
      "  File \"c:\\users\\ammu\\anaconda3\\envs\\penv1\\lib\\site-packages\\sklearn\\metrics\\_scorer.py\", line 200, in __call__\n",
      "    sample_weight=sample_weight)\n",
      "  File \"c:\\users\\ammu\\anaconda3\\envs\\penv1\\lib\\site-packages\\sklearn\\metrics\\_scorer.py\", line 243, in _score\n",
      "    **self._kwargs)\n",
      "  File \"c:\\users\\ammu\\anaconda3\\envs\\penv1\\lib\\site-packages\\sklearn\\utils\\validation.py\", line 63, in inner_f\n",
      "    return f(*args, **kwargs)\n",
      "  File \"c:\\users\\ammu\\anaconda3\\envs\\penv1\\lib\\site-packages\\sklearn\\metrics\\_regression.py\", line 336, in mean_squared_error\n",
      "    y_true, y_pred, multioutput)\n",
      "  File \"c:\\users\\ammu\\anaconda3\\envs\\penv1\\lib\\site-packages\\sklearn\\metrics\\_regression.py\", line 89, in _check_reg_targets\n",
      "    y_true = check_array(y_true, ensure_2d=False, dtype=dtype)\n",
      "  File \"c:\\users\\ammu\\anaconda3\\envs\\penv1\\lib\\site-packages\\sklearn\\utils\\validation.py\", line 63, in inner_f\n",
      "    return f(*args, **kwargs)\n",
      "  File \"c:\\users\\ammu\\anaconda3\\envs\\penv1\\lib\\site-packages\\sklearn\\utils\\validation.py\", line 673, in check_array\n",
      "    array = np.asarray(array, order=order, dtype=dtype)\n",
      "  File \"c:\\users\\ammu\\anaconda3\\envs\\penv1\\lib\\site-packages\\numpy\\core\\_asarray.py\", line 102, in asarray\n",
      "    return array(a, dtype, copy=False, order=order)\n",
      "  File \"c:\\users\\ammu\\anaconda3\\envs\\penv1\\lib\\site-packages\\pandas\\core\\series.py\", line 768, in __array__\n",
      "    return np.asarray(self.array, dtype)\n",
      "  File \"c:\\users\\ammu\\anaconda3\\envs\\penv1\\lib\\site-packages\\numpy\\core\\_asarray.py\", line 102, in asarray\n",
      "    return array(a, dtype, copy=False, order=order)\n",
      "  File \"c:\\users\\ammu\\anaconda3\\envs\\penv1\\lib\\site-packages\\pandas\\core\\arrays\\numpy_.py\", line 203, in __array__\n",
      "    return np.asarray(self._ndarray, dtype=dtype)\n",
      "  File \"c:\\users\\ammu\\anaconda3\\envs\\penv1\\lib\\site-packages\\numpy\\core\\_asarray.py\", line 102, in asarray\n",
      "    return array(a, dtype, copy=False, order=order)\n",
      "ValueError: could not convert string to float: 'negative'\n",
      "\n",
      "  UserWarning,\n"
     ]
    },
    {
     "name": "stdout",
     "output_type": "stream",
     "text": [
      "[CV] END max_depth=5, max_features=sqrt, min_samples_leaf=10, min_samples_split=15, n_estimators=1100; total time=  46.8s\n"
     ]
    },
    {
     "name": "stderr",
     "output_type": "stream",
     "text": [
      "c:\\users\\ammu\\anaconda3\\envs\\penv1\\lib\\site-packages\\sklearn\\model_selection\\_validation.py:700: UserWarning: Scoring failed. The score on this train-test partition for these parameters will be set to nan. Details: \n",
      "Traceback (most recent call last):\n",
      "  File \"c:\\users\\ammu\\anaconda3\\envs\\penv1\\lib\\site-packages\\sklearn\\model_selection\\_validation.py\", line 687, in _score\n",
      "    scores = scorer(estimator, X_test, y_test)\n",
      "  File \"c:\\users\\ammu\\anaconda3\\envs\\penv1\\lib\\site-packages\\sklearn\\metrics\\_scorer.py\", line 200, in __call__\n",
      "    sample_weight=sample_weight)\n",
      "  File \"c:\\users\\ammu\\anaconda3\\envs\\penv1\\lib\\site-packages\\sklearn\\metrics\\_scorer.py\", line 243, in _score\n",
      "    **self._kwargs)\n",
      "  File \"c:\\users\\ammu\\anaconda3\\envs\\penv1\\lib\\site-packages\\sklearn\\utils\\validation.py\", line 63, in inner_f\n",
      "    return f(*args, **kwargs)\n",
      "  File \"c:\\users\\ammu\\anaconda3\\envs\\penv1\\lib\\site-packages\\sklearn\\metrics\\_regression.py\", line 336, in mean_squared_error\n",
      "    y_true, y_pred, multioutput)\n",
      "  File \"c:\\users\\ammu\\anaconda3\\envs\\penv1\\lib\\site-packages\\sklearn\\metrics\\_regression.py\", line 89, in _check_reg_targets\n",
      "    y_true = check_array(y_true, ensure_2d=False, dtype=dtype)\n",
      "  File \"c:\\users\\ammu\\anaconda3\\envs\\penv1\\lib\\site-packages\\sklearn\\utils\\validation.py\", line 63, in inner_f\n",
      "    return f(*args, **kwargs)\n",
      "  File \"c:\\users\\ammu\\anaconda3\\envs\\penv1\\lib\\site-packages\\sklearn\\utils\\validation.py\", line 673, in check_array\n",
      "    array = np.asarray(array, order=order, dtype=dtype)\n",
      "  File \"c:\\users\\ammu\\anaconda3\\envs\\penv1\\lib\\site-packages\\numpy\\core\\_asarray.py\", line 102, in asarray\n",
      "    return array(a, dtype, copy=False, order=order)\n",
      "  File \"c:\\users\\ammu\\anaconda3\\envs\\penv1\\lib\\site-packages\\pandas\\core\\series.py\", line 768, in __array__\n",
      "    return np.asarray(self.array, dtype)\n",
      "  File \"c:\\users\\ammu\\anaconda3\\envs\\penv1\\lib\\site-packages\\numpy\\core\\_asarray.py\", line 102, in asarray\n",
      "    return array(a, dtype, copy=False, order=order)\n",
      "  File \"c:\\users\\ammu\\anaconda3\\envs\\penv1\\lib\\site-packages\\pandas\\core\\arrays\\numpy_.py\", line 203, in __array__\n",
      "    return np.asarray(self._ndarray, dtype=dtype)\n",
      "  File \"c:\\users\\ammu\\anaconda3\\envs\\penv1\\lib\\site-packages\\numpy\\core\\_asarray.py\", line 102, in asarray\n",
      "    return array(a, dtype, copy=False, order=order)\n",
      "ValueError: could not convert string to float: 'negative'\n",
      "\n",
      "  UserWarning,\n"
     ]
    },
    {
     "name": "stdout",
     "output_type": "stream",
     "text": [
      "[CV] END max_depth=5, max_features=sqrt, min_samples_leaf=10, min_samples_split=15, n_estimators=1100; total time=  45.8s\n"
     ]
    },
    {
     "name": "stderr",
     "output_type": "stream",
     "text": [
      "c:\\users\\ammu\\anaconda3\\envs\\penv1\\lib\\site-packages\\sklearn\\model_selection\\_validation.py:700: UserWarning: Scoring failed. The score on this train-test partition for these parameters will be set to nan. Details: \n",
      "Traceback (most recent call last):\n",
      "  File \"c:\\users\\ammu\\anaconda3\\envs\\penv1\\lib\\site-packages\\sklearn\\model_selection\\_validation.py\", line 687, in _score\n",
      "    scores = scorer(estimator, X_test, y_test)\n",
      "  File \"c:\\users\\ammu\\anaconda3\\envs\\penv1\\lib\\site-packages\\sklearn\\metrics\\_scorer.py\", line 200, in __call__\n",
      "    sample_weight=sample_weight)\n",
      "  File \"c:\\users\\ammu\\anaconda3\\envs\\penv1\\lib\\site-packages\\sklearn\\metrics\\_scorer.py\", line 243, in _score\n",
      "    **self._kwargs)\n",
      "  File \"c:\\users\\ammu\\anaconda3\\envs\\penv1\\lib\\site-packages\\sklearn\\utils\\validation.py\", line 63, in inner_f\n",
      "    return f(*args, **kwargs)\n",
      "  File \"c:\\users\\ammu\\anaconda3\\envs\\penv1\\lib\\site-packages\\sklearn\\metrics\\_regression.py\", line 336, in mean_squared_error\n",
      "    y_true, y_pred, multioutput)\n",
      "  File \"c:\\users\\ammu\\anaconda3\\envs\\penv1\\lib\\site-packages\\sklearn\\metrics\\_regression.py\", line 89, in _check_reg_targets\n",
      "    y_true = check_array(y_true, ensure_2d=False, dtype=dtype)\n",
      "  File \"c:\\users\\ammu\\anaconda3\\envs\\penv1\\lib\\site-packages\\sklearn\\utils\\validation.py\", line 63, in inner_f\n",
      "    return f(*args, **kwargs)\n",
      "  File \"c:\\users\\ammu\\anaconda3\\envs\\penv1\\lib\\site-packages\\sklearn\\utils\\validation.py\", line 673, in check_array\n",
      "    array = np.asarray(array, order=order, dtype=dtype)\n",
      "  File \"c:\\users\\ammu\\anaconda3\\envs\\penv1\\lib\\site-packages\\numpy\\core\\_asarray.py\", line 102, in asarray\n",
      "    return array(a, dtype, copy=False, order=order)\n",
      "  File \"c:\\users\\ammu\\anaconda3\\envs\\penv1\\lib\\site-packages\\pandas\\core\\series.py\", line 768, in __array__\n",
      "    return np.asarray(self.array, dtype)\n",
      "  File \"c:\\users\\ammu\\anaconda3\\envs\\penv1\\lib\\site-packages\\numpy\\core\\_asarray.py\", line 102, in asarray\n",
      "    return array(a, dtype, copy=False, order=order)\n",
      "  File \"c:\\users\\ammu\\anaconda3\\envs\\penv1\\lib\\site-packages\\pandas\\core\\arrays\\numpy_.py\", line 203, in __array__\n",
      "    return np.asarray(self._ndarray, dtype=dtype)\n",
      "  File \"c:\\users\\ammu\\anaconda3\\envs\\penv1\\lib\\site-packages\\numpy\\core\\_asarray.py\", line 102, in asarray\n",
      "    return array(a, dtype, copy=False, order=order)\n",
      "ValueError: could not convert string to float: 'positive'\n",
      "\n",
      "  UserWarning,\n"
     ]
    },
    {
     "name": "stdout",
     "output_type": "stream",
     "text": [
      "[CV] END max_depth=5, max_features=sqrt, min_samples_leaf=10, min_samples_split=15, n_estimators=1100; total time=  46.1s\n"
     ]
    },
    {
     "name": "stderr",
     "output_type": "stream",
     "text": [
      "c:\\users\\ammu\\anaconda3\\envs\\penv1\\lib\\site-packages\\sklearn\\model_selection\\_validation.py:700: UserWarning: Scoring failed. The score on this train-test partition for these parameters will be set to nan. Details: \n",
      "Traceback (most recent call last):\n",
      "  File \"c:\\users\\ammu\\anaconda3\\envs\\penv1\\lib\\site-packages\\sklearn\\model_selection\\_validation.py\", line 687, in _score\n",
      "    scores = scorer(estimator, X_test, y_test)\n",
      "  File \"c:\\users\\ammu\\anaconda3\\envs\\penv1\\lib\\site-packages\\sklearn\\metrics\\_scorer.py\", line 200, in __call__\n",
      "    sample_weight=sample_weight)\n",
      "  File \"c:\\users\\ammu\\anaconda3\\envs\\penv1\\lib\\site-packages\\sklearn\\metrics\\_scorer.py\", line 243, in _score\n",
      "    **self._kwargs)\n",
      "  File \"c:\\users\\ammu\\anaconda3\\envs\\penv1\\lib\\site-packages\\sklearn\\utils\\validation.py\", line 63, in inner_f\n",
      "    return f(*args, **kwargs)\n",
      "  File \"c:\\users\\ammu\\anaconda3\\envs\\penv1\\lib\\site-packages\\sklearn\\metrics\\_regression.py\", line 336, in mean_squared_error\n",
      "    y_true, y_pred, multioutput)\n",
      "  File \"c:\\users\\ammu\\anaconda3\\envs\\penv1\\lib\\site-packages\\sklearn\\metrics\\_regression.py\", line 89, in _check_reg_targets\n",
      "    y_true = check_array(y_true, ensure_2d=False, dtype=dtype)\n",
      "  File \"c:\\users\\ammu\\anaconda3\\envs\\penv1\\lib\\site-packages\\sklearn\\utils\\validation.py\", line 63, in inner_f\n",
      "    return f(*args, **kwargs)\n",
      "  File \"c:\\users\\ammu\\anaconda3\\envs\\penv1\\lib\\site-packages\\sklearn\\utils\\validation.py\", line 673, in check_array\n",
      "    array = np.asarray(array, order=order, dtype=dtype)\n",
      "  File \"c:\\users\\ammu\\anaconda3\\envs\\penv1\\lib\\site-packages\\numpy\\core\\_asarray.py\", line 102, in asarray\n",
      "    return array(a, dtype, copy=False, order=order)\n",
      "  File \"c:\\users\\ammu\\anaconda3\\envs\\penv1\\lib\\site-packages\\pandas\\core\\series.py\", line 768, in __array__\n",
      "    return np.asarray(self.array, dtype)\n",
      "  File \"c:\\users\\ammu\\anaconda3\\envs\\penv1\\lib\\site-packages\\numpy\\core\\_asarray.py\", line 102, in asarray\n",
      "    return array(a, dtype, copy=False, order=order)\n",
      "  File \"c:\\users\\ammu\\anaconda3\\envs\\penv1\\lib\\site-packages\\pandas\\core\\arrays\\numpy_.py\", line 203, in __array__\n",
      "    return np.asarray(self._ndarray, dtype=dtype)\n",
      "  File \"c:\\users\\ammu\\anaconda3\\envs\\penv1\\lib\\site-packages\\numpy\\core\\_asarray.py\", line 102, in asarray\n",
      "    return array(a, dtype, copy=False, order=order)\n",
      "ValueError: could not convert string to float: 'positive'\n",
      "\n",
      "  UserWarning,\n"
     ]
    },
    {
     "name": "stdout",
     "output_type": "stream",
     "text": [
      "[CV] END max_depth=15, max_features=sqrt, min_samples_leaf=1, min_samples_split=15, n_estimators=300; total time=  40.4s\n"
     ]
    },
    {
     "name": "stderr",
     "output_type": "stream",
     "text": [
      "c:\\users\\ammu\\anaconda3\\envs\\penv1\\lib\\site-packages\\sklearn\\model_selection\\_validation.py:700: UserWarning: Scoring failed. The score on this train-test partition for these parameters will be set to nan. Details: \n",
      "Traceback (most recent call last):\n",
      "  File \"c:\\users\\ammu\\anaconda3\\envs\\penv1\\lib\\site-packages\\sklearn\\model_selection\\_validation.py\", line 687, in _score\n",
      "    scores = scorer(estimator, X_test, y_test)\n",
      "  File \"c:\\users\\ammu\\anaconda3\\envs\\penv1\\lib\\site-packages\\sklearn\\metrics\\_scorer.py\", line 200, in __call__\n",
      "    sample_weight=sample_weight)\n",
      "  File \"c:\\users\\ammu\\anaconda3\\envs\\penv1\\lib\\site-packages\\sklearn\\metrics\\_scorer.py\", line 243, in _score\n",
      "    **self._kwargs)\n",
      "  File \"c:\\users\\ammu\\anaconda3\\envs\\penv1\\lib\\site-packages\\sklearn\\utils\\validation.py\", line 63, in inner_f\n",
      "    return f(*args, **kwargs)\n",
      "  File \"c:\\users\\ammu\\anaconda3\\envs\\penv1\\lib\\site-packages\\sklearn\\metrics\\_regression.py\", line 336, in mean_squared_error\n",
      "    y_true, y_pred, multioutput)\n",
      "  File \"c:\\users\\ammu\\anaconda3\\envs\\penv1\\lib\\site-packages\\sklearn\\metrics\\_regression.py\", line 89, in _check_reg_targets\n",
      "    y_true = check_array(y_true, ensure_2d=False, dtype=dtype)\n",
      "  File \"c:\\users\\ammu\\anaconda3\\envs\\penv1\\lib\\site-packages\\sklearn\\utils\\validation.py\", line 63, in inner_f\n",
      "    return f(*args, **kwargs)\n",
      "  File \"c:\\users\\ammu\\anaconda3\\envs\\penv1\\lib\\site-packages\\sklearn\\utils\\validation.py\", line 673, in check_array\n",
      "    array = np.asarray(array, order=order, dtype=dtype)\n",
      "  File \"c:\\users\\ammu\\anaconda3\\envs\\penv1\\lib\\site-packages\\numpy\\core\\_asarray.py\", line 102, in asarray\n",
      "    return array(a, dtype, copy=False, order=order)\n",
      "  File \"c:\\users\\ammu\\anaconda3\\envs\\penv1\\lib\\site-packages\\pandas\\core\\series.py\", line 768, in __array__\n",
      "    return np.asarray(self.array, dtype)\n",
      "  File \"c:\\users\\ammu\\anaconda3\\envs\\penv1\\lib\\site-packages\\numpy\\core\\_asarray.py\", line 102, in asarray\n",
      "    return array(a, dtype, copy=False, order=order)\n",
      "  File \"c:\\users\\ammu\\anaconda3\\envs\\penv1\\lib\\site-packages\\pandas\\core\\arrays\\numpy_.py\", line 203, in __array__\n",
      "    return np.asarray(self._ndarray, dtype=dtype)\n",
      "  File \"c:\\users\\ammu\\anaconda3\\envs\\penv1\\lib\\site-packages\\numpy\\core\\_asarray.py\", line 102, in asarray\n",
      "    return array(a, dtype, copy=False, order=order)\n",
      "ValueError: could not convert string to float: 'positive'\n",
      "\n",
      "  UserWarning,\n"
     ]
    },
    {
     "name": "stdout",
     "output_type": "stream",
     "text": [
      "[CV] END max_depth=15, max_features=sqrt, min_samples_leaf=1, min_samples_split=15, n_estimators=300; total time=  39.7s\n"
     ]
    },
    {
     "name": "stderr",
     "output_type": "stream",
     "text": [
      "c:\\users\\ammu\\anaconda3\\envs\\penv1\\lib\\site-packages\\sklearn\\model_selection\\_validation.py:700: UserWarning: Scoring failed. The score on this train-test partition for these parameters will be set to nan. Details: \n",
      "Traceback (most recent call last):\n",
      "  File \"c:\\users\\ammu\\anaconda3\\envs\\penv1\\lib\\site-packages\\sklearn\\model_selection\\_validation.py\", line 687, in _score\n",
      "    scores = scorer(estimator, X_test, y_test)\n",
      "  File \"c:\\users\\ammu\\anaconda3\\envs\\penv1\\lib\\site-packages\\sklearn\\metrics\\_scorer.py\", line 200, in __call__\n",
      "    sample_weight=sample_weight)\n",
      "  File \"c:\\users\\ammu\\anaconda3\\envs\\penv1\\lib\\site-packages\\sklearn\\metrics\\_scorer.py\", line 243, in _score\n",
      "    **self._kwargs)\n",
      "  File \"c:\\users\\ammu\\anaconda3\\envs\\penv1\\lib\\site-packages\\sklearn\\utils\\validation.py\", line 63, in inner_f\n",
      "    return f(*args, **kwargs)\n",
      "  File \"c:\\users\\ammu\\anaconda3\\envs\\penv1\\lib\\site-packages\\sklearn\\metrics\\_regression.py\", line 336, in mean_squared_error\n",
      "    y_true, y_pred, multioutput)\n",
      "  File \"c:\\users\\ammu\\anaconda3\\envs\\penv1\\lib\\site-packages\\sklearn\\metrics\\_regression.py\", line 89, in _check_reg_targets\n",
      "    y_true = check_array(y_true, ensure_2d=False, dtype=dtype)\n",
      "  File \"c:\\users\\ammu\\anaconda3\\envs\\penv1\\lib\\site-packages\\sklearn\\utils\\validation.py\", line 63, in inner_f\n",
      "    return f(*args, **kwargs)\n",
      "  File \"c:\\users\\ammu\\anaconda3\\envs\\penv1\\lib\\site-packages\\sklearn\\utils\\validation.py\", line 673, in check_array\n",
      "    array = np.asarray(array, order=order, dtype=dtype)\n",
      "  File \"c:\\users\\ammu\\anaconda3\\envs\\penv1\\lib\\site-packages\\numpy\\core\\_asarray.py\", line 102, in asarray\n",
      "    return array(a, dtype, copy=False, order=order)\n",
      "  File \"c:\\users\\ammu\\anaconda3\\envs\\penv1\\lib\\site-packages\\pandas\\core\\series.py\", line 768, in __array__\n",
      "    return np.asarray(self.array, dtype)\n",
      "  File \"c:\\users\\ammu\\anaconda3\\envs\\penv1\\lib\\site-packages\\numpy\\core\\_asarray.py\", line 102, in asarray\n",
      "    return array(a, dtype, copy=False, order=order)\n",
      "  File \"c:\\users\\ammu\\anaconda3\\envs\\penv1\\lib\\site-packages\\pandas\\core\\arrays\\numpy_.py\", line 203, in __array__\n",
      "    return np.asarray(self._ndarray, dtype=dtype)\n",
      "  File \"c:\\users\\ammu\\anaconda3\\envs\\penv1\\lib\\site-packages\\numpy\\core\\_asarray.py\", line 102, in asarray\n",
      "    return array(a, dtype, copy=False, order=order)\n",
      "ValueError: could not convert string to float: 'negative'\n",
      "\n",
      "  UserWarning,\n"
     ]
    },
    {
     "name": "stdout",
     "output_type": "stream",
     "text": [
      "[CV] END max_depth=15, max_features=sqrt, min_samples_leaf=1, min_samples_split=15, n_estimators=300; total time=  39.5s\n"
     ]
    },
    {
     "name": "stderr",
     "output_type": "stream",
     "text": [
      "c:\\users\\ammu\\anaconda3\\envs\\penv1\\lib\\site-packages\\sklearn\\model_selection\\_validation.py:700: UserWarning: Scoring failed. The score on this train-test partition for these parameters will be set to nan. Details: \n",
      "Traceback (most recent call last):\n",
      "  File \"c:\\users\\ammu\\anaconda3\\envs\\penv1\\lib\\site-packages\\sklearn\\model_selection\\_validation.py\", line 687, in _score\n",
      "    scores = scorer(estimator, X_test, y_test)\n",
      "  File \"c:\\users\\ammu\\anaconda3\\envs\\penv1\\lib\\site-packages\\sklearn\\metrics\\_scorer.py\", line 200, in __call__\n",
      "    sample_weight=sample_weight)\n",
      "  File \"c:\\users\\ammu\\anaconda3\\envs\\penv1\\lib\\site-packages\\sklearn\\metrics\\_scorer.py\", line 243, in _score\n",
      "    **self._kwargs)\n",
      "  File \"c:\\users\\ammu\\anaconda3\\envs\\penv1\\lib\\site-packages\\sklearn\\utils\\validation.py\", line 63, in inner_f\n",
      "    return f(*args, **kwargs)\n",
      "  File \"c:\\users\\ammu\\anaconda3\\envs\\penv1\\lib\\site-packages\\sklearn\\metrics\\_regression.py\", line 336, in mean_squared_error\n",
      "    y_true, y_pred, multioutput)\n",
      "  File \"c:\\users\\ammu\\anaconda3\\envs\\penv1\\lib\\site-packages\\sklearn\\metrics\\_regression.py\", line 89, in _check_reg_targets\n",
      "    y_true = check_array(y_true, ensure_2d=False, dtype=dtype)\n",
      "  File \"c:\\users\\ammu\\anaconda3\\envs\\penv1\\lib\\site-packages\\sklearn\\utils\\validation.py\", line 63, in inner_f\n",
      "    return f(*args, **kwargs)\n",
      "  File \"c:\\users\\ammu\\anaconda3\\envs\\penv1\\lib\\site-packages\\sklearn\\utils\\validation.py\", line 673, in check_array\n",
      "    array = np.asarray(array, order=order, dtype=dtype)\n",
      "  File \"c:\\users\\ammu\\anaconda3\\envs\\penv1\\lib\\site-packages\\numpy\\core\\_asarray.py\", line 102, in asarray\n",
      "    return array(a, dtype, copy=False, order=order)\n",
      "  File \"c:\\users\\ammu\\anaconda3\\envs\\penv1\\lib\\site-packages\\pandas\\core\\series.py\", line 768, in __array__\n",
      "    return np.asarray(self.array, dtype)\n",
      "  File \"c:\\users\\ammu\\anaconda3\\envs\\penv1\\lib\\site-packages\\numpy\\core\\_asarray.py\", line 102, in asarray\n",
      "    return array(a, dtype, copy=False, order=order)\n",
      "  File \"c:\\users\\ammu\\anaconda3\\envs\\penv1\\lib\\site-packages\\pandas\\core\\arrays\\numpy_.py\", line 203, in __array__\n",
      "    return np.asarray(self._ndarray, dtype=dtype)\n",
      "  File \"c:\\users\\ammu\\anaconda3\\envs\\penv1\\lib\\site-packages\\numpy\\core\\_asarray.py\", line 102, in asarray\n",
      "    return array(a, dtype, copy=False, order=order)\n",
      "ValueError: could not convert string to float: 'negative'\n",
      "\n",
      "  UserWarning,\n"
     ]
    },
    {
     "name": "stdout",
     "output_type": "stream",
     "text": [
      "[CV] END max_depth=15, max_features=sqrt, min_samples_leaf=1, min_samples_split=15, n_estimators=300; total time=  40.2s\n"
     ]
    },
    {
     "name": "stderr",
     "output_type": "stream",
     "text": [
      "c:\\users\\ammu\\anaconda3\\envs\\penv1\\lib\\site-packages\\sklearn\\model_selection\\_validation.py:700: UserWarning: Scoring failed. The score on this train-test partition for these parameters will be set to nan. Details: \n",
      "Traceback (most recent call last):\n",
      "  File \"c:\\users\\ammu\\anaconda3\\envs\\penv1\\lib\\site-packages\\sklearn\\model_selection\\_validation.py\", line 687, in _score\n",
      "    scores = scorer(estimator, X_test, y_test)\n",
      "  File \"c:\\users\\ammu\\anaconda3\\envs\\penv1\\lib\\site-packages\\sklearn\\metrics\\_scorer.py\", line 200, in __call__\n",
      "    sample_weight=sample_weight)\n",
      "  File \"c:\\users\\ammu\\anaconda3\\envs\\penv1\\lib\\site-packages\\sklearn\\metrics\\_scorer.py\", line 243, in _score\n",
      "    **self._kwargs)\n",
      "  File \"c:\\users\\ammu\\anaconda3\\envs\\penv1\\lib\\site-packages\\sklearn\\utils\\validation.py\", line 63, in inner_f\n",
      "    return f(*args, **kwargs)\n",
      "  File \"c:\\users\\ammu\\anaconda3\\envs\\penv1\\lib\\site-packages\\sklearn\\metrics\\_regression.py\", line 336, in mean_squared_error\n",
      "    y_true, y_pred, multioutput)\n",
      "  File \"c:\\users\\ammu\\anaconda3\\envs\\penv1\\lib\\site-packages\\sklearn\\metrics\\_regression.py\", line 89, in _check_reg_targets\n",
      "    y_true = check_array(y_true, ensure_2d=False, dtype=dtype)\n",
      "  File \"c:\\users\\ammu\\anaconda3\\envs\\penv1\\lib\\site-packages\\sklearn\\utils\\validation.py\", line 63, in inner_f\n",
      "    return f(*args, **kwargs)\n",
      "  File \"c:\\users\\ammu\\anaconda3\\envs\\penv1\\lib\\site-packages\\sklearn\\utils\\validation.py\", line 673, in check_array\n",
      "    array = np.asarray(array, order=order, dtype=dtype)\n",
      "  File \"c:\\users\\ammu\\anaconda3\\envs\\penv1\\lib\\site-packages\\numpy\\core\\_asarray.py\", line 102, in asarray\n",
      "    return array(a, dtype, copy=False, order=order)\n",
      "  File \"c:\\users\\ammu\\anaconda3\\envs\\penv1\\lib\\site-packages\\pandas\\core\\series.py\", line 768, in __array__\n",
      "    return np.asarray(self.array, dtype)\n",
      "  File \"c:\\users\\ammu\\anaconda3\\envs\\penv1\\lib\\site-packages\\numpy\\core\\_asarray.py\", line 102, in asarray\n",
      "    return array(a, dtype, copy=False, order=order)\n",
      "  File \"c:\\users\\ammu\\anaconda3\\envs\\penv1\\lib\\site-packages\\pandas\\core\\arrays\\numpy_.py\", line 203, in __array__\n",
      "    return np.asarray(self._ndarray, dtype=dtype)\n",
      "  File \"c:\\users\\ammu\\anaconda3\\envs\\penv1\\lib\\site-packages\\numpy\\core\\_asarray.py\", line 102, in asarray\n",
      "    return array(a, dtype, copy=False, order=order)\n",
      "ValueError: could not convert string to float: 'positive'\n",
      "\n",
      "  UserWarning,\n"
     ]
    },
    {
     "name": "stdout",
     "output_type": "stream",
     "text": [
      "[CV] END max_depth=15, max_features=sqrt, min_samples_leaf=1, min_samples_split=15, n_estimators=300; total time=  43.2s\n"
     ]
    },
    {
     "name": "stderr",
     "output_type": "stream",
     "text": [
      "c:\\users\\ammu\\anaconda3\\envs\\penv1\\lib\\site-packages\\sklearn\\model_selection\\_validation.py:700: UserWarning: Scoring failed. The score on this train-test partition for these parameters will be set to nan. Details: \n",
      "Traceback (most recent call last):\n",
      "  File \"c:\\users\\ammu\\anaconda3\\envs\\penv1\\lib\\site-packages\\sklearn\\model_selection\\_validation.py\", line 687, in _score\n",
      "    scores = scorer(estimator, X_test, y_test)\n",
      "  File \"c:\\users\\ammu\\anaconda3\\envs\\penv1\\lib\\site-packages\\sklearn\\metrics\\_scorer.py\", line 200, in __call__\n",
      "    sample_weight=sample_weight)\n",
      "  File \"c:\\users\\ammu\\anaconda3\\envs\\penv1\\lib\\site-packages\\sklearn\\metrics\\_scorer.py\", line 243, in _score\n",
      "    **self._kwargs)\n",
      "  File \"c:\\users\\ammu\\anaconda3\\envs\\penv1\\lib\\site-packages\\sklearn\\utils\\validation.py\", line 63, in inner_f\n",
      "    return f(*args, **kwargs)\n",
      "  File \"c:\\users\\ammu\\anaconda3\\envs\\penv1\\lib\\site-packages\\sklearn\\metrics\\_regression.py\", line 336, in mean_squared_error\n",
      "    y_true, y_pred, multioutput)\n",
      "  File \"c:\\users\\ammu\\anaconda3\\envs\\penv1\\lib\\site-packages\\sklearn\\metrics\\_regression.py\", line 89, in _check_reg_targets\n",
      "    y_true = check_array(y_true, ensure_2d=False, dtype=dtype)\n",
      "  File \"c:\\users\\ammu\\anaconda3\\envs\\penv1\\lib\\site-packages\\sklearn\\utils\\validation.py\", line 63, in inner_f\n",
      "    return f(*args, **kwargs)\n",
      "  File \"c:\\users\\ammu\\anaconda3\\envs\\penv1\\lib\\site-packages\\sklearn\\utils\\validation.py\", line 673, in check_array\n",
      "    array = np.asarray(array, order=order, dtype=dtype)\n",
      "  File \"c:\\users\\ammu\\anaconda3\\envs\\penv1\\lib\\site-packages\\numpy\\core\\_asarray.py\", line 102, in asarray\n",
      "    return array(a, dtype, copy=False, order=order)\n",
      "  File \"c:\\users\\ammu\\anaconda3\\envs\\penv1\\lib\\site-packages\\pandas\\core\\series.py\", line 768, in __array__\n",
      "    return np.asarray(self.array, dtype)\n",
      "  File \"c:\\users\\ammu\\anaconda3\\envs\\penv1\\lib\\site-packages\\numpy\\core\\_asarray.py\", line 102, in asarray\n",
      "    return array(a, dtype, copy=False, order=order)\n",
      "  File \"c:\\users\\ammu\\anaconda3\\envs\\penv1\\lib\\site-packages\\pandas\\core\\arrays\\numpy_.py\", line 203, in __array__\n",
      "    return np.asarray(self._ndarray, dtype=dtype)\n",
      "  File \"c:\\users\\ammu\\anaconda3\\envs\\penv1\\lib\\site-packages\\numpy\\core\\_asarray.py\", line 102, in asarray\n",
      "    return array(a, dtype, copy=False, order=order)\n",
      "ValueError: could not convert string to float: 'positive'\n",
      "\n",
      "  UserWarning,\n"
     ]
    },
    {
     "name": "stdout",
     "output_type": "stream",
     "text": [
      "[CV] END max_depth=5, max_features=sqrt, min_samples_leaf=2, min_samples_split=10, n_estimators=700; total time=  38.4s\n"
     ]
    },
    {
     "name": "stderr",
     "output_type": "stream",
     "text": [
      "c:\\users\\ammu\\anaconda3\\envs\\penv1\\lib\\site-packages\\sklearn\\model_selection\\_validation.py:700: UserWarning: Scoring failed. The score on this train-test partition for these parameters will be set to nan. Details: \n",
      "Traceback (most recent call last):\n",
      "  File \"c:\\users\\ammu\\anaconda3\\envs\\penv1\\lib\\site-packages\\sklearn\\model_selection\\_validation.py\", line 687, in _score\n",
      "    scores = scorer(estimator, X_test, y_test)\n",
      "  File \"c:\\users\\ammu\\anaconda3\\envs\\penv1\\lib\\site-packages\\sklearn\\metrics\\_scorer.py\", line 200, in __call__\n",
      "    sample_weight=sample_weight)\n",
      "  File \"c:\\users\\ammu\\anaconda3\\envs\\penv1\\lib\\site-packages\\sklearn\\metrics\\_scorer.py\", line 243, in _score\n",
      "    **self._kwargs)\n",
      "  File \"c:\\users\\ammu\\anaconda3\\envs\\penv1\\lib\\site-packages\\sklearn\\utils\\validation.py\", line 63, in inner_f\n",
      "    return f(*args, **kwargs)\n",
      "  File \"c:\\users\\ammu\\anaconda3\\envs\\penv1\\lib\\site-packages\\sklearn\\metrics\\_regression.py\", line 336, in mean_squared_error\n",
      "    y_true, y_pred, multioutput)\n",
      "  File \"c:\\users\\ammu\\anaconda3\\envs\\penv1\\lib\\site-packages\\sklearn\\metrics\\_regression.py\", line 89, in _check_reg_targets\n",
      "    y_true = check_array(y_true, ensure_2d=False, dtype=dtype)\n",
      "  File \"c:\\users\\ammu\\anaconda3\\envs\\penv1\\lib\\site-packages\\sklearn\\utils\\validation.py\", line 63, in inner_f\n",
      "    return f(*args, **kwargs)\n",
      "  File \"c:\\users\\ammu\\anaconda3\\envs\\penv1\\lib\\site-packages\\sklearn\\utils\\validation.py\", line 673, in check_array\n",
      "    array = np.asarray(array, order=order, dtype=dtype)\n",
      "  File \"c:\\users\\ammu\\anaconda3\\envs\\penv1\\lib\\site-packages\\numpy\\core\\_asarray.py\", line 102, in asarray\n",
      "    return array(a, dtype, copy=False, order=order)\n",
      "  File \"c:\\users\\ammu\\anaconda3\\envs\\penv1\\lib\\site-packages\\pandas\\core\\series.py\", line 768, in __array__\n",
      "    return np.asarray(self.array, dtype)\n",
      "  File \"c:\\users\\ammu\\anaconda3\\envs\\penv1\\lib\\site-packages\\numpy\\core\\_asarray.py\", line 102, in asarray\n",
      "    return array(a, dtype, copy=False, order=order)\n",
      "  File \"c:\\users\\ammu\\anaconda3\\envs\\penv1\\lib\\site-packages\\pandas\\core\\arrays\\numpy_.py\", line 203, in __array__\n",
      "    return np.asarray(self._ndarray, dtype=dtype)\n",
      "  File \"c:\\users\\ammu\\anaconda3\\envs\\penv1\\lib\\site-packages\\numpy\\core\\_asarray.py\", line 102, in asarray\n",
      "    return array(a, dtype, copy=False, order=order)\n",
      "ValueError: could not convert string to float: 'positive'\n",
      "\n",
      "  UserWarning,\n"
     ]
    },
    {
     "name": "stdout",
     "output_type": "stream",
     "text": [
      "[CV] END max_depth=5, max_features=sqrt, min_samples_leaf=2, min_samples_split=10, n_estimators=700; total time=  30.2s\n"
     ]
    },
    {
     "name": "stderr",
     "output_type": "stream",
     "text": [
      "c:\\users\\ammu\\anaconda3\\envs\\penv1\\lib\\site-packages\\sklearn\\model_selection\\_validation.py:700: UserWarning: Scoring failed. The score on this train-test partition for these parameters will be set to nan. Details: \n",
      "Traceback (most recent call last):\n",
      "  File \"c:\\users\\ammu\\anaconda3\\envs\\penv1\\lib\\site-packages\\sklearn\\model_selection\\_validation.py\", line 687, in _score\n",
      "    scores = scorer(estimator, X_test, y_test)\n",
      "  File \"c:\\users\\ammu\\anaconda3\\envs\\penv1\\lib\\site-packages\\sklearn\\metrics\\_scorer.py\", line 200, in __call__\n",
      "    sample_weight=sample_weight)\n",
      "  File \"c:\\users\\ammu\\anaconda3\\envs\\penv1\\lib\\site-packages\\sklearn\\metrics\\_scorer.py\", line 243, in _score\n",
      "    **self._kwargs)\n",
      "  File \"c:\\users\\ammu\\anaconda3\\envs\\penv1\\lib\\site-packages\\sklearn\\utils\\validation.py\", line 63, in inner_f\n",
      "    return f(*args, **kwargs)\n",
      "  File \"c:\\users\\ammu\\anaconda3\\envs\\penv1\\lib\\site-packages\\sklearn\\metrics\\_regression.py\", line 336, in mean_squared_error\n",
      "    y_true, y_pred, multioutput)\n",
      "  File \"c:\\users\\ammu\\anaconda3\\envs\\penv1\\lib\\site-packages\\sklearn\\metrics\\_regression.py\", line 89, in _check_reg_targets\n",
      "    y_true = check_array(y_true, ensure_2d=False, dtype=dtype)\n",
      "  File \"c:\\users\\ammu\\anaconda3\\envs\\penv1\\lib\\site-packages\\sklearn\\utils\\validation.py\", line 63, in inner_f\n",
      "    return f(*args, **kwargs)\n",
      "  File \"c:\\users\\ammu\\anaconda3\\envs\\penv1\\lib\\site-packages\\sklearn\\utils\\validation.py\", line 673, in check_array\n",
      "    array = np.asarray(array, order=order, dtype=dtype)\n",
      "  File \"c:\\users\\ammu\\anaconda3\\envs\\penv1\\lib\\site-packages\\numpy\\core\\_asarray.py\", line 102, in asarray\n",
      "    return array(a, dtype, copy=False, order=order)\n",
      "  File \"c:\\users\\ammu\\anaconda3\\envs\\penv1\\lib\\site-packages\\pandas\\core\\series.py\", line 768, in __array__\n",
      "    return np.asarray(self.array, dtype)\n",
      "  File \"c:\\users\\ammu\\anaconda3\\envs\\penv1\\lib\\site-packages\\numpy\\core\\_asarray.py\", line 102, in asarray\n",
      "    return array(a, dtype, copy=False, order=order)\n",
      "  File \"c:\\users\\ammu\\anaconda3\\envs\\penv1\\lib\\site-packages\\pandas\\core\\arrays\\numpy_.py\", line 203, in __array__\n",
      "    return np.asarray(self._ndarray, dtype=dtype)\n",
      "  File \"c:\\users\\ammu\\anaconda3\\envs\\penv1\\lib\\site-packages\\numpy\\core\\_asarray.py\", line 102, in asarray\n",
      "    return array(a, dtype, copy=False, order=order)\n",
      "ValueError: could not convert string to float: 'negative'\n",
      "\n",
      "  UserWarning,\n"
     ]
    },
    {
     "name": "stdout",
     "output_type": "stream",
     "text": [
      "[CV] END max_depth=5, max_features=sqrt, min_samples_leaf=2, min_samples_split=10, n_estimators=700; total time=  37.8s\n"
     ]
    },
    {
     "name": "stderr",
     "output_type": "stream",
     "text": [
      "c:\\users\\ammu\\anaconda3\\envs\\penv1\\lib\\site-packages\\sklearn\\model_selection\\_validation.py:700: UserWarning: Scoring failed. The score on this train-test partition for these parameters will be set to nan. Details: \n",
      "Traceback (most recent call last):\n",
      "  File \"c:\\users\\ammu\\anaconda3\\envs\\penv1\\lib\\site-packages\\sklearn\\model_selection\\_validation.py\", line 687, in _score\n",
      "    scores = scorer(estimator, X_test, y_test)\n",
      "  File \"c:\\users\\ammu\\anaconda3\\envs\\penv1\\lib\\site-packages\\sklearn\\metrics\\_scorer.py\", line 200, in __call__\n",
      "    sample_weight=sample_weight)\n",
      "  File \"c:\\users\\ammu\\anaconda3\\envs\\penv1\\lib\\site-packages\\sklearn\\metrics\\_scorer.py\", line 243, in _score\n",
      "    **self._kwargs)\n",
      "  File \"c:\\users\\ammu\\anaconda3\\envs\\penv1\\lib\\site-packages\\sklearn\\utils\\validation.py\", line 63, in inner_f\n",
      "    return f(*args, **kwargs)\n",
      "  File \"c:\\users\\ammu\\anaconda3\\envs\\penv1\\lib\\site-packages\\sklearn\\metrics\\_regression.py\", line 336, in mean_squared_error\n",
      "    y_true, y_pred, multioutput)\n",
      "  File \"c:\\users\\ammu\\anaconda3\\envs\\penv1\\lib\\site-packages\\sklearn\\metrics\\_regression.py\", line 89, in _check_reg_targets\n",
      "    y_true = check_array(y_true, ensure_2d=False, dtype=dtype)\n",
      "  File \"c:\\users\\ammu\\anaconda3\\envs\\penv1\\lib\\site-packages\\sklearn\\utils\\validation.py\", line 63, in inner_f\n",
      "    return f(*args, **kwargs)\n",
      "  File \"c:\\users\\ammu\\anaconda3\\envs\\penv1\\lib\\site-packages\\sklearn\\utils\\validation.py\", line 673, in check_array\n",
      "    array = np.asarray(array, order=order, dtype=dtype)\n",
      "  File \"c:\\users\\ammu\\anaconda3\\envs\\penv1\\lib\\site-packages\\numpy\\core\\_asarray.py\", line 102, in asarray\n",
      "    return array(a, dtype, copy=False, order=order)\n",
      "  File \"c:\\users\\ammu\\anaconda3\\envs\\penv1\\lib\\site-packages\\pandas\\core\\series.py\", line 768, in __array__\n",
      "    return np.asarray(self.array, dtype)\n",
      "  File \"c:\\users\\ammu\\anaconda3\\envs\\penv1\\lib\\site-packages\\numpy\\core\\_asarray.py\", line 102, in asarray\n",
      "    return array(a, dtype, copy=False, order=order)\n",
      "  File \"c:\\users\\ammu\\anaconda3\\envs\\penv1\\lib\\site-packages\\pandas\\core\\arrays\\numpy_.py\", line 203, in __array__\n",
      "    return np.asarray(self._ndarray, dtype=dtype)\n",
      "  File \"c:\\users\\ammu\\anaconda3\\envs\\penv1\\lib\\site-packages\\numpy\\core\\_asarray.py\", line 102, in asarray\n",
      "    return array(a, dtype, copy=False, order=order)\n",
      "ValueError: could not convert string to float: 'negative'\n",
      "\n",
      "  UserWarning,\n"
     ]
    },
    {
     "name": "stdout",
     "output_type": "stream",
     "text": [
      "[CV] END max_depth=5, max_features=sqrt, min_samples_leaf=2, min_samples_split=10, n_estimators=700; total time=  39.5s\n"
     ]
    },
    {
     "name": "stderr",
     "output_type": "stream",
     "text": [
      "c:\\users\\ammu\\anaconda3\\envs\\penv1\\lib\\site-packages\\sklearn\\model_selection\\_validation.py:700: UserWarning: Scoring failed. The score on this train-test partition for these parameters will be set to nan. Details: \n",
      "Traceback (most recent call last):\n",
      "  File \"c:\\users\\ammu\\anaconda3\\envs\\penv1\\lib\\site-packages\\sklearn\\model_selection\\_validation.py\", line 687, in _score\n",
      "    scores = scorer(estimator, X_test, y_test)\n",
      "  File \"c:\\users\\ammu\\anaconda3\\envs\\penv1\\lib\\site-packages\\sklearn\\metrics\\_scorer.py\", line 200, in __call__\n",
      "    sample_weight=sample_weight)\n",
      "  File \"c:\\users\\ammu\\anaconda3\\envs\\penv1\\lib\\site-packages\\sklearn\\metrics\\_scorer.py\", line 243, in _score\n",
      "    **self._kwargs)\n",
      "  File \"c:\\users\\ammu\\anaconda3\\envs\\penv1\\lib\\site-packages\\sklearn\\utils\\validation.py\", line 63, in inner_f\n",
      "    return f(*args, **kwargs)\n",
      "  File \"c:\\users\\ammu\\anaconda3\\envs\\penv1\\lib\\site-packages\\sklearn\\metrics\\_regression.py\", line 336, in mean_squared_error\n",
      "    y_true, y_pred, multioutput)\n",
      "  File \"c:\\users\\ammu\\anaconda3\\envs\\penv1\\lib\\site-packages\\sklearn\\metrics\\_regression.py\", line 89, in _check_reg_targets\n",
      "    y_true = check_array(y_true, ensure_2d=False, dtype=dtype)\n",
      "  File \"c:\\users\\ammu\\anaconda3\\envs\\penv1\\lib\\site-packages\\sklearn\\utils\\validation.py\", line 63, in inner_f\n",
      "    return f(*args, **kwargs)\n",
      "  File \"c:\\users\\ammu\\anaconda3\\envs\\penv1\\lib\\site-packages\\sklearn\\utils\\validation.py\", line 673, in check_array\n",
      "    array = np.asarray(array, order=order, dtype=dtype)\n",
      "  File \"c:\\users\\ammu\\anaconda3\\envs\\penv1\\lib\\site-packages\\numpy\\core\\_asarray.py\", line 102, in asarray\n",
      "    return array(a, dtype, copy=False, order=order)\n",
      "  File \"c:\\users\\ammu\\anaconda3\\envs\\penv1\\lib\\site-packages\\pandas\\core\\series.py\", line 768, in __array__\n",
      "    return np.asarray(self.array, dtype)\n",
      "  File \"c:\\users\\ammu\\anaconda3\\envs\\penv1\\lib\\site-packages\\numpy\\core\\_asarray.py\", line 102, in asarray\n",
      "    return array(a, dtype, copy=False, order=order)\n",
      "  File \"c:\\users\\ammu\\anaconda3\\envs\\penv1\\lib\\site-packages\\pandas\\core\\arrays\\numpy_.py\", line 203, in __array__\n",
      "    return np.asarray(self._ndarray, dtype=dtype)\n",
      "  File \"c:\\users\\ammu\\anaconda3\\envs\\penv1\\lib\\site-packages\\numpy\\core\\_asarray.py\", line 102, in asarray\n",
      "    return array(a, dtype, copy=False, order=order)\n",
      "ValueError: could not convert string to float: 'positive'\n",
      "\n",
      "  UserWarning,\n"
     ]
    },
    {
     "name": "stdout",
     "output_type": "stream",
     "text": [
      "[CV] END max_depth=5, max_features=sqrt, min_samples_leaf=2, min_samples_split=10, n_estimators=700; total time=  31.4s\n"
     ]
    },
    {
     "name": "stderr",
     "output_type": "stream",
     "text": [
      "c:\\users\\ammu\\anaconda3\\envs\\penv1\\lib\\site-packages\\sklearn\\model_selection\\_validation.py:700: UserWarning: Scoring failed. The score on this train-test partition for these parameters will be set to nan. Details: \n",
      "Traceback (most recent call last):\n",
      "  File \"c:\\users\\ammu\\anaconda3\\envs\\penv1\\lib\\site-packages\\sklearn\\model_selection\\_validation.py\", line 687, in _score\n",
      "    scores = scorer(estimator, X_test, y_test)\n",
      "  File \"c:\\users\\ammu\\anaconda3\\envs\\penv1\\lib\\site-packages\\sklearn\\metrics\\_scorer.py\", line 200, in __call__\n",
      "    sample_weight=sample_weight)\n",
      "  File \"c:\\users\\ammu\\anaconda3\\envs\\penv1\\lib\\site-packages\\sklearn\\metrics\\_scorer.py\", line 243, in _score\n",
      "    **self._kwargs)\n",
      "  File \"c:\\users\\ammu\\anaconda3\\envs\\penv1\\lib\\site-packages\\sklearn\\utils\\validation.py\", line 63, in inner_f\n",
      "    return f(*args, **kwargs)\n",
      "  File \"c:\\users\\ammu\\anaconda3\\envs\\penv1\\lib\\site-packages\\sklearn\\metrics\\_regression.py\", line 336, in mean_squared_error\n",
      "    y_true, y_pred, multioutput)\n",
      "  File \"c:\\users\\ammu\\anaconda3\\envs\\penv1\\lib\\site-packages\\sklearn\\metrics\\_regression.py\", line 89, in _check_reg_targets\n",
      "    y_true = check_array(y_true, ensure_2d=False, dtype=dtype)\n",
      "  File \"c:\\users\\ammu\\anaconda3\\envs\\penv1\\lib\\site-packages\\sklearn\\utils\\validation.py\", line 63, in inner_f\n",
      "    return f(*args, **kwargs)\n",
      "  File \"c:\\users\\ammu\\anaconda3\\envs\\penv1\\lib\\site-packages\\sklearn\\utils\\validation.py\", line 673, in check_array\n",
      "    array = np.asarray(array, order=order, dtype=dtype)\n",
      "  File \"c:\\users\\ammu\\anaconda3\\envs\\penv1\\lib\\site-packages\\numpy\\core\\_asarray.py\", line 102, in asarray\n",
      "    return array(a, dtype, copy=False, order=order)\n",
      "  File \"c:\\users\\ammu\\anaconda3\\envs\\penv1\\lib\\site-packages\\pandas\\core\\series.py\", line 768, in __array__\n",
      "    return np.asarray(self.array, dtype)\n",
      "  File \"c:\\users\\ammu\\anaconda3\\envs\\penv1\\lib\\site-packages\\numpy\\core\\_asarray.py\", line 102, in asarray\n",
      "    return array(a, dtype, copy=False, order=order)\n",
      "  File \"c:\\users\\ammu\\anaconda3\\envs\\penv1\\lib\\site-packages\\pandas\\core\\arrays\\numpy_.py\", line 203, in __array__\n",
      "    return np.asarray(self._ndarray, dtype=dtype)\n",
      "  File \"c:\\users\\ammu\\anaconda3\\envs\\penv1\\lib\\site-packages\\numpy\\core\\_asarray.py\", line 102, in asarray\n",
      "    return array(a, dtype, copy=False, order=order)\n",
      "ValueError: could not convert string to float: 'positive'\n",
      "\n",
      "  UserWarning,\n"
     ]
    },
    {
     "name": "stdout",
     "output_type": "stream",
     "text": [
      "[CV] END max_depth=20, max_features=auto, min_samples_leaf=1, min_samples_split=15, n_estimators=700; total time= 2.6min\n"
     ]
    },
    {
     "name": "stderr",
     "output_type": "stream",
     "text": [
      "c:\\users\\ammu\\anaconda3\\envs\\penv1\\lib\\site-packages\\sklearn\\model_selection\\_validation.py:700: UserWarning: Scoring failed. The score on this train-test partition for these parameters will be set to nan. Details: \n",
      "Traceback (most recent call last):\n",
      "  File \"c:\\users\\ammu\\anaconda3\\envs\\penv1\\lib\\site-packages\\sklearn\\model_selection\\_validation.py\", line 687, in _score\n",
      "    scores = scorer(estimator, X_test, y_test)\n",
      "  File \"c:\\users\\ammu\\anaconda3\\envs\\penv1\\lib\\site-packages\\sklearn\\metrics\\_scorer.py\", line 200, in __call__\n",
      "    sample_weight=sample_weight)\n",
      "  File \"c:\\users\\ammu\\anaconda3\\envs\\penv1\\lib\\site-packages\\sklearn\\metrics\\_scorer.py\", line 243, in _score\n",
      "    **self._kwargs)\n",
      "  File \"c:\\users\\ammu\\anaconda3\\envs\\penv1\\lib\\site-packages\\sklearn\\utils\\validation.py\", line 63, in inner_f\n",
      "    return f(*args, **kwargs)\n",
      "  File \"c:\\users\\ammu\\anaconda3\\envs\\penv1\\lib\\site-packages\\sklearn\\metrics\\_regression.py\", line 336, in mean_squared_error\n",
      "    y_true, y_pred, multioutput)\n",
      "  File \"c:\\users\\ammu\\anaconda3\\envs\\penv1\\lib\\site-packages\\sklearn\\metrics\\_regression.py\", line 89, in _check_reg_targets\n",
      "    y_true = check_array(y_true, ensure_2d=False, dtype=dtype)\n",
      "  File \"c:\\users\\ammu\\anaconda3\\envs\\penv1\\lib\\site-packages\\sklearn\\utils\\validation.py\", line 63, in inner_f\n",
      "    return f(*args, **kwargs)\n",
      "  File \"c:\\users\\ammu\\anaconda3\\envs\\penv1\\lib\\site-packages\\sklearn\\utils\\validation.py\", line 673, in check_array\n",
      "    array = np.asarray(array, order=order, dtype=dtype)\n",
      "  File \"c:\\users\\ammu\\anaconda3\\envs\\penv1\\lib\\site-packages\\numpy\\core\\_asarray.py\", line 102, in asarray\n",
      "    return array(a, dtype, copy=False, order=order)\n",
      "  File \"c:\\users\\ammu\\anaconda3\\envs\\penv1\\lib\\site-packages\\pandas\\core\\series.py\", line 768, in __array__\n",
      "    return np.asarray(self.array, dtype)\n",
      "  File \"c:\\users\\ammu\\anaconda3\\envs\\penv1\\lib\\site-packages\\numpy\\core\\_asarray.py\", line 102, in asarray\n",
      "    return array(a, dtype, copy=False, order=order)\n",
      "  File \"c:\\users\\ammu\\anaconda3\\envs\\penv1\\lib\\site-packages\\pandas\\core\\arrays\\numpy_.py\", line 203, in __array__\n",
      "    return np.asarray(self._ndarray, dtype=dtype)\n",
      "  File \"c:\\users\\ammu\\anaconda3\\envs\\penv1\\lib\\site-packages\\numpy\\core\\_asarray.py\", line 102, in asarray\n",
      "    return array(a, dtype, copy=False, order=order)\n",
      "ValueError: could not convert string to float: 'positive'\n",
      "\n",
      "  UserWarning,\n"
     ]
    },
    {
     "name": "stdout",
     "output_type": "stream",
     "text": [
      "[CV] END max_depth=20, max_features=auto, min_samples_leaf=1, min_samples_split=15, n_estimators=700; total time= 2.5min\n"
     ]
    },
    {
     "name": "stderr",
     "output_type": "stream",
     "text": [
      "c:\\users\\ammu\\anaconda3\\envs\\penv1\\lib\\site-packages\\sklearn\\model_selection\\_validation.py:700: UserWarning: Scoring failed. The score on this train-test partition for these parameters will be set to nan. Details: \n",
      "Traceback (most recent call last):\n",
      "  File \"c:\\users\\ammu\\anaconda3\\envs\\penv1\\lib\\site-packages\\sklearn\\model_selection\\_validation.py\", line 687, in _score\n",
      "    scores = scorer(estimator, X_test, y_test)\n",
      "  File \"c:\\users\\ammu\\anaconda3\\envs\\penv1\\lib\\site-packages\\sklearn\\metrics\\_scorer.py\", line 200, in __call__\n",
      "    sample_weight=sample_weight)\n",
      "  File \"c:\\users\\ammu\\anaconda3\\envs\\penv1\\lib\\site-packages\\sklearn\\metrics\\_scorer.py\", line 243, in _score\n",
      "    **self._kwargs)\n",
      "  File \"c:\\users\\ammu\\anaconda3\\envs\\penv1\\lib\\site-packages\\sklearn\\utils\\validation.py\", line 63, in inner_f\n",
      "    return f(*args, **kwargs)\n",
      "  File \"c:\\users\\ammu\\anaconda3\\envs\\penv1\\lib\\site-packages\\sklearn\\metrics\\_regression.py\", line 336, in mean_squared_error\n",
      "    y_true, y_pred, multioutput)\n",
      "  File \"c:\\users\\ammu\\anaconda3\\envs\\penv1\\lib\\site-packages\\sklearn\\metrics\\_regression.py\", line 89, in _check_reg_targets\n",
      "    y_true = check_array(y_true, ensure_2d=False, dtype=dtype)\n",
      "  File \"c:\\users\\ammu\\anaconda3\\envs\\penv1\\lib\\site-packages\\sklearn\\utils\\validation.py\", line 63, in inner_f\n",
      "    return f(*args, **kwargs)\n",
      "  File \"c:\\users\\ammu\\anaconda3\\envs\\penv1\\lib\\site-packages\\sklearn\\utils\\validation.py\", line 673, in check_array\n",
      "    array = np.asarray(array, order=order, dtype=dtype)\n",
      "  File \"c:\\users\\ammu\\anaconda3\\envs\\penv1\\lib\\site-packages\\numpy\\core\\_asarray.py\", line 102, in asarray\n",
      "    return array(a, dtype, copy=False, order=order)\n",
      "  File \"c:\\users\\ammu\\anaconda3\\envs\\penv1\\lib\\site-packages\\pandas\\core\\series.py\", line 768, in __array__\n",
      "    return np.asarray(self.array, dtype)\n",
      "  File \"c:\\users\\ammu\\anaconda3\\envs\\penv1\\lib\\site-packages\\numpy\\core\\_asarray.py\", line 102, in asarray\n",
      "    return array(a, dtype, copy=False, order=order)\n",
      "  File \"c:\\users\\ammu\\anaconda3\\envs\\penv1\\lib\\site-packages\\pandas\\core\\arrays\\numpy_.py\", line 203, in __array__\n",
      "    return np.asarray(self._ndarray, dtype=dtype)\n",
      "  File \"c:\\users\\ammu\\anaconda3\\envs\\penv1\\lib\\site-packages\\numpy\\core\\_asarray.py\", line 102, in asarray\n",
      "    return array(a, dtype, copy=False, order=order)\n",
      "ValueError: could not convert string to float: 'negative'\n",
      "\n",
      "  UserWarning,\n"
     ]
    },
    {
     "name": "stdout",
     "output_type": "stream",
     "text": [
      "[CV] END max_depth=20, max_features=auto, min_samples_leaf=1, min_samples_split=15, n_estimators=700; total time= 2.8min\n"
     ]
    },
    {
     "name": "stderr",
     "output_type": "stream",
     "text": [
      "c:\\users\\ammu\\anaconda3\\envs\\penv1\\lib\\site-packages\\sklearn\\model_selection\\_validation.py:700: UserWarning: Scoring failed. The score on this train-test partition for these parameters will be set to nan. Details: \n",
      "Traceback (most recent call last):\n",
      "  File \"c:\\users\\ammu\\anaconda3\\envs\\penv1\\lib\\site-packages\\sklearn\\model_selection\\_validation.py\", line 687, in _score\n",
      "    scores = scorer(estimator, X_test, y_test)\n",
      "  File \"c:\\users\\ammu\\anaconda3\\envs\\penv1\\lib\\site-packages\\sklearn\\metrics\\_scorer.py\", line 200, in __call__\n",
      "    sample_weight=sample_weight)\n",
      "  File \"c:\\users\\ammu\\anaconda3\\envs\\penv1\\lib\\site-packages\\sklearn\\metrics\\_scorer.py\", line 243, in _score\n",
      "    **self._kwargs)\n",
      "  File \"c:\\users\\ammu\\anaconda3\\envs\\penv1\\lib\\site-packages\\sklearn\\utils\\validation.py\", line 63, in inner_f\n",
      "    return f(*args, **kwargs)\n",
      "  File \"c:\\users\\ammu\\anaconda3\\envs\\penv1\\lib\\site-packages\\sklearn\\metrics\\_regression.py\", line 336, in mean_squared_error\n",
      "    y_true, y_pred, multioutput)\n",
      "  File \"c:\\users\\ammu\\anaconda3\\envs\\penv1\\lib\\site-packages\\sklearn\\metrics\\_regression.py\", line 89, in _check_reg_targets\n",
      "    y_true = check_array(y_true, ensure_2d=False, dtype=dtype)\n",
      "  File \"c:\\users\\ammu\\anaconda3\\envs\\penv1\\lib\\site-packages\\sklearn\\utils\\validation.py\", line 63, in inner_f\n",
      "    return f(*args, **kwargs)\n",
      "  File \"c:\\users\\ammu\\anaconda3\\envs\\penv1\\lib\\site-packages\\sklearn\\utils\\validation.py\", line 673, in check_array\n",
      "    array = np.asarray(array, order=order, dtype=dtype)\n",
      "  File \"c:\\users\\ammu\\anaconda3\\envs\\penv1\\lib\\site-packages\\numpy\\core\\_asarray.py\", line 102, in asarray\n",
      "    return array(a, dtype, copy=False, order=order)\n",
      "  File \"c:\\users\\ammu\\anaconda3\\envs\\penv1\\lib\\site-packages\\pandas\\core\\series.py\", line 768, in __array__\n",
      "    return np.asarray(self.array, dtype)\n",
      "  File \"c:\\users\\ammu\\anaconda3\\envs\\penv1\\lib\\site-packages\\numpy\\core\\_asarray.py\", line 102, in asarray\n",
      "    return array(a, dtype, copy=False, order=order)\n",
      "  File \"c:\\users\\ammu\\anaconda3\\envs\\penv1\\lib\\site-packages\\pandas\\core\\arrays\\numpy_.py\", line 203, in __array__\n",
      "    return np.asarray(self._ndarray, dtype=dtype)\n",
      "  File \"c:\\users\\ammu\\anaconda3\\envs\\penv1\\lib\\site-packages\\numpy\\core\\_asarray.py\", line 102, in asarray\n",
      "    return array(a, dtype, copy=False, order=order)\n",
      "ValueError: could not convert string to float: 'negative'\n",
      "\n",
      "  UserWarning,\n"
     ]
    },
    {
     "name": "stdout",
     "output_type": "stream",
     "text": [
      "[CV] END max_depth=20, max_features=auto, min_samples_leaf=1, min_samples_split=15, n_estimators=700; total time= 2.5min\n"
     ]
    },
    {
     "name": "stderr",
     "output_type": "stream",
     "text": [
      "c:\\users\\ammu\\anaconda3\\envs\\penv1\\lib\\site-packages\\sklearn\\model_selection\\_validation.py:700: UserWarning: Scoring failed. The score on this train-test partition for these parameters will be set to nan. Details: \n",
      "Traceback (most recent call last):\n",
      "  File \"c:\\users\\ammu\\anaconda3\\envs\\penv1\\lib\\site-packages\\sklearn\\model_selection\\_validation.py\", line 687, in _score\n",
      "    scores = scorer(estimator, X_test, y_test)\n",
      "  File \"c:\\users\\ammu\\anaconda3\\envs\\penv1\\lib\\site-packages\\sklearn\\metrics\\_scorer.py\", line 200, in __call__\n",
      "    sample_weight=sample_weight)\n",
      "  File \"c:\\users\\ammu\\anaconda3\\envs\\penv1\\lib\\site-packages\\sklearn\\metrics\\_scorer.py\", line 243, in _score\n",
      "    **self._kwargs)\n",
      "  File \"c:\\users\\ammu\\anaconda3\\envs\\penv1\\lib\\site-packages\\sklearn\\utils\\validation.py\", line 63, in inner_f\n",
      "    return f(*args, **kwargs)\n",
      "  File \"c:\\users\\ammu\\anaconda3\\envs\\penv1\\lib\\site-packages\\sklearn\\metrics\\_regression.py\", line 336, in mean_squared_error\n",
      "    y_true, y_pred, multioutput)\n",
      "  File \"c:\\users\\ammu\\anaconda3\\envs\\penv1\\lib\\site-packages\\sklearn\\metrics\\_regression.py\", line 89, in _check_reg_targets\n",
      "    y_true = check_array(y_true, ensure_2d=False, dtype=dtype)\n",
      "  File \"c:\\users\\ammu\\anaconda3\\envs\\penv1\\lib\\site-packages\\sklearn\\utils\\validation.py\", line 63, in inner_f\n",
      "    return f(*args, **kwargs)\n",
      "  File \"c:\\users\\ammu\\anaconda3\\envs\\penv1\\lib\\site-packages\\sklearn\\utils\\validation.py\", line 673, in check_array\n",
      "    array = np.asarray(array, order=order, dtype=dtype)\n",
      "  File \"c:\\users\\ammu\\anaconda3\\envs\\penv1\\lib\\site-packages\\numpy\\core\\_asarray.py\", line 102, in asarray\n",
      "    return array(a, dtype, copy=False, order=order)\n",
      "  File \"c:\\users\\ammu\\anaconda3\\envs\\penv1\\lib\\site-packages\\pandas\\core\\series.py\", line 768, in __array__\n",
      "    return np.asarray(self.array, dtype)\n",
      "  File \"c:\\users\\ammu\\anaconda3\\envs\\penv1\\lib\\site-packages\\numpy\\core\\_asarray.py\", line 102, in asarray\n",
      "    return array(a, dtype, copy=False, order=order)\n",
      "  File \"c:\\users\\ammu\\anaconda3\\envs\\penv1\\lib\\site-packages\\pandas\\core\\arrays\\numpy_.py\", line 203, in __array__\n",
      "    return np.asarray(self._ndarray, dtype=dtype)\n",
      "  File \"c:\\users\\ammu\\anaconda3\\envs\\penv1\\lib\\site-packages\\numpy\\core\\_asarray.py\", line 102, in asarray\n",
      "    return array(a, dtype, copy=False, order=order)\n",
      "ValueError: could not convert string to float: 'positive'\n",
      "\n",
      "  UserWarning,\n",
      "c:\\users\\ammu\\anaconda3\\envs\\penv1\\lib\\site-packages\\sklearn\\model_selection\\_search.py:925: UserWarning: One or more of the test scores are non-finite: [nan nan nan nan nan nan nan nan nan nan]\n",
      "  category=UserWarning\n"
     ]
    },
    {
     "name": "stdout",
     "output_type": "stream",
     "text": [
      "[CV] END max_depth=20, max_features=auto, min_samples_leaf=1, min_samples_split=15, n_estimators=700; total time= 2.7min\n"
     ]
    },
    {
     "data": {
      "text/plain": [
       "RandomizedSearchCV(cv=5, estimator=RandomForestClassifier(), n_jobs=1,\n",
       "                   param_distributions={'max_depth': [5, 10, 15, 20, 25, 30],\n",
       "                                        'max_features': ['auto', 'sqrt'],\n",
       "                                        'min_samples_leaf': [1, 2, 5, 10],\n",
       "                                        'min_samples_split': [2, 5, 10, 15,\n",
       "                                                              100],\n",
       "                                        'n_estimators': [100, 200, 300, 400,\n",
       "                                                         500, 600, 700, 800,\n",
       "                                                         900, 1000, 1100,\n",
       "                                                         1200]},\n",
       "                   random_state=42, scoring='neg_mean_squared_error',\n",
       "                   verbose=2)"
      ]
     },
     "execution_count": 33,
     "metadata": {},
     "output_type": "execute_result"
    }
   ],
   "source": [
    "rf_random.fit(train_reviews, train_sentiments)"
   ]
  },
  {
   "cell_type": "code",
   "execution_count": 34,
   "id": "e854f818",
   "metadata": {},
   "outputs": [],
   "source": [
    "predictions = rf_random.predict(test_reviews)"
   ]
  },
  {
   "cell_type": "code",
   "execution_count": 37,
   "id": "235c3306",
   "metadata": {},
   "outputs": [],
   "source": [
    "predictions_prob = rf_random.predict_proba(test_reviews)"
   ]
  },
  {
   "cell_type": "code",
   "execution_count": 39,
   "id": "2d6990ae",
   "metadata": {},
   "outputs": [],
   "source": [
    "cf_matrix_random=confusion_matrix(test_sentiments, predictions)"
   ]
  },
  {
   "cell_type": "code",
   "execution_count": 40,
   "id": "4bdb5933",
   "metadata": {},
   "outputs": [
    {
     "data": {
      "text/plain": [
       "<AxesSubplot:>"
      ]
     },
     "execution_count": 40,
     "metadata": {},
     "output_type": "execute_result"
    },
    {
     "data": {
      "image/png": "[encoded data removed]",
      "text/plain": [
       "<Figure size 432x288 with 2 Axes>"
      ]
     },
     "metadata": {
      "needs_background": "light"
     },
     "output_type": "display_data"
    }
   ],
   "source": [
    "sns.heatmap(cf_matrix_random/np.sum(cf_matrix_random), annot=True, fmt='.2%', cmap='plasma')"
   ]
  },
  {
   "cell_type": "code",
   "execution_count": 41,
   "id": "9a25f247",
   "metadata": {},
   "outputs": [],
   "source": [
    "cr = classification_report(test_sentiments,predictions,target_names=['Positive','Negative'])"
   ]
  },
  {
   "cell_type": "code",
   "execution_count": 43,
   "id": "ce1ed4f3",
   "metadata": {},
   "outputs": [
    {
     "name": "stdout",
     "output_type": "stream",
     "text": [
      "              precision    recall  f1-score   support\n",
      "\n",
      "    Positive       0.87      0.80      0.83      4993\n",
      "    Negative       0.81      0.88      0.85      5007\n",
      "\n",
      "    accuracy                           0.84     10000\n",
      "   macro avg       0.84      0.84      0.84     10000\n",
      "weighted avg       0.84      0.84      0.84     10000\n",
      "\n"
     ]
    }
   ],
   "source": [
    "print(cr)"
   ]
  },
  {
   "cell_type": "code",
   "execution_count": 44,
   "id": "c5f32410",
   "metadata": {},
   "outputs": [
    {
     "data": {
      "text/plain": [
       "RandomizedSearchCV(cv=5, estimator=RandomForestClassifier(), n_jobs=1,\n",
       "                   param_distributions={'max_depth': [5, 10, 15, 20, 25, 30],\n",
       "                                        'max_features': ['auto', 'sqrt'],\n",
       "                                        'min_samples_leaf': [1, 2, 5, 10],\n",
       "                                        'min_samples_split': [2, 5, 10, 15,\n",
       "                                                              100],\n",
       "                                        'n_estimators': [100, 200, 300, 400,\n",
       "                                                         500, 600, 700, 800,\n",
       "                                                         900, 1000, 1100,\n",
       "                                                         1200]},\n",
       "                   random_state=42, scoring='neg_mean_squared_error',\n",
       "                   verbose=2)"
      ]
     },
     "execution_count": 44,
     "metadata": {},
     "output_type": "execute_result"
    }
   ],
   "source": [
    "rf_random"
   ]
  },
  {
   "cell_type": "code",
   "execution_count": 45,
   "id": "8c69b0a0",
   "metadata": {},
   "outputs": [
    {
     "data": {
      "text/plain": [
       "RandomForestClassifier(max_depth=10, max_features='sqrt', min_samples_leaf=5,\n",
       "                       min_samples_split=5, n_estimators=900)"
      ]
     },
     "execution_count": 45,
     "metadata": {},
     "output_type": "execute_result"
    }
   ],
   "source": [
    "rf_random.best_estimator_"
   ]
  },
  {
   "cell_type": "code",
   "execution_count": null,
   "id": "025113d1",
   "metadata": {},
   "outputs": [],
   "source": []
  }
 ],
 "metadata": {
  "kernelspec": {
   "display_name": "Python 3",
   "language": "python",
   "name": "python3"
  },
  "language_info": {
   "codemirror_mode": {
    "name": "ipython",
    "version": 3
   },
   "file_extension": ".py",
   "mimetype": "text/x-python",
   "name": "python",
   "nbconvert_exporter": "python",
   "pygments_lexer": "ipython3",
   "version": "3.7.10"
  }
 },
 "nbformat": 4,
 "nbformat_minor": 5
}
