{
 "cells": [
  {
   "cell_type": "code",
   "execution_count": 33,
   "metadata": {},
   "outputs": [],
   "source": [
    "import pandas as pd\n",
    "import seaborn as sns\n",
    "import re\n",
    "import nltk\n",
    "from nltk.corpus import stopwords\n",
    "from nltk.tokenize import RegexpTokenizer\n",
    "from nltk.tokenize import sent_tokenize, word_tokenize\n",
    "from nltk.stem.snowball import SnowballStemmer\n",
    "import numpy as np\n",
    "import matplotlib.pyplot as plt\n"
   ]
  },
  {
   "cell_type": "code",
   "execution_count": 34,
   "metadata": {},
   "outputs": [],
   "source": [
    "data = pd.read_csv('IMDB Dataset.csv')"
   ]
  },
  {
   "cell_type": "code",
   "execution_count": 35,
   "metadata": {},
   "outputs": [
    {
     "data": {
      "text/html": [
       "<div>\n",
       "<style scoped>\n",
       "    .dataframe tbody tr th:only-of-type {\n",
       "        vertical-align: middle;\n",
       "    }\n",
       "\n",
       "    .dataframe tbody tr th {\n",
       "        vertical-align: top;\n",
       "    }\n",
       "\n",
       "    .dataframe thead th {\n",
       "        text-align: right;\n",
       "    }\n",
       "</style>\n",
       "<table border=\"1\" class=\"dataframe\">\n",
       "  <thead>\n",
       "    <tr style=\"text-align: right;\">\n",
       "      <th></th>\n",
       "      <th>review</th>\n",
       "      <th>sentiment</th>\n",
       "    </tr>\n",
       "  </thead>\n",
       "  <tbody>\n",
       "    <tr>\n",
       "      <th>0</th>\n",
       "      <td>One of the other reviewers has mentioned that ...</td>\n",
       "      <td>positive</td>\n",
       "    </tr>\n",
       "    <tr>\n",
       "      <th>1</th>\n",
       "      <td>A wonderful little production. &lt;br /&gt;&lt;br /&gt;The...</td>\n",
       "      <td>positive</td>\n",
       "    </tr>\n",
       "    <tr>\n",
       "      <th>2</th>\n",
       "      <td>I thought this was a wonderful way to spend ti...</td>\n",
       "      <td>positive</td>\n",
       "    </tr>\n",
       "    <tr>\n",
       "      <th>3</th>\n",
       "      <td>Basically there's a family where a little boy ...</td>\n",
       "      <td>negative</td>\n",
       "    </tr>\n",
       "    <tr>\n",
       "      <th>4</th>\n",
       "      <td>Petter Mattei's \"Love in the Time of Money\" is...</td>\n",
       "      <td>positive</td>\n",
       "    </tr>\n",
       "  </tbody>\n",
       "</table>\n",
       "</div>"
      ],
      "text/plain": [
       "                                              review sentiment\n",
       "0  One of the other reviewers has mentioned that ...  positive\n",
       "1  A wonderful little production. <br /><br />The...  positive\n",
       "2  I thought this was a wonderful way to spend ti...  positive\n",
       "3  Basically there's a family where a little boy ...  negative\n",
       "4  Petter Mattei's \"Love in the Time of Money\" is...  positive"
      ]
     },
     "execution_count": 35,
     "metadata": {},
     "output_type": "execute_result"
    }
   ],
   "source": [
    "data.head()"
   ]
  },
  {
   "cell_type": "code",
   "execution_count": 36,
   "metadata": {},
   "outputs": [
    {
     "data": {
      "text/plain": [
       "(50000, 2)"
      ]
     },
     "execution_count": 36,
     "metadata": {},
     "output_type": "execute_result"
    }
   ],
   "source": [
    "data.shape"
   ]
  },
  {
   "cell_type": "code",
   "execution_count": 37,
   "metadata": {},
   "outputs": [
    {
     "data": {
      "text/html": [
       "<div>\n",
       "<style scoped>\n",
       "    .dataframe tbody tr th:only-of-type {\n",
       "        vertical-align: middle;\n",
       "    }\n",
       "\n",
       "    .dataframe tbody tr th {\n",
       "        vertical-align: top;\n",
       "    }\n",
       "\n",
       "    .dataframe thead th {\n",
       "        text-align: right;\n",
       "    }\n",
       "</style>\n",
       "<table border=\"1\" class=\"dataframe\">\n",
       "  <thead>\n",
       "    <tr style=\"text-align: right;\">\n",
       "      <th></th>\n",
       "      <th>review</th>\n",
       "      <th>sentiment</th>\n",
       "    </tr>\n",
       "  </thead>\n",
       "  <tbody>\n",
       "    <tr>\n",
       "      <th>count</th>\n",
       "      <td>50000</td>\n",
       "      <td>50000</td>\n",
       "    </tr>\n",
       "    <tr>\n",
       "      <th>unique</th>\n",
       "      <td>49582</td>\n",
       "      <td>2</td>\n",
       "    </tr>\n",
       "    <tr>\n",
       "      <th>top</th>\n",
       "      <td>Loved today's show!!! It was a variety and not...</td>\n",
       "      <td>positive</td>\n",
       "    </tr>\n",
       "    <tr>\n",
       "      <th>freq</th>\n",
       "      <td>5</td>\n",
       "      <td>25000</td>\n",
       "    </tr>\n",
       "  </tbody>\n",
       "</table>\n",
       "</div>"
      ],
      "text/plain": [
       "                                                   review sentiment\n",
       "count                                               50000     50000\n",
       "unique                                              49582         2\n",
       "top     Loved today's show!!! It was a variety and not...  positive\n",
       "freq                                                    5     25000"
      ]
     },
     "execution_count": 37,
     "metadata": {},
     "output_type": "execute_result"
    }
   ],
   "source": [
    "data.describe()"
   ]
  },
  {
   "cell_type": "code",
   "execution_count": 38,
   "metadata": {},
   "outputs": [
    {
     "data": {
      "text/plain": [
       "review       0\n",
       "sentiment    0\n",
       "dtype: int64"
      ]
     },
     "execution_count": 38,
     "metadata": {},
     "output_type": "execute_result"
    }
   ],
   "source": [
    "data.isnull().sum()"
   ]
  },
  {
   "cell_type": "markdown",
   "metadata": {},
   "source": [
    "#### Result before cleaning"
   ]
  },
  {
   "cell_type": "code",
   "execution_count": 39,
   "metadata": {},
   "outputs": [
    {
     "data": {
      "text/plain": [
       "'A wonderful little production. <br /><br />The filming technique is very unassuming- very old-time-BBC fashion and gives a comforting, and sometimes discomforting, sense of realism to the entire piece. <br /><br />The actors are extremely well chosen- Michael Sheen not only \"has got all the polari\" but he has all the voices down pat too! You can truly see the seamless editing guided by the references to Williams\\' diary entries, not only is it well worth the watching but it is a terrificly written and performed piece. A masterful production about one of the great master\\'s of comedy and his life. <br /><br />The realism really comes home with the little things: the fantasy of the guard which, rather than use the traditional \\'dream\\' techniques remains solid then disappears. It plays on our knowledge and our senses, particularly with the scenes concerning Orton and Halliwell and the sets (particularly of their flat with Halliwell\\'s murals decorating every surface) are terribly well done.'"
      ]
     },
     "execution_count": 39,
     "metadata": {},
     "output_type": "execute_result"
    }
   ],
   "source": [
    "data['review'][1]"
   ]
  },
  {
   "cell_type": "code",
   "execution_count": 14,
   "metadata": {},
   "outputs": [],
   "source": [
    "data['sentiment'][0]\n",
    "for i in range(data.shape[0]):\n",
    "    if (data['sentiment'][i]) =='positive':\n",
    "        data['sentiment'][i]=1\n",
    "    else:\n",
    "        data['sentiment'][i]=0"
   ]
  },
  {
   "cell_type": "code",
   "execution_count": 40,
   "metadata": {},
   "outputs": [
    {
     "data": {
      "text/html": [
       "<div>\n",
       "<style scoped>\n",
       "    .dataframe tbody tr th:only-of-type {\n",
       "        vertical-align: middle;\n",
       "    }\n",
       "\n",
       "    .dataframe tbody tr th {\n",
       "        vertical-align: top;\n",
       "    }\n",
       "\n",
       "    .dataframe thead th {\n",
       "        text-align: right;\n",
       "    }\n",
       "</style>\n",
       "<table border=\"1\" class=\"dataframe\">\n",
       "  <thead>\n",
       "    <tr style=\"text-align: right;\">\n",
       "      <th></th>\n",
       "      <th>review</th>\n",
       "      <th>sentiment</th>\n",
       "    </tr>\n",
       "  </thead>\n",
       "  <tbody>\n",
       "    <tr>\n",
       "      <th>0</th>\n",
       "      <td>One of the other reviewers has mentioned that ...</td>\n",
       "      <td>positive</td>\n",
       "    </tr>\n",
       "    <tr>\n",
       "      <th>1</th>\n",
       "      <td>A wonderful little production. &lt;br /&gt;&lt;br /&gt;The...</td>\n",
       "      <td>positive</td>\n",
       "    </tr>\n",
       "    <tr>\n",
       "      <th>2</th>\n",
       "      <td>I thought this was a wonderful way to spend ti...</td>\n",
       "      <td>positive</td>\n",
       "    </tr>\n",
       "    <tr>\n",
       "      <th>3</th>\n",
       "      <td>Basically there's a family where a little boy ...</td>\n",
       "      <td>negative</td>\n",
       "    </tr>\n",
       "    <tr>\n",
       "      <th>4</th>\n",
       "      <td>Petter Mattei's \"Love in the Time of Money\" is...</td>\n",
       "      <td>positive</td>\n",
       "    </tr>\n",
       "  </tbody>\n",
       "</table>\n",
       "</div>"
      ],
      "text/plain": [
       "                                              review sentiment\n",
       "0  One of the other reviewers has mentioned that ...  positive\n",
       "1  A wonderful little production. <br /><br />The...  positive\n",
       "2  I thought this was a wonderful way to spend ti...  positive\n",
       "3  Basically there's a family where a little boy ...  negative\n",
       "4  Petter Mattei's \"Love in the Time of Money\" is...  positive"
      ]
     },
     "execution_count": 40,
     "metadata": {},
     "output_type": "execute_result"
    }
   ],
   "source": [
    "data.head()"
   ]
  },
  {
   "cell_type": "code",
   "execution_count": 41,
   "metadata": {},
   "outputs": [
    {
     "data": {
      "text/html": [
       "<div>\n",
       "<style scoped>\n",
       "    .dataframe tbody tr th:only-of-type {\n",
       "        vertical-align: middle;\n",
       "    }\n",
       "\n",
       "    .dataframe tbody tr th {\n",
       "        vertical-align: top;\n",
       "    }\n",
       "\n",
       "    .dataframe thead th {\n",
       "        text-align: right;\n",
       "    }\n",
       "</style>\n",
       "<table border=\"1\" class=\"dataframe\">\n",
       "  <thead>\n",
       "    <tr style=\"text-align: right;\">\n",
       "      <th></th>\n",
       "      <th>review</th>\n",
       "      <th>sentiment</th>\n",
       "    </tr>\n",
       "  </thead>\n",
       "  <tbody>\n",
       "    <tr>\n",
       "      <th>count</th>\n",
       "      <td>50000</td>\n",
       "      <td>50000</td>\n",
       "    </tr>\n",
       "    <tr>\n",
       "      <th>unique</th>\n",
       "      <td>49582</td>\n",
       "      <td>2</td>\n",
       "    </tr>\n",
       "    <tr>\n",
       "      <th>top</th>\n",
       "      <td>Loved today's show!!! It was a variety and not...</td>\n",
       "      <td>positive</td>\n",
       "    </tr>\n",
       "    <tr>\n",
       "      <th>freq</th>\n",
       "      <td>5</td>\n",
       "      <td>25000</td>\n",
       "    </tr>\n",
       "  </tbody>\n",
       "</table>\n",
       "</div>"
      ],
      "text/plain": [
       "                                                   review sentiment\n",
       "count                                               50000     50000\n",
       "unique                                              49582         2\n",
       "top     Loved today's show!!! It was a variety and not...  positive\n",
       "freq                                                    5     25000"
      ]
     },
     "execution_count": 41,
     "metadata": {},
     "output_type": "execute_result"
    }
   ],
   "source": [
    "data.describe()"
   ]
  },
  {
   "cell_type": "markdown",
   "metadata": {},
   "source": [
    "# Text CLeaning\n",
    "\n",
    "### we need to remove special characters\n",
    "### We need to filter out the stop words\n",
    "### we need to split the text into tokens"
   ]
  },
  {
   "cell_type": "code",
   "execution_count": 42,
   "metadata": {},
   "outputs": [],
   "source": [
    "#using re.compile pattenstring is converted to patten objects\n",
    "no_space = re.compile(\"[.;:!\\'?,\\\"()\\[\\]]\")\n",
    "space = re.compile(\"(<br\\s*/><br\\s*/>)|(\\-)|(\\/)\")\n",
    "\n",
    "##array of stopwords\n",
    "stop_words = (stopwords.words('english'))\n",
    "\n",
    "\n",
    "#to tokenize using regular expression method\n",
    "tokenizer=RegexpTokenizer(r'\\w+')\n",
    "\n",
    "stemmer = SnowballStemmer(language='english')\n",
    "\n",
    "#words are reduced to its root form using stemming method\n",
    "\n",
    "\n",
    "def data_cleaning(review):\n",
    "    clean_review = review.lower() #converted each letter to lower case\n",
    "    clean_review = no_space.sub(\"\",review) # all special character beloning to no_space objects replaced by \"\"\n",
    "    clean_review = space.sub(\"\",review) # all special character beloning to space objects replaced by \" \"\n",
    "    tokens = tokenizer.tokenize(clean_review)\n",
    "    clean_tokens =[]\n",
    "    \n",
    "    #stemming is done to reduce word to its root form\n",
    "    for token in tokens:\n",
    "        if token not in stop_words:\n",
    "            clean_tokens.append(token)\n",
    "    \n",
    "    stem_tokens=[]\n",
    "    \n",
    "    for token in clean_tokens:\n",
    "        stem_tokens.append(stemmer.stem(token))\n",
    "        \n",
    "    clean_review=' '.join(stem_tokens)\n",
    "\n",
    "        \n",
    "    return clean_review"
   ]
  },
  {
   "cell_type": "markdown",
   "metadata": {},
   "source": [
    "#### Result after cleaning"
   ]
  },
  {
   "cell_type": "code",
   "execution_count": 43,
   "metadata": {},
   "outputs": [
    {
     "data": {
      "text/plain": [
       "'a wonder littl product the film techniqu unassum oldtimebbc fashion give comfort sometim discomfort sens realism entir piec the actor extrem well chosen michael sheen got polari voic pat you truli see seamless edit guid refer william diari entri well worth watch terrif written perform piec a master product one great master comedi life the realism realli come home littl thing fantasi guard rather use tradit dream techniqu remain solid disappear it play knowledg sens particular scene concern orton halliwel set particular flat halliwel mural decor everi surfac terribl well done'"
      ]
     },
     "execution_count": 43,
     "metadata": {},
     "output_type": "execute_result"
    }
   ],
   "source": [
    "data_cleaning(data['review'][1])"
   ]
  },
  {
   "cell_type": "code",
   "execution_count": 44,
   "metadata": {},
   "outputs": [
    {
     "data": {
      "text/plain": [
       "0        one review mention watch 1 oz episod hook they...\n",
       "1        a wonder littl product the film techniqu unass...\n",
       "2        i thought wonder way spend time hot summer wee...\n",
       "3        basic famili littl boy jake think zombi closet...\n",
       "4        petter mattei love time money visual stun film...\n",
       "                               ...                        \n",
       "49995    i thought movi right good job it creativ origi...\n",
       "49996    bad plot bad dialogu bad act idiot direct anno...\n",
       "49997    i cathol taught parochi elementari school nun ...\n",
       "49998    i go disagre previous comment side maltin one ...\n",
       "49999    no one expect star trek movi high art fan expe...\n",
       "Name: review, Length: 50000, dtype: object"
      ]
     },
     "execution_count": 44,
     "metadata": {},
     "output_type": "execute_result"
    }
   ],
   "source": [
    "data['review'].apply(data_cleaning)"
   ]
  },
  {
   "cell_type": "markdown",
   "metadata": {},
   "source": [
    "### Splitting train and test set"
   ]
  },
  {
   "cell_type": "code",
   "execution_count": 45,
   "metadata": {},
   "outputs": [],
   "source": [
    "train_reviews=data.review[:40000]\n",
    "train_sentiments=data.sentiment[:40000]"
   ]
  },
  {
   "cell_type": "code",
   "execution_count": 46,
   "metadata": {},
   "outputs": [],
   "source": [
    "test_reviews=data.review[40000:]\n",
    "test_sentiments=data.sentiment[40000:]"
   ]
  },
  {
   "cell_type": "code",
   "execution_count": 54,
   "metadata": {},
   "outputs": [
    {
     "data": {
      "text/plain": [
       "dtype('O')"
      ]
     },
     "execution_count": 54,
     "metadata": {},
     "output_type": "execute_result"
    }
   ],
   "source": [
    "train_sentiments.dtype"
   ]
  },
  {
   "cell_type": "markdown",
   "metadata": {},
   "source": [
    "## Binary vectorization\n",
    "\n",
    "###### Binary Term Frequency captures presence (1) or absence (0) of term in document"
   ]
  },
  {
   "cell_type": "code",
   "execution_count": 48,
   "metadata": {},
   "outputs": [
    {
     "data": {
      "text/plain": [
       "CountVectorizer(binary=True)"
      ]
     },
     "execution_count": 48,
     "metadata": {},
     "output_type": "execute_result"
    }
   ],
   "source": [
    "from sklearn.feature_extraction.text import CountVectorizer\n",
    "cv = CountVectorizer(binary=True)\n",
    "cv.fit(train_reviews)\n"
   ]
  },
  {
   "cell_type": "code",
   "execution_count": 49,
   "metadata": {},
   "outputs": [],
   "source": [
    "train_reviews = cv.transform(train_reviews)\n",
    "test_reviews = cv.transform(test_reviews)"
   ]
  },
  {
   "cell_type": "code",
   "execution_count": 71,
   "metadata": {},
   "outputs": [
    {
     "data": {
      "text/plain": [
       "<40000x92887 sparse matrix of type '<class 'numpy.int64'>'\n",
       "\twith 5459774 stored elements in Compressed Sparse Row format>"
      ]
     },
     "execution_count": 71,
     "metadata": {},
     "output_type": "execute_result"
    }
   ],
   "source": [
    "train_reviews"
   ]
  },
  {
   "cell_type": "markdown",
   "metadata": {},
   "source": [
    "## Logistic Regression Model"
   ]
  },
  {
   "cell_type": "code",
   "execution_count": 64,
   "metadata": {},
   "outputs": [],
   "source": [
    "from sklearn.linear_model import SGDClassifier\n",
    "sgd = SGDClassifier(loss='hinge')\n",
    "cl = sgd.fit(train_reviews, train_sentiments)"
   ]
  },
  {
   "cell_type": "code",
   "execution_count": 68,
   "metadata": {},
   "outputs": [],
   "source": [
    "from sklearn.calibration import CalibratedClassifierCV\n",
    "calibrator = CalibratedClassifierCV(cl, cv='prefit')\n",
    "model=calibrator.fit(train_reviews, train_sentiments)"
   ]
  },
  {
   "cell_type": "code",
   "execution_count": 72,
   "metadata": {},
   "outputs": [
    {
     "data": {
      "text/plain": [
       "(array([[9.99984954e-01, 1.50463893e-05],\n",
       "        [9.99361479e-01, 6.38521482e-04],\n",
       "        [3.93406686e-01, 6.06593314e-01],\n",
       "        ...,\n",
       "        [8.65107988e-01, 1.34892012e-01],\n",
       "        [4.52192678e-01, 5.47807322e-01],\n",
       "        [9.89968800e-01, 1.00312000e-02]]),\n",
       " array(['negative', 'negative', 'positive', ..., 'negative', 'positive',\n",
       "        'negative'], dtype='<U8'))"
      ]
     },
     "execution_count": 72,
     "metadata": {},
     "output_type": "execute_result"
    }
   ],
   "source": [
    "Y_predict = model.predict(test_reviews)\n",
    "Y_proba = model.predict_proba(test_reviews)\n",
    "Y_proba,Y_predict"
   ]
  },
  {
   "cell_type": "code",
   "execution_count": 73,
   "metadata": {},
   "outputs": [],
   "source": [
    "from sklearn.metrics import confusion_matrix"
   ]
  },
  {
   "cell_type": "code",
   "execution_count": 74,
   "metadata": {},
   "outputs": [],
   "source": [
    "cf_matrix=confusion_matrix(test_sentiments, Y_predict)"
   ]
  },
  {
   "cell_type": "markdown",
   "metadata": {},
   "source": [
    "### visualizing confusion matrix"
   ]
  },
  {
   "cell_type": "code",
   "execution_count": 75,
   "metadata": {},
   "outputs": [
    {
     "data": {
      "text/plain": [
       "<AxesSubplot:>"
      ]
     },
     "execution_count": 75,
     "metadata": {},
     "output_type": "execute_result"
    },
    {
     "data": {
      "image/png": "[encoded data removed]",
      "text/plain": [
       "<Figure size 432x288 with 2 Axes>"
      ]
     },
     "metadata": {
      "needs_background": "light"
     },
     "output_type": "display_data"
    }
   ],
   "source": [
    "sns.heatmap(cf_matrix/np.sum(cf_matrix), annot=True, fmt='.2%', cmap='plasma')"
   ]
  },
  {
   "cell_type": "markdown",
   "metadata": {},
   "source": [
    "#### precision- recall"
   ]
  },
  {
   "cell_type": "code",
   "execution_count": 76,
   "metadata": {},
   "outputs": [
    {
     "data": {
      "text/plain": [
       "0.8827061649319455"
      ]
     },
     "execution_count": 76,
     "metadata": {},
     "output_type": "execute_result"
    }
   ],
   "source": [
    "from sklearn.metrics import precision_score, recall_score\n",
    "precision_score(test_sentiments, Y_predict,average=\"binary\", pos_label=\"positive\")"
   ]
  },
  {
   "cell_type": "code",
   "execution_count": 77,
   "metadata": {},
   "outputs": [
    {
     "data": {
      "text/plain": [
       "0.8807669263031755"
      ]
     },
     "execution_count": 77,
     "metadata": {},
     "output_type": "execute_result"
    }
   ],
   "source": [
    "recall_score(test_sentiments, Y_predict,average=\"binary\", pos_label=\"positive\")"
   ]
  },
  {
   "cell_type": "code",
   "execution_count": 78,
   "metadata": {},
   "outputs": [
    {
     "data": {
      "text/plain": [
       "0.8817354793561932"
      ]
     },
     "execution_count": 78,
     "metadata": {},
     "output_type": "execute_result"
    }
   ],
   "source": [
    "from sklearn.metrics import f1_score\n",
    "f1_score(test_sentiments, Y_predict,average=\"binary\", pos_label=\"positive\")"
   ]
  },
  {
   "cell_type": "code",
   "execution_count": null,
   "metadata": {},
   "outputs": [],
   "source": []
  },
  {
   "cell_type": "code",
   "execution_count": 79,
   "metadata": {},
   "outputs": [],
   "source": [
    "from sklearn.metrics import classification_report"
   ]
  },
  {
   "cell_type": "code",
   "execution_count": 80,
   "metadata": {},
   "outputs": [],
   "source": [
    "cr = classification_report(test_sentiments,Y_predict,target_names=['Positive','Negative'])"
   ]
  },
  {
   "cell_type": "code",
   "execution_count": 81,
   "metadata": {},
   "outputs": [
    {
     "name": "stdout",
     "output_type": "stream",
     "text": [
      "              precision    recall  f1-score   support\n",
      "\n",
      "    Positive       0.88      0.88      0.88      4993\n",
      "    Negative       0.88      0.88      0.88      5007\n",
      "\n",
      "    accuracy                           0.88     10000\n",
      "   macro avg       0.88      0.88      0.88     10000\n",
      "weighted avg       0.88      0.88      0.88     10000\n",
      "\n"
     ]
    }
   ],
   "source": [
    "print(cr)"
   ]
  },
  {
   "cell_type": "code",
   "execution_count": 82,
   "metadata": {},
   "outputs": [
    {
     "data": {
      "text/plain": [
       "<1x92887 sparse matrix of type '<class 'numpy.int64'>'\n",
       "\twith 186 stored elements in Compressed Sparse Row format>"
      ]
     },
     "execution_count": 82,
     "metadata": {},
     "output_type": "execute_result"
    }
   ],
   "source": [
    "train_reviews[0]"
   ]
  },
  {
   "cell_type": "code",
   "execution_count": null,
   "metadata": {},
   "outputs": [],
   "source": []
  },
  {
   "cell_type": "code",
   "execution_count": null,
   "metadata": {},
   "outputs": [],
   "source": []
  },
  {
   "cell_type": "code",
   "execution_count": null,
   "metadata": {},
   "outputs": [],
   "source": []
  },
  {
   "cell_type": "code",
   "execution_count": 83,
   "metadata": {},
   "outputs": [
    {
     "data": {
      "text/plain": [
       "<bound method CountVectorizer.get_feature_names of CountVectorizer(binary=True)>"
      ]
     },
     "execution_count": 83,
     "metadata": {},
     "output_type": "execute_result"
    }
   ],
   "source": [
    "cv.get_feature_names"
   ]
  },
  {
   "cell_type": "code",
   "execution_count": 90,
   "metadata": {},
   "outputs": [],
   "source": [
    "feature_to_coef = {\n",
    "    word : coef for word, coef in zip(cv.get_feature_names(), log_reg.coef_[0])\n",
    "}"
   ]
  },
  {
   "cell_type": "code",
   "execution_count": 91,
   "metadata": {},
   "outputs": [
    {
     "data": {
      "text/plain": [
       "{'00': 0.5611105826769455,\n",
       " '000': -0.33120252899545416,\n",
       " '00000000000': -0.006194458268424206,\n",
       " '0000000000001': -0.005200382545213621,\n",
       " '00000001': -0.00274178153283603,\n",
       " '00001': -0.044736732731704,\n",
       " '000s': 0.003136212595762414,\n",
       " '001': -0.002245283853473048,\n",
       " '003830': 0.05332474790916586,\n",
       " '006': 0.003629957695938143,\n",
       " '0069': -0.001024726107165715,\n",
       " '007': -0.05379620941981653,\n",
       " '0079': 0.02504062600394665,\n",
       " '0080': 0.03157594156485429,\n",
       " '0083': 0.02504062600394665,\n",
       " '009': -0.1474962503457736,\n",
       " '0093638': 0.15200010916169931,\n",
       " '00am': 0.10463854484071759,\n",
       " '00o': 0.015728093878356757,\n",
       " '00pm': 0.11722666428833627,\n",
       " '00s': 0.07953495677994786,\n",
       " '00schneider': 0.019439280118987174,\n",
       " '01': 0.09068697087620955,\n",
       " '0126': 0.03894378658001526,\n",
       " '0148': 0.044298453748527755,\n",
       " '01pm': -0.001848068994870838,\n",
       " '02': -0.4035637598210548,\n",
       " '020410': 0.0004977911764893221,\n",
       " '0230': -0.033058319574874054,\n",
       " '029': -0.018483727934437984,\n",
       " '03': 0.058511422043238316,\n",
       " '04': -0.11951181722107913,\n",
       " '041': -0.0014381150974021397,\n",
       " '05': -0.011184881886269574,\n",
       " '050': -0.0010167955887303382,\n",
       " '06': -0.0033458981829332293,\n",
       " '06th': 0.015189681111093475,\n",
       " '07': -0.2726430877656441,\n",
       " '08': -0.23481569958077556,\n",
       " '087': -0.018483727934437984,\n",
       " '089': 0.050847572774900755,\n",
       " '08th': 0.09311411449261825,\n",
       " '09': -0.01651702797945201,\n",
       " '0and': -0.010230879255683235,\n",
       " '0ne': 0.22010932238820116,\n",
       " '0r': 0.3111099742692838,\n",
       " '0tt': 0.022320973209518716,\n",
       " '10': 0.04847535533592874,\n",
       " '100': 0.4402861422635932,\n",
       " '1000': -0.04256679158985336,\n",
       " '10000': -0.015306431930208534,\n",
       " '1000000': -0.002186388054310534,\n",
       " '10000000000': 0.2843746251961281,\n",
       " '10000000000000': 0.00723810837541648,\n",
       " '10000th': -0.000989507297039143,\n",
       " '1000lb': -0.001762183878427893,\n",
       " '1000s': -0.003783601628143317,\n",
       " '1001': 0.011020948057997502,\n",
       " '1004': -0.0005210848411968271,\n",
       " '100b': -0.002014140646328171,\n",
       " '100bt': -0.021469602740320667,\n",
       " '100ft': -0.0005093635103837462,\n",
       " '100ibs': -0.0005563908497432163,\n",
       " '100k': 0.017074615447074733,\n",
       " '100m': 0.09152209444211809,\n",
       " '100miles': 0.029660302811925596,\n",
       " '100min': -0.06238667717280505,\n",
       " '100mins': -0.0005731253898576975,\n",
       " '100mph': -0.00298849580124965,\n",
       " '100s': -0.0030911036751141486,\n",
       " '100th': -0.44055947956032826,\n",
       " '100times': -0.0009314399779340275,\n",
       " '100x': -0.07752235067531915,\n",
       " '100yards': -0.0017032466338097888,\n",
       " '101': 0.021338147839567924,\n",
       " '101st': -0.0320932887681572,\n",
       " '102': -0.003123774432061051,\n",
       " '103': 0.12402546654720527,\n",
       " '104': 0.0567904330803477,\n",
       " '1040': 0.002430703181299616,\n",
       " '1040a': 0.002430703181299616,\n",
       " '1040s': 0.0029803691915479317,\n",
       " '105': -0.08036843062128565,\n",
       " '1050': -0.12909832736969307,\n",
       " '105lbs': -0.0012050620450337328,\n",
       " '106': -0.00274102711740064,\n",
       " '106min': 0.008541367605893467,\n",
       " '107': -0.017948309362831347,\n",
       " '108': -0.11663199360750821,\n",
       " '1080': -0.027535497967492273,\n",
       " '109': -0.05725336190519643,\n",
       " '10_': -0.07406100058501738,\n",
       " '10am': -0.3358276739030613,\n",
       " '10ft': -0.11741406068906769,\n",
       " '10ish': -0.19540385922511896,\n",
       " '10k': -0.0008970847753557361,\n",
       " '10lines': -0.0048896818006946815,\n",
       " '10mil': -0.029678192018347285,\n",
       " '10mins': -0.03465476539660761,\n",
       " '10minutes': 0.0061996901082812216,\n",
       " '10p': -0.0009942640060469307,\n",
       " '10pm': 0.06460007873953019,\n",
       " '10s': 0.2146702637870964,\n",
       " '10star': 0.004551773473222598,\n",
       " '10th': 0.2474698037418631,\n",
       " '10x': -0.0028576279578512017,\n",
       " '10yr': -0.16944919897258623,\n",
       " '10yrs': 0.03517763189039841,\n",
       " '11': -0.3587500238445385,\n",
       " '110': 0.18557062935708973,\n",
       " '1100': 0.03327997910485673,\n",
       " '11001001': 0.0006899233004588318,\n",
       " '1100ad': -0.15231256000082952,\n",
       " '110mph': -0.0022419982385421706,\n",
       " '111': 0.0840737828051057,\n",
       " '112': 0.06171692275440327,\n",
       " '1138': -0.043077669997984916,\n",
       " '113min': -0.0003968945863695701,\n",
       " '113minutes': -0.0019679454703221736,\n",
       " '114': -0.0905429056961858,\n",
       " '1146': -0.00205218224686124,\n",
       " '115': 0.30311526527737376,\n",
       " '116': 0.07137738239563404,\n",
       " '116minutes': 0.09044999810980536,\n",
       " '117': 0.39813055847158346,\n",
       " '11706': 0.002513642653783603,\n",
       " '118': 0.215407973269744,\n",
       " '119': 0.023119435384217717,\n",
       " '11am': -0.0008344749572299809,\n",
       " '11f': -0.0027230701577332164,\n",
       " '11m': -0.0005731053335335215,\n",
       " '11th': 0.19706275178190574,\n",
       " '11ths': 0.0013330674314959508,\n",
       " '12': -0.0640988214217561,\n",
       " '120': 0.146568101992094,\n",
       " '1200': -0.0793041000445048,\n",
       " '1200f': -0.10360352125753713,\n",
       " '1201': -0.007604704301842308,\n",
       " '1202': -0.007604704301842308,\n",
       " '120kmph': 0.06637478708760924,\n",
       " '121': 0.043820952515296566,\n",
       " '122': 0.001534619080076413,\n",
       " '123': -0.09107756386530744,\n",
       " '12383499143743701': -0.0017030095065176968,\n",
       " '123k': -0.08398643075501953,\n",
       " '124': -0.002748496414339201,\n",
       " '1242': 0.03996891253705189,\n",
       " '1249': 0.0013571329205574298,\n",
       " '125': 0.05063507335557074,\n",
       " '127': 0.003249376230163597,\n",
       " '128': 0.02927228454196891,\n",
       " '129': -0.0015232707961472375,\n",
       " '12a': -0.37727829959988196,\n",
       " '12hr': 0.0014523764362434778,\n",
       " '12m': -0.002121862074273293,\n",
       " '12mm': 0.008760077161792878,\n",
       " '12nd': 0.009741051046802887,\n",
       " '12p': -0.0012402625890814995,\n",
       " '12th': -0.23946220386640565,\n",
       " '12x': -0.001225305820725869,\n",
       " '12yr': -0.0010296121567763877,\n",
       " '12yrs': 0.03517763189039841,\n",
       " '13': 0.33902888993074237,\n",
       " '130': 0.0918658635621489,\n",
       " '130000': 0.0016720637575808146,\n",
       " '1300s': 0.07445336707644981,\n",
       " '131': 0.015675278079567204,\n",
       " '1318': -0.013408536563561595,\n",
       " '132': -0.020669803788745608,\n",
       " '133': 0.0208479856891102,\n",
       " '134': 0.07138636176179272,\n",
       " '135': 0.0538951922938123,\n",
       " '135m': -0.00154532309962204,\n",
       " '136': -0.03269314994428463,\n",
       " '137': 0.14044505758783524,\n",
       " '138': -0.08030851882170846,\n",
       " '13848': 0.0032514679103220192,\n",
       " '139': 0.039432564115116996,\n",
       " '13itching': -0.0015139446054689837,\n",
       " '13s': 0.1478891766802083,\n",
       " '13th': 0.11477895049075491,\n",
       " '14': 0.31059159419389315,\n",
       " '140': 0.004957589033877233,\n",
       " '1408': -0.05252252764651841,\n",
       " '140hp': -0.002250302087575607,\n",
       " '141': -0.0007703530307560272,\n",
       " '1415': 0.007132476883329517,\n",
       " '1416': -0.00786117981889512,\n",
       " '142': 1.747705019830479e-05,\n",
       " '143': -0.002389269561134569,\n",
       " '1433421': -0.0365158254773412,\n",
       " '144': -0.04549751490783517,\n",
       " '145': -0.16879879696339936,\n",
       " '1453': 0.05540874537661847,\n",
       " '1454': -0.1600637939062617,\n",
       " '145th': 0.016083397745221543,\n",
       " '146': -0.00013414745826566027,\n",
       " '147': -0.20627110154971556,\n",
       " '1470': 0.004128875106757578,\n",
       " '1473': -0.005420954849007642,\n",
       " '1479': -0.02995956002352625,\n",
       " '148': 0.08542981208402461,\n",
       " '149': -0.07201093960771524,\n",
       " '1492': -0.008404040279430846,\n",
       " '14a': 0.0638607504713686,\n",
       " '14ieme': 0.0004461435183989983,\n",
       " '14m': -0.0008657202764421375,\n",
       " '14s': -0.008542182317560081,\n",
       " '14th': 0.5687248091091868,\n",
       " '14yr': -0.0012063703113183533,\n",
       " '14ème': 0.014989423337662821,\n",
       " '15': 0.0851155033110849,\n",
       " '150': -0.6212613857961163,\n",
       " '1500': -0.24260357365993043,\n",
       " '15000': -0.008385856735200545,\n",
       " '1500b': 0.07124131471287828,\n",
       " '1500s': -0.07246416240897396,\n",
       " '150_worst_cases_of_nepotism': -0.0014112487948115065,\n",
       " '150k': -0.22695606926806358,\n",
       " '150th': 0.04917343300709362,\n",
       " '151': -0.0030190357168981214,\n",
       " '152': 0.08359332758842991,\n",
       " '1532': -0.00042003958023072006,\n",
       " '1547': -0.04520378087068966,\n",
       " '155': 0.10192723229669157,\n",
       " '155ºf': -0.001066103132207286,\n",
       " '156': -0.0007792395026432686,\n",
       " '157': 0.014563295300045484,\n",
       " '158': 0.020401999887966076,\n",
       " '1588': -0.10877621410001338,\n",
       " '1594': 0.0016278116257963317,\n",
       " '1596': 0.0021765456335730068,\n",
       " '1598': 0.0015746683262642305,\n",
       " '15am': 0.04489284054385354,\n",
       " '15apr08': 0.00986906692768033,\n",
       " '15ft': -0.04364159812117802,\n",
       " '15k': -0.0010056042096773465,\n",
       " '15mins': 0.19909098487798016,\n",
       " '15minutes': -0.0016930087255951948,\n",
       " '15mts': -0.0018896512780232396,\n",
       " '15pa': 0.0011699033489497737,\n",
       " '15pm': -0.1320938995557751,\n",
       " '15s': -0.0009588219894880223,\n",
       " '15th': 0.22842289812141806,\n",
       " '16': 0.5501550800862968,\n",
       " '160': -0.014929553057712803,\n",
       " '1600': -0.034516210708414485,\n",
       " '1600s': -0.0559892853220526,\n",
       " '1602': -0.003200510297040908,\n",
       " '1604': -0.001159874040836828,\n",
       " '1606': -0.001159874040836828,\n",
       " '160lbs': -0.0012050620450337328,\n",
       " '161': 0.015188646341239155,\n",
       " '1610': -0.4540974161977144,\n",
       " '1611': 0.022071093519069027,\n",
       " '162': -0.026161236854657457,\n",
       " '1620': -0.03943095113888965,\n",
       " '1621': 0.012778377083275136,\n",
       " '163': -0.11174791383841191,\n",
       " '164': -0.012240498805379415,\n",
       " '1647': -0.07668745370447107,\n",
       " '165': 0.029593200579250224,\n",
       " '166': 0.0011998078170931267,\n",
       " '1660s': 0.0222201247507471,\n",
       " '167': -0.03632105272173745,\n",
       " '1679': -0.10828934981238698,\n",
       " '168': -0.1907243413560998,\n",
       " '1683': -0.000453480789569389,\n",
       " '1690': 0.0011294358335685146,\n",
       " '1692': -0.11817411614039139,\n",
       " '16a': 0.05337024164573931,\n",
       " '16b': 0.05337024164573931,\n",
       " '16k': -0.004905977494702863,\n",
       " '16mm': 0.4904819595299407,\n",
       " '16s': -0.11396116773661465,\n",
       " '16th': 0.1549580344225448,\n",
       " '16x9': 0.003156939757265604,\n",
       " '16ème': 0.0055199679742952345,\n",
       " '16éme': 0.0004744333310551748,\n",
       " '17': 0.36193973083531195,\n",
       " '170': 0.081539126320578,\n",
       " '1700': -0.01825315434698778,\n",
       " '1700s': 0.0038471047453951827,\n",
       " '1701': -0.012195288149736805,\n",
       " '1709': 0.05816734298665496,\n",
       " '1709s': -0.0004330004994778062,\n",
       " '170x': -0.07668745370447107,\n",
       " '171': 0.20835671039653625,\n",
       " '1710': -0.002021241328583306,\n",
       " '1720': -0.07668745370447107,\n",
       " '175': -0.00039898868943027835,\n",
       " '1754': -0.07367332014102108,\n",
       " '1755': -0.22143492507870852,\n",
       " '1758': -0.07367332014102108,\n",
       " '1759': -0.14796947295736415,\n",
       " '1763': -0.07367332014102108,\n",
       " '177': -0.06446571173265399,\n",
       " '1775': -0.045978558942093545,\n",
       " '1776': -0.20328468424984755,\n",
       " '1780s': 0.0013809511188778148,\n",
       " '1789': 0.02294846891831443,\n",
       " '1790': -0.05715137697862433,\n",
       " '1792': -0.014345217753010191,\n",
       " '1793': 0.0009070369279644385,\n",
       " '1794': -0.03868121188724294,\n",
       " '1798': 0.07928234279791531,\n",
       " '17million': -0.000734175747084617,\n",
       " '17th': -0.2479143353707853,\n",
       " '17yo': 0.0024594904978019064,\n",
       " '18': 0.3151137494476717,\n",
       " '180': 0.5575389089329198,\n",
       " '1800': -0.5299171383681893,\n",
       " '1800s': -0.16864324625163965,\n",
       " '1801': 0.00044136812437936285,\n",
       " '180d': -0.00524517593310782,\n",
       " '180s': -0.0035066310583899305,\n",
       " '181': 0.0014637688393840725,\n",
       " '1812': 0.0005065184753096101,\n",
       " '1813': 0.0005555543004979109,\n",
       " '18137': -0.05067264368492464,\n",
       " '1814': 0.1267464480349549,\n",
       " '1816': 0.00476933286161283,\n",
       " '1817': -0.002477701973150295,\n",
       " '182': 0.003002122205053328,\n",
       " '1820': -0.1133248475192912,\n",
       " '1824': -0.001187619970782866,\n",
       " '1829': 0.05816734298665496,\n",
       " '183': -0.09849778601033127,\n",
       " '1830': 0.3646634392051535,\n",
       " '1832': 0.05773275350491986,\n",
       " '1836': 0.07494416555598575,\n",
       " '1837': -0.08950585842490816,\n",
       " '1838': 0.07410090688890872,\n",
       " '1839': 0.003231381643554227,\n",
       " '1840': -0.10002751622411338,\n",
       " '1840s': -0.1446094784753246,\n",
       " '1841': 0.03587886188946707,\n",
       " '1842': 0.0008564073338365773,\n",
       " '1844': 0.00044136812437936285,\n",
       " '1845': 0.000771342675947996,\n",
       " '1846': 0.042642317841006236,\n",
       " '1847': 0.0732387529675182,\n",
       " '185': 0.14852869631031815,\n",
       " '1850': 0.03481706388282351,\n",
       " '1850ies': 0.0017913459344124176,\n",
       " '1850s': 0.11220540836791297,\n",
       " '1852': 0.003409473213184474,\n",
       " '1853': 0.0709334421734687,\n",
       " '1854': 0.07518788572195358,\n",
       " '1855': 0.07410090688890872,\n",
       " '1857': 0.0007548535894475018,\n",
       " '1858': 0.02220457690323645,\n",
       " '1859': 0.04132618788756087,\n",
       " '1860': 0.00012211325239525582,\n",
       " '1860s': -0.04276931217129337,\n",
       " '1861': 0.15444697063565724,\n",
       " '1862': 0.10089320400013031,\n",
       " '1863': 0.006165420239855969,\n",
       " '1864': 0.03410370476060846,\n",
       " '1865': -0.16517712323098,\n",
       " '1866': 0.007284569245657337,\n",
       " '1867': -0.0012692438020641334,\n",
       " '1868': -0.18483235368288045,\n",
       " '1869': 0.0032514679103220192,\n",
       " '187': 0.003684827324703168,\n",
       " '1870': 0.0043733049396829145,\n",
       " '1870s': 0.008078985788938623,\n",
       " '1871': -0.019208472979501578,\n",
       " '1872': -0.022621425643974284,\n",
       " '1873': 0.032611946637198,\n",
       " '1874': -0.06329153918923779,\n",
       " '1875': 0.0007031971191329563,\n",
       " '1876': -0.008920411889482812,\n",
       " '1879': 0.0005317551463142934,\n",
       " '188': -0.011484048878333254,\n",
       " '1880': -0.005838900776546981,\n",
       " '1880s': 0.0027891415915878666,\n",
       " '1881': 0.22556192791854673,\n",
       " '1882': -0.14569442671098232,\n",
       " '1886': -0.016756722393974088,\n",
       " '1887': 0.000429708882339982,\n",
       " '1888': 0.16453947246533504,\n",
       " '1889': 0.0015053085386510926,\n",
       " '188o': 0.0367277955471459,\n",
       " '1890': -0.09845952738690283,\n",
       " '1890s': -0.2111113226328502,\n",
       " '1891': 0.21484817463871836,\n",
       " '1892': 0.0037511939843239634,\n",
       " '1893': 0.010862934853474868,\n",
       " '1894': 0.05131653346890558,\n",
       " '1895': 0.2769953611937385,\n",
       " '1896': -0.10677455589074779,\n",
       " '1897': -0.1246004929469472,\n",
       " '1898': 0.3546551831242339,\n",
       " '1899': -0.07510974397094701,\n",
       " '18a': 0.011305062256371779,\n",
       " '18s': -0.0067131239963836836,\n",
       " '18th': -0.09291013188944564,\n",
       " '18year': 0.059876792577412824,\n",
       " '19': 0.12427033414373925,\n",
       " '1900': 0.3883179156227126,\n",
       " '1900s': 0.08258058568114107,\n",
       " '1901': -0.08343624301468022,\n",
       " '1902': -0.16141669607271217,\n",
       " '1903': -0.07425727635182874,\n",
       " '1904': 0.013933718989774052,\n",
       " '1905': -0.1322141708549212,\n",
       " '1906': 0.011033896959032183,\n",
       " '1907': -0.05822786655861384,\n",
       " '1908': 0.0012026691813241256,\n",
       " '1909': 0.04100149101403969,\n",
       " '1910': 0.26079935364230167,\n",
       " '1910s': -0.003601479316826466,\n",
       " '1911': -0.06654185435527901,\n",
       " '1912': 0.21321952414340273,\n",
       " '1913': 0.3505677515671256,\n",
       " '1914': -0.5367837484743126,\n",
       " '1915': -0.34574756779423665,\n",
       " '1916': -0.001172944403766414,\n",
       " '1917': 0.3742593698970179,\n",
       " '1918': -0.003581820094061841,\n",
       " '1919': -0.1459710395738174,\n",
       " '192': -0.000981994544140205,\n",
       " '1920': -0.2887448016679701,\n",
       " '1920ies': 0.005995094117814236,\n",
       " '1920s': 0.19136119416384068,\n",
       " '1921': 0.18688373877777822,\n",
       " '1922': -0.11708328325949599,\n",
       " '1923': -0.13615121964706337,\n",
       " '1924': -0.19363827610215928,\n",
       " '1925': 0.032356381368506174,\n",
       " '1926': 0.14134668268645809,\n",
       " '1927': -0.021125083643373923,\n",
       " '1928': -0.004518261431359688,\n",
       " '1929': -0.12588862549402877,\n",
       " '1930': -0.3529891730903037,\n",
       " '1930ies': 0.005995094117814236,\n",
       " '1930s': -0.3573894887741043,\n",
       " '1931': 0.41346004154661564,\n",
       " '1932': 0.14781128592067266,\n",
       " '1933': 0.2719494681970837,\n",
       " '1934': 0.605751720870506,\n",
       " '1935': -0.13392085490010433,\n",
       " '1936': 0.4869130916215725,\n",
       " '1937': 0.1604643427007163,\n",
       " '1938': -0.003108135826165028,\n",
       " '1939': -0.5447605065239419,\n",
       " '193o': 0.0367277955471459,\n",
       " '194': -0.16226045042562937,\n",
       " '1940': 0.27812366302526803,\n",
       " '1940s': -0.23631935804099743,\n",
       " '1941': -0.1716258054399061,\n",
       " '1942': -0.33277206105842067,\n",
       " '1943': 0.19055741160744727,\n",
       " '1944': 0.23481860802241614,\n",
       " '1945': 0.38023745545839427,\n",
       " '1946': 0.03843716146788761,\n",
       " '1947': 0.8736319319875077,\n",
       " '1948': -0.23385836415620842,\n",
       " '1949': 0.10030927083021401,\n",
       " '1949er': -0.0005199230122163466,\n",
       " '195': 0.001433789708953414,\n",
       " '1950': 0.27464617895477283,\n",
       " '1950ies': -0.10174419754355744,\n",
       " '1950s': -0.21849512447046304,\n",
       " '1951': 0.16843412612657702,\n",
       " '1952': 0.2703569656475225,\n",
       " '1953': -0.13572274379491253,\n",
       " '1954': -0.40477333889968564,\n",
       " '19546': -0.08412597099210666,\n",
       " '1955': -0.6122687690508946,\n",
       " '1956': -0.03624752272510424,\n",
       " '1957': 0.07523647157229253,\n",
       " '1958': 0.4888453736216925,\n",
       " '1959': 0.70194833468886,\n",
       " '196': 0.08364471697708965,\n",
       " '1960': -0.5405147779810718,\n",
       " '1960s': -0.2073140628887767,\n",
       " '1961': -0.2190197097503185,\n",
       " '1961s': -0.0006870630335565312,\n",
       " '1962': -0.30819693760205097,\n",
       " '1963': -0.013006350884015538,\n",
       " '1964': -0.4427065792482567,\n",
       " '1965': -0.3730738088407673,\n",
       " '1966': 0.3931693832129195,\n",
       " '1967': 0.40084289961023056,\n",
       " '1968': -0.14129829630018975,\n",
       " '1969': -0.2350625738279432,\n",
       " '197': -0.10941373989481024,\n",
       " '1970': -0.20727979615537215,\n",
       " '1970ies': 0.09992222471634954,\n",
       " '1970s': -0.3335684683428175,\n",
       " '1971': -0.25734056524669896,\n",
       " '1972': 0.02263685381671651,\n",
       " '1973': -0.27731900581195734,\n",
       " '1974': -0.7977701059383112,\n",
       " '1975': -0.689141570231942,\n",
       " '1976': 0.33663492711005605,\n",
       " '1977': -0.7819527873196687,\n",
       " '1978': 0.3041501122508539,\n",
       " '19784444': 0.023167157496317058,\n",
       " '1979': 0.033075340188074516,\n",
       " '19796': -0.22437445724464375,\n",
       " '197o': 0.0367277955471459,\n",
       " '197something': -0.0026677948352899715,\n",
       " '198': 0.006251286906481743,\n",
       " '1980': -0.09096535015982589,\n",
       " '1980ies': -0.008139751895481129,\n",
       " '1980s': -0.19902247138570242,\n",
       " '1980sness': 0.03360571318288472,\n",
       " '1981': 0.2378984722471624,\n",
       " '1982': 0.4755678090529461,\n",
       " '1982s': -0.0006870630335565312,\n",
       " '1983': 0.058646340112236864,\n",
       " '1984': 0.10717673647754775,\n",
       " '1984ish': 0.0006028264638343893,\n",
       " '1985': 0.5867064999329602,\n",
       " '1986': 0.14946960390862626,\n",
       " '1987': 0.29461398425572166,\n",
       " '1988': -0.11579352971927957,\n",
       " '1989': 0.2885039619464976,\n",
       " '199': -0.025687960433576944,\n",
       " '1990': 0.18302300023466775,\n",
       " '1990ies': -0.0009721728212979714,\n",
       " '1990s': -0.3311450654197111,\n",
       " '1991': -0.2668667557676349,\n",
       " '1992': -0.2891782101751791,\n",
       " '1993': -0.15010631875029348,\n",
       " '1994': -0.30981870693803437,\n",
       " '1995': -0.09530568566326413,\n",
       " '1995s': -0.07521030706201018,\n",
       " '1996': 0.3272242154603749,\n",
       " '1997': 0.1989688510326222,\n",
       " '1998': -0.3220508486000758,\n",
       " '1999': -0.5374582305585901,\n",
       " '19k': 0.07189588613241409,\n",
       " '19sep2009': 0.03587886188946707,\n",
       " '19th': -0.11089731282643019,\n",
       " '19thc': 0.024440336241308713,\n",
       " '19zkkeonjpo': 0.0644868744632194,\n",
       " '1am': -0.011139747469180287,\n",
       " '1and': -0.017599526276310406,\n",
       " '1ch': 0.02899884765065644,\n",
       " '1d': -0.11912504676352384,\n",
       " '1h': -0.004132387581652132,\n",
       " '1h30': 0.002458878851968909,\n",
       " '1h40': 0.007684579156271705,\n",
       " '1h40m': -0.017375540580364494,\n",
       " '1h45': -0.0015974345665755267,\n",
       " '1h53': 0.008178244423087101,\n",
       " '1hour': -0.03875438352688715,\n",
       " '1hour17min': -0.0031081042888805722,\n",
       " '1hr': -0.08261293630942311,\n",
       " '1m': 0.07768135416656315,\n",
       " '1million': -0.08911948468099809,\n",
       " '1min': -0.0016318594646127652,\n",
       " '1mln': -0.023415300014899262,\n",
       " '1o': 0.0015156365889265717,\n",
       " '1point': -0.003134637445632683,\n",
       " '1s': 0.22562700136954722,\n",
       " '1st': -0.565665261922543,\n",
       " '1tv': -0.09998259458091964,\n",
       " '1v': 0.08707794011234918,\n",
       " '1½': 0.0014965955927445525,\n",
       " '20': -0.07411221981380778,\n",
       " '200': -0.0976458683403801,\n",
       " '2000': -0.38851466223875847,\n",
       " '20000': -0.06724482313665922,\n",
       " '200000': -0.029388345366129543,\n",
       " '20001': 0.07893826134872886,\n",
       " '2000ad': 0.00568380016329262,\n",
       " '2000km': -0.002485441975425295,\n",
       " '2000s': -0.2667094854142894,\n",
       " '2001': 0.3416479891294071,\n",
       " '2002': -0.2845420202446109,\n",
       " '2003': -0.1371134654277903,\n",
       " '2004': -0.17779011578923978,\n",
       " '2005': -0.30031688594293005,\n",
       " '2006': 0.3113614583019096,\n",
       " '20061114': -0.001251841730812011,\n",
       " '2007': -0.2574526222756102,\n",
       " '2008': -0.17791808864506914,\n",
       " '20080107': -0.001251841730812011,\n",
       " '2009': -0.4624794529410821,\n",
       " '200911290000': 0.0528883525486534,\n",
       " '200ft': -0.001579215007707652,\n",
       " '200l': 0.0006090141704072229,\n",
       " '200mph': -0.08629167318166742,\n",
       " '200th': 0.04970231501542116,\n",
       " '201': 0.008747668196964202,\n",
       " '2010': 0.2438302638605102,\n",
       " '2011': 0.22029934443989374,\n",
       " '2012': -0.3358423946471581,\n",
       " '2013': -0.0004669262332615016,\n",
       " '2015': -0.005874849061198446,\n",
       " '2017': 0.11897050529799605,\n",
       " '2019': 0.000536022951109166,\n",
       " '2020': -0.11534220073699047,\n",
       " '2021': 0.003373821901661289,\n",
       " '2022': 0.2226614376258287,\n",
       " '2023': 0.04415297715565705,\n",
       " '2024': -0.0051773392664711875,\n",
       " '2028': -0.07134992822974277,\n",
       " '2030': 0.13563637969978393,\n",
       " '2031': -0.0007129658593668576,\n",
       " '2032': 0.035961776808031753,\n",
       " '2033': 0.03390959456117083,\n",
       " '2035': 0.0022307111396388008,\n",
       " '2036': 0.003519507147169294,\n",
       " '2038': 0.004219455838714645,\n",
       " '204': -0.035489995676763225,\n",
       " '2040': 0.03648025372443974,\n",
       " '2044': 0.09967710303897848,\n",
       " '2045': -0.00037755663039676363,\n",
       " '2046': 0.030508495810445756,\n",
       " '2047': 0.22116180590238196,\n",
       " '2050': 0.0006422794821765794,\n",
       " '2054': 0.11877884239712479,\n",
       " '2055': -0.09559432111749777,\n",
       " '206': -0.2054993649673518,\n",
       " '2060': -0.008628810424624126,\n",
       " '2069': 0.0015271553968360663,\n",
       " '2084': 0.0033502909864839016,\n",
       " '209': -0.002035583237019964,\n",
       " '2090': 0.0004961136884500103,\n",
       " '20c': 0.09624856053975744,\n",
       " '20g': -0.0006419895251395317,\n",
       " '20ies': -0.00047184268853562813,\n",
       " '20k': 0.1412600885791301,\n",
       " '20m': -0.0023722478381908805,\n",
       " '20mins': -0.12682454186073416,\n",
       " '20mm': -0.0018575736479144933,\n",
       " '20mn': -0.019333665558625056,\n",
       " '20p': -0.03220444359017619,\n",
       " '20perr': 0.014147088401387316,\n",
       " '20pm': -0.0005421476983373994,\n",
       " '20s': -0.27899831364733374,\n",
       " '20th': 0.16193318829871195,\n",
       " '20widow': 0.014147088401387316,\n",
       " '20year': -0.0038093582415912753,\n",
       " '20yrs': 0.014156614094089151,\n",
       " '21': 0.3795757822867118,\n",
       " '210': -0.023808833596334834,\n",
       " '2100': -0.015107002096248988,\n",
       " '2112': 0.12396959479592397,\n",
       " '211772166650071408': 0.10129911418769004,\n",
       " '2136': -0.11634646014365178,\n",
       " '2151': 0.0014641743478050434,\n",
       " '216': 0.019988026698344385,\n",
       " '21699': -0.000611049551325534,\n",
       " '21849889': 0.0011561876371253316,\n",
       " '21849890': 0.0011561876371253316,\n",
       " '21849907': 0.0011561876371253316,\n",
       " '219': 0.007361892754849167,\n",
       " '21st': 0.3385820393401036,\n",
       " '22': -0.390773061548728,\n",
       " '220': 0.0031590309362465956,\n",
       " '2200': 0.102599581112166,\n",
       " '221': 0.05369478637571929,\n",
       " '2210': -0.15509324681143177,\n",
       " '22101': 0.05332474790916586,\n",
       " '222': -0.04829667850004765,\n",
       " '223': 0.007192033979999359,\n",
       " '225': 0.02237525811937139,\n",
       " '2257': 0.004113300737551034,\n",
       " '227': 0.19693193784192617,\n",
       " '227th': 0.0019384426552618095,\n",
       " '229': 0.000378816436554286,\n",
       " '22d': -0.002331747771293448,\n",
       " '22h45': -0.0018591081138084194,\n",
       " '22m': 0.0007123111189627615,\n",
       " '22mins': -0.0017307538890962363,\n",
       " '22nd': 0.03502477340099099,\n",
       " '23': 0.17091846443979092,\n",
       " '230': -0.00498158586678414,\n",
       " '230am': 0.09214070592797963,\n",
       " '230lbs': -0.0012050620450337328,\n",
       " '230mph': 0.0013088733512990707,\n",
       " '231': -0.0018342818152977812,\n",
       " '232': -0.0018342818152977812,\n",
       " '233': -0.08794070623472013,\n",
       " '234': -0.11634646014365178,\n",
       " '2345': 0.0283735807787337,\n",
       " '2346': 0.02766437179607101,\n",
       " '235th': -0.004706253212203692,\n",
       " '236': -0.005027330347996492,\n",
       " '237': 0.005064841929093973,\n",
       " '2370bce': -0.11634646014365178,\n",
       " '238': -0.0023738530321158412,\n",
       " '23d': -0.002331747771293448,\n",
       " '23rd': -0.047744115704002894,\n",
       " '24': 0.22759156923174098,\n",
       " '240': 0.003518397703254499,\n",
       " '2400': 0.0008275978737866053,\n",
       " '240z': -0.0023386570613434664,\n",
       " '241': -0.11559631204530559,\n",
       " '2412': -0.012829646650533736,\n",
       " '243': 0.003213938075735735,\n",
       " '248': 0.0012858177665089944,\n",
       " '2480': 0.0008275978737866053,\n",
       " '249': -0.036337659392023144,\n",
       " '24k': 0.004930580929652066,\n",
       " '24p': -0.0017439620504312119,\n",
       " '24th': 0.16500782429872554,\n",
       " '25': -0.30171670518742083,\n",
       " '250': 0.5072816229886433,\n",
       " '2500': 0.006825514653717745,\n",
       " '2505': 0.21868418569306886,\n",
       " '2506': 0.00079729702564398,\n",
       " '2520': -0.0023177373122994123,\n",
       " '2525': 0.08326704067113906,\n",
       " '25c': -0.0005930433660778469,\n",
       " '25k': 0.02949465307123813,\n",
       " '25million': -0.0024419511991544992,\n",
       " '25min': -0.011678602202521112,\n",
       " '25mins': -0.0021921173817761506,\n",
       " '25s': -0.0012063703113183533,\n",
       " '25th': -0.1607258794848642,\n",
       " '25yo': 0.0007631919679310835,\n",
       " '26': 0.24004571564114216,\n",
       " '260': 0.02369950988361147,\n",
       " '2600': -0.0014554386527205958,\n",
       " '261k': -0.009154032106943417,\n",
       " '262': 0.0005319638377789802,\n",
       " '2642': -0.1246004929469472,\n",
       " '265': -0.0006097759304900448,\n",
       " '269': 0.10029127336399993,\n",
       " '26th': -0.24865940724849928,\n",
       " '27': 0.026429169244864787,\n",
       " '270': -0.013417421522583049,\n",
       " '2700': -0.010732378604493739,\n",
       " '272': 0.0021849146823554907,\n",
       " '273': 0.0021849146823554907,\n",
       " '2737487': -0.14738373018341183,\n",
       " '274': -0.15685775088362305,\n",
       " '275': -0.22598050577088657,\n",
       " '2772': -0.0020466851725887756,\n",
       " '278': -0.0009592022603840146,\n",
       " '27th': -0.08334384773636622,\n",
       " '28': -0.18775744937170188,\n",
       " '280': -0.010240892495977736,\n",
       " '285': -0.0008287825268470632,\n",
       " '288': -0.0008184588055320796,\n",
       " '28s': 0.010169557626561417,\n",
       " '28th': 0.22058382999308962,\n",
       " '29': -0.19147040139559918,\n",
       " '2900': -0.000595424911605541,\n",
       " '2900s': -0.000595424911605541,\n",
       " '29s': -0.0214828133954578,\n",
       " '29th': -0.15831638959126834,\n",
       " '2am': -0.04520893097756613,\n",
       " '2c': -0.0005914008966633498,\n",
       " '2cents': -0.020258772893509882,\n",
       " '2cops': -0.0725685041803854,\n",
       " '2cvs': 0.002743755409651146,\n",
       " '2d': -0.15198294363424877,\n",
       " '2fast': 0.06521385534033679,\n",
       " '2ftm': -0.0007805305849966754,\n",
       " '2furious': 0.06521385534033679,\n",
       " '2h': -0.004460638511866555,\n",
       " '2h30': 0.0007486724635306388,\n",
       " '2hour': -0.033522659653293825,\n",
       " '2hours': 0.0024987991000993705,\n",
       " '2hr': -0.006557737722297695,\n",
       " '2hrs': -0.06623456931817363,\n",
       " '2in': -0.005149845204117455,\n",
       " '2inch': -0.26521492517536144,\n",
       " '2k': 0.038028175350108495,\n",
       " '2m': -0.0009864900109490327,\n",
       " '2min': 0.0576244305611411,\n",
       " '2months': -0.009618102858189976,\n",
       " '2more': -0.0030207417370047805,\n",
       " '2nd': 0.5515582401371445,\n",
       " '2oo4': 0.0367277955471459,\n",
       " '2oo5': 0.0367277955471459,\n",
       " '2pac': -0.2091882898459143,\n",
       " '2pm': 0.002391420379645746,\n",
       " '2s': 0.06352859052606265,\n",
       " '2x': 0.02394696130363475,\n",
       " '2x4': -0.0020177998369399312,\n",
       " '2½': -0.0006066956759165143,\n",
       " '30': 0.1266605872569947,\n",
       " '300': -0.4278079364893353,\n",
       " '3000': -0.5768118938918775,\n",
       " '300ad': -0.04409939887728144,\n",
       " '300lb': -0.0008882861466781275,\n",
       " '300lbs': -0.0006717768114741016,\n",
       " '300mln': 0.002538364380141758,\n",
       " '303': 0.044495842225712415,\n",
       " '305': 0.037094705233738055,\n",
       " '3064': 0.22116180590238196,\n",
       " '30am': 0.09816925912730436,\n",
       " '30feet': -0.04251025828705107,\n",
       " '30ft': -0.0054973489093927295,\n",
       " '30ish': 0.0005852582189288703,\n",
       " '30k': -0.0013657948205117796,\n",
       " '30lbs': 0.0006286617826880143,\n",
       " '30min': 0.021281046130562024,\n",
       " '30mins': -0.04880484279981162,\n",
       " '30minutes': -0.020258772893509882,\n",
       " '30mph': -0.0004593304305738864,\n",
       " '30pm': 0.10029901898083023,\n",
       " '30s': -0.4181162783370744,\n",
       " '30something': 0.0007851706097987953,\n",
       " '30th': 0.0022988542789759477,\n",
       " '31': -0.4405962324587691,\n",
       " '310': 0.03894378658001526,\n",
       " '315': -0.001278422369964368,\n",
       " '31st': -0.01048108791654944,\n",
       " '32': 0.3183997946575858,\n",
       " '320': 0.10414965753597508,\n",
       " '3200': 0.0055144372678203385,\n",
       " '320x180': -0.00046764031703346324,\n",
       " '327': 0.0007570747350259022,\n",
       " '32lb': -0.00875352418241956,\n",
       " '32nd': 0.0008485187169653713,\n",
       " '32x': -0.12333687362746042,\n",
       " '33': 0.011140855311008906,\n",
       " '330am': 0.09590545891511466,\n",
       " '333': -0.2945507919245798,\n",
       " '336th': -0.004426375620334114,\n",
       " '33m': -0.0009574528619173733,\n",
       " '33rd': 0.0004534231133191186,\n",
       " '34': -0.07911269961777857,\n",
       " '345': 0.0024587834261701387,\n",
       " '346': -0.0010972544170632552,\n",
       " '347': 0.074692723417462,\n",
       " '34c': -0.017278944071269762,\n",
       " '34th': 0.07467157275998455,\n",
       " '35': -0.0022623304340730144,\n",
       " '350': 0.3779258248962811,\n",
       " '3500': -0.05332835427747243,\n",
       " '351': 0.05409726729362206,\n",
       " '3516': 0.01564723142403738,\n",
       " '356': -0.05852669865985714,\n",
       " '357': 0.08596709379151085,\n",
       " '358': -0.03891047843842381,\n",
       " '35c': 0.02997375397666699,\n",
       " '35mins': 0.004864088508241721,\n",
       " '35mm': -0.021420892167979995,\n",
       " '35pm': -0.0010511947387281846,\n",
       " '35s': 0.0016615441511565088,\n",
       " '35th': -0.08474969478475045,\n",
       " '36': 0.27198732193083053,\n",
       " '360': -0.6895329871127841,\n",
       " '360remake': 0.10098944750325593,\n",
       " '360s': -0.02844633778809616,\n",
       " '36310': -0.011208994015733548,\n",
       " '365': 0.0036490432859816735,\n",
       " '367': -0.00042665545744769665,\n",
       " '36th': 0.03064005055964651,\n",
       " '37': -0.3389500890770444,\n",
       " '370': 0.029472004572209068,\n",
       " '3714': -0.036948962463938965,\n",
       " '372': 0.0017958711825288944,\n",
       " '372nd': -0.003336800596943288,\n",
       " '373': 0.001064231805665944,\n",
       " '378': 0.0005368464893632474,\n",
       " '37ad': -0.00046355724729525894,\n",
       " '37c': -0.021469602740320667,\n",
       " '37pm': 0.0017337884066618786,\n",
       " '38': 0.15518292901566816,\n",
       " '3850': -0.002021241328583306,\n",
       " '38k': -0.22695606926806358,\n",
       " '38s': -0.00161268992763688,\n",
       " '38th': 0.0019131547629947854,\n",
       " '39': -0.4650051928107674,\n",
       " '392': 0.04116715563244654,\n",
       " '395': -0.10368607309827282,\n",
       " '39811': -0.149487772360124,\n",
       " '39d': -0.024734651535067955,\n",
       " '39th': 0.0010122460026466221,\n",
       " '3am': 0.022614105322808702,\n",
       " '3bs': -0.0036150011691218394,\n",
       " '3d': -0.04950864485028074,\n",
       " '3dfx': -0.01941283725325102,\n",
       " '3dvd': -0.12290608028159215,\n",
       " '3h': 0.028234570888778787,\n",
       " '3hr': 0.0006165757906986943,\n",
       " '3k': 0.15436472407831445,\n",
       " '3m': -0.002390210370002077,\n",
       " '3mins': -0.003034302804563778,\n",
       " '3p': -0.0003516488385744916,\n",
       " '3p0': 0.0004498285520037235,\n",
       " '3pm': -0.0005095418818094169,\n",
       " '3po': 0.037833531202511324,\n",
       " '3rd': 0.31538920397398856,\n",
       " '3rds': -0.05327147498309777,\n",
       " '3rg': -0.000976982647540191,\n",
       " '3s': -0.032311751628414695,\n",
       " '3th': 0.011691836774315307,\n",
       " '3who': 0.0012462165587619955,\n",
       " '3x': 0.09508043351544083,\n",
       " '40': 0.18340816690241563,\n",
       " '400': 0.0016009256122348295,\n",
       " '4000': -0.09021060374469494,\n",
       " '40000': 0.12271994896839354,\n",
       " '400000': -0.002671514155016001,\n",
       " '400lb': -0.00048282417989967466,\n",
       " '401k': -0.00894473214769394,\n",
       " '406': 0.008341500925657528,\n",
       " '409': 0.09226454362357014,\n",
       " '40am': -0.1196894337331217,\n",
       " '40k': -0.001025430957416501,\n",
       " '40kms': -0.00045670232661535777,\n",
       " '40min': -0.0023726773989451366,\n",
       " '40mins': -0.2283553165044608,\n",
       " '40mph': -0.002250302087575607,\n",
       " '40s': -0.08521741135758666,\n",
       " '40something': -0.003752754420113805,\n",
       " '40th': -0.014166679790970284,\n",
       " '40yr': 0.012738741391708108,\n",
       " '41': 0.0397846066297577,\n",
       " '42': 0.01614358630955989,\n",
       " '420': -0.08201501543221665,\n",
       " '425': -0.0008426699442305741,\n",
       " '426': -0.018005932698933094,\n",
       " '428': 0.004078900141115082,\n",
       " '42m': -0.004737177394442254,\n",
       " '42nd': -0.15179099092822537,\n",
       " '43': 0.04037669339981752,\n",
       " '430': -0.004743846698482569,\n",
       " '44': -0.20996580458098124,\n",
       " '440': 0.010269885530977081,\n",
       " '4400': 0.002526075001755609,\n",
       " '44c': 0.02997375397666699,\n",
       " '44megabytes': -0.0004465143099569109,\n",
       " '44yrs': -0.0012935194213612984,\n",
       " '45': -0.3342506293001645,\n",
       " '450': -0.04637494868875921,\n",
       " '4500': -0.05272138285060841,\n",
       " '451': -0.35637130365823266,\n",
       " '454': -0.0593705801601176,\n",
       " '45am': 0.04122571830236827,\n",
       " '45ish': -0.002021241328583306,\n",
       " '45m': 0.05441240501751793,\n",
       " '45min': -0.002250302087575607,\n",
       " '45mins': -0.2883633638969002,\n",
       " '45pm': -0.08093094454775794,\n",
       " '45rpm': 0.04456306917724649,\n",
       " '45s': -0.00037510371258481386,\n",
       " '45th': -0.32872705982867284,\n",
       " '46': 0.03950128818968756,\n",
       " '469': -0.001184815310985193,\n",
       " '47': 0.04861281848340961,\n",
       " '475': -0.006435232248926761,\n",
       " '477': -0.018483727934437984,\n",
       " '47s': -0.009823444576858253,\n",
       " '48': -0.03065144729620166,\n",
       " '480p': -0.18171051515394454,\n",
       " '48hrs': -0.15632463218544085,\n",
       " '48th': -0.012755390299254488,\n",
       " '49': -0.005696067284390156,\n",
       " '498': 0.08480317322521354,\n",
       " '49er': -0.0020432419061586727,\n",
       " '49th': 0.08976432233026241,\n",
       " '4am': 0.042832785943904855,\n",
       " '4cylinder': -0.002250302087575607,\n",
       " '4eva': 0.0031528098685986382,\n",
       " '4ever': 0.13302861407649214,\n",
       " '4f': 0.0017936606121549492,\n",
       " '4h': -0.07398845819389482,\n",
       " '4hrs': -0.0003753534886954045,\n",
       " '4k': 0.038028175350108495,\n",
       " '4kids': -0.006570947139996373,\n",
       " '4m': 0.13674718537816832,\n",
       " '4out5': 0.005636140659364242,\n",
       " '4pm': 0.0015835019628420127,\n",
       " '4q2': 0.0073947267578333,\n",
       " '4th': 0.5709635577892398,\n",
       " '4times': 0.0018757088345038573,\n",
       " '4w': 0.13674718537816832,\n",
       " '4ward': -0.007912969948475986,\n",
       " '4wd': 0.0006329181331103244,\n",
       " '4x': -0.025678710815169595,\n",
       " '4x100': -0.0006189876220285347,\n",
       " '4yr': 0.00392405262841079,\n",
       " '50': -0.03510199392204515,\n",
       " '500': -0.37093264171302837,\n",
       " '5000': -0.2402390718900207,\n",
       " '500000': -0.006833313132553379,\n",
       " '500ad': -0.008030667814169926,\n",
       " '502': 0.003543092929242183,\n",
       " '505': 0.0033425237951453424,\n",
       " '50c': 0.02997375397666699,\n",
       " '50ies': -0.28605108529292306,\n",
       " '50k': 0.07046651035522553,\n",
       " '50m': 0.059427620314889816,\n",
       " '50min': -0.01601265220446797,\n",
       " '50mins': 0.0014523764362434778,\n",
       " '50p': 0.22565741188076666,\n",
       " '50s': -0.07073723989941846,\n",
       " '50th': 0.009738135618830341,\n",
       " '50usd': 0.0011754665642769006,\n",
       " '51': 0.35271061294109435,\n",
       " '5150': 0.005735277115869482,\n",
       " '517th': 0.009161454989741096,\n",
       " '51b': -0.06878010033662314,\n",
       " '51st': 0.13828504853302065,\n",
       " '52': -0.05031972059570448,\n",
       " ...}"
      ]
     },
     "execution_count": 91,
     "metadata": {},
     "output_type": "execute_result"
    }
   ],
   "source": [
    "feature_to_coef"
   ]
  },
  {
   "cell_type": "code",
   "execution_count": 81,
   "metadata": {},
   "outputs": [
    {
     "data": {
      "text/plain": [
       "array([ 0.56111058, -0.33120253, -0.00619446, ..., -0.00133529,\n",
       "        0.04512636, -0.00242875])"
      ]
     },
     "execution_count": 81,
     "metadata": {},
     "output_type": "execute_result"
    }
   ],
   "source": [
    "log_reg.coef_[0]"
   ]
  },
  {
   "cell_type": "code",
   "execution_count": 92,
   "metadata": {},
   "outputs": [
    {
     "name": "stdout",
     "output_type": "stream",
     "text": [
      "('refreshing', 1.861661176606835)\n",
      "('flawless', 1.6409255151877087)\n",
      "('hooked', 1.63709106019188)\n",
      "('excellent', 1.5776570934658056)\n",
      "('underrated', 1.5057282523754023)\n"
     ]
    }
   ],
   "source": [
    "for best_positive in sorted(\n",
    "        feature_to_coef.items(),\n",
    "        key=lambda x: x[1],\n",
    "        reverse=True)[:5]:\n",
    "    print(best_positive)"
   ]
  },
  {
   "cell_type": "code",
   "execution_count": 93,
   "metadata": {},
   "outputs": [
    {
     "ename": "NameError",
     "evalue": "name 'WordCloud' is not defined",
     "output_type": "error",
     "traceback": [
      "\u001b[1;31m---------------------------------------------------------------------------\u001b[0m",
      "\u001b[1;31mNameError\u001b[0m                                 Traceback (most recent call last)",
      "\u001b[1;32m<ipython-input-93-f54fb03cbedc>\u001b[0m in \u001b[0;36m<module>\u001b[1;34m\u001b[0m\n\u001b[1;32m----> 1\u001b[1;33m \u001b[0mWC\u001b[0m\u001b[1;33m=\u001b[0m\u001b[0mWordCloud\u001b[0m\u001b[1;33m(\u001b[0m\u001b[0mwidth\u001b[0m\u001b[1;33m=\u001b[0m\u001b[1;36m1000\u001b[0m\u001b[1;33m,\u001b[0m\u001b[0mheight\u001b[0m\u001b[1;33m=\u001b[0m\u001b[1;36m500\u001b[0m\u001b[1;33m,\u001b[0m\u001b[0mmax_words\u001b[0m\u001b[1;33m=\u001b[0m\u001b[1;36m500\u001b[0m\u001b[1;33m,\u001b[0m\u001b[0mmin_font_size\u001b[0m\u001b[1;33m=\u001b[0m\u001b[1;36m5\u001b[0m\u001b[1;33m)\u001b[0m\u001b[1;33m\u001b[0m\u001b[1;33m\u001b[0m\u001b[0m\n\u001b[0m",
      "\u001b[1;31mNameError\u001b[0m: name 'WordCloud' is not defined"
     ]
    }
   ],
   "source": []
  },
  {
   "cell_type": "code",
   "execution_count": 94,
   "metadata": {},
   "outputs": [
    {
     "ename": "ModuleNotFoundError",
     "evalue": "No module named 'word_cloud'",
     "output_type": "error",
     "traceback": [
      "\u001b[1;31m---------------------------------------------------------------------------\u001b[0m",
      "\u001b[1;31mModuleNotFoundError\u001b[0m                       Traceback (most recent call last)",
      "\u001b[1;32m<ipython-input-94-a15a84b23220>\u001b[0m in \u001b[0;36m<module>\u001b[1;34m\u001b[0m\n\u001b[1;32m----> 1\u001b[1;33m \u001b[1;32mfrom\u001b[0m \u001b[0mword_cloud\u001b[0m\u001b[1;33m.\u001b[0m\u001b[0mword_cloud_generator\u001b[0m \u001b[1;32mimport\u001b[0m \u001b[0mWordCloud\u001b[0m\u001b[1;33m\u001b[0m\u001b[1;33m\u001b[0m\u001b[0m\n\u001b[0m",
      "\u001b[1;31mModuleNotFoundError\u001b[0m: No module named 'word_cloud'"
     ]
    }
   ],
   "source": []
  },
  {
   "cell_type": "code",
   "execution_count": null,
   "metadata": {},
   "outputs": [],
   "source": []
  }
 ],
 "metadata": {
  "kernelspec": {
   "display_name": "Python 3",
   "language": "python",
   "name": "python3"
  },
  "language_info": {
   "codemirror_mode": {
    "name": "ipython",
    "version": 3
   },
   "file_extension": ".py",
   "mimetype": "text/x-python",
   "name": "python",
   "nbconvert_exporter": "python",
   "pygments_lexer": "ipython3",
   "version": "3.7.9"
  }
 },
 "nbformat": 4,
 "nbformat_minor": 5
}
